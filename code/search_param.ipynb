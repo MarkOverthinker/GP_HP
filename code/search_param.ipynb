{
 "cells": [
  {
   "cell_type": "code",
   "execution_count": 10,
   "metadata": {},
   "outputs": [],
   "source": [
    "from sklearn.datasets import load_iris\n",
    "from sklearn.model_selection import train_test_split\n",
    "from sklearn.preprocessing import StandardScaler\n",
    "from sklearn.neighbors import KNeighborsClassifier\n",
    "from sklearn.ensemble import RandomForestClassifier\n",
    "from sklearn.ensemble import GradientBoostingClassifier\n",
    "from sklearn.pipeline import Pipeline\n",
    "import numpy as np\n",
    "import pandas as pd\n",
    "import polars as pl\n",
    "import pytomlpp as toml\n",
    "import pandas as pd\n",
    "from data_preprocessing import getXY, data_normalizeation\n",
    "from sklearn.model_selection import cross_val_score\n",
    "from sklearn.svm import SVC\n",
    "from tqdm import tqdm\n",
    "from sklearn.metrics import roc_curve, auc, accuracy_score, recall_score, precision_recall_curve, average_precision_score"
   ]
  },
  {
   "cell_type": "code",
   "execution_count": 2,
   "metadata": {},
   "outputs": [],
   "source": [
    "cfg = toml.load('/home/gyli/GP_HP/cfg/feature_selection.toml')\n",
    "data_path = cfg['data_path']\n",
    "variance_filter_thres = cfg['variance_filter_thres']\n",
    "raw_x, raw_y = getXY(data_path)\n",
    "future_names = raw_x.columns\n",
    "X, y = raw_x.select(['年龄', '淋巴细胞数', '白蛋白', '活化部分凝血活酶时间', '低密度脂蛋白', '钠', '中性粒细胞数', '甘油三酯', '凝血酶原时间', '红细胞平均体积', '总胆红素']).to_pandas(), np.ravel(raw_y.to_pandas())"
   ]
  },
  {
   "cell_type": "code",
   "execution_count": 3,
   "metadata": {},
   "outputs": [
    {
     "name": "stdout",
     "output_type": "stream",
     "text": [
      "K近邻模型交叉验证结果: [0.75005031 0.60487118 0.80595813 0.77355072 0.63486312] 均值 0.7138586936267337 方差 0.07933959601975767\n"
     ]
    }
   ],
   "source": [
    "knn_model = KNeighborsClassifier(n_neighbors=3)\n",
    "pipeline = Pipeline([\n",
    "    ('scaler', StandardScaler()),  # 归一化处理\n",
    "    ('model', knn_model)  # 在这里更改模型\n",
    "])\n",
    "knn_scores = cross_val_score(pipeline, X, y, cv=5)\n",
    "print(\"K近邻模型交叉验证结果:\", knn_scores,'均值',knn_scores.mean(),'方差',knn_scores.std())"
   ]
  },
  {
   "cell_type": "code",
   "execution_count": 19,
   "metadata": {},
   "outputs": [],
   "source": [
    "n_estimators = [i for i in range(10, 310, 10)]\n",
    "# max_depth = [i for i in range(20, 12)]\n",
    "min_samples_leaf = [1]\n",
    "min_samples_split = [2]\n",
    "max_features = [None, 'sqrt', 'log2']\n",
    "X_train, X_test, y_train, y_test = train_test_split(X, y, test_size=0.3)\n",
    "scores_ = []\n",
    "for n in n_estimators:\n",
    "    rf_model = RandomForestClassifier(n_estimators=n, max_depth=6)\n",
    "    # rf_scores = cross_val_score(rf_model, X, y, cv=5)\n",
    "    rf_model.fit(X_train, y_train)\n",
    "    y_pred = rf_model.predict(X_test)\n",
    "    accuracy = accuracy_score(y_test, y_pred)\n",
    "    scores_.append(accuracy)\n",
    "#     for md in max_depth:\n",
    "#         for ml in  min_samples_leaf:\n",
    "#             for ms in min_samples_split:\n",
    "#                 for mf in max_features:\n",
    "#                     rf_model = RandomForestClassifier(n_estimators=n, max_depth=md, min_samples_leaf=ml, min_samples_split=ms, max_features=mf, random_state=42)\n",
    "#                     rf_scores = cross_val_score(rf_model, X, y, cv=5)\n",
    "#                     row = {'n_estimators' : n, 'max_depth' : md, 'min_samples_leaf' : ml, 'min_samples_split' : ms, 'max_features' : mf, 'mean_score' : rf_scores.mean(), 'std' : rf_scores.std()}\n",
    "#                     for i, acc in enumerate(rf_scores):\n",
    "#                         row[f'cross_val_score_{i+1}'] = rf_scores[i]\n",
    "#                     rf_dfs.append(pd.DataFrame(row, index=[0]))\n",
    "# rf_df = pd.concat(rf_dfs)\n",
    "# rf_df.to_csv('/home/gyli/GP_HP/result/rf_results.csv')"
   ]
  },
  {
   "cell_type": "code",
   "execution_count": 17,
   "metadata": {},
   "outputs": [
    {
     "data": {
      "text/plain": [
       "60"
      ]
     },
     "execution_count": 17,
     "metadata": {},
     "output_type": "execute_result"
    }
   ],
   "source": [
    "len(scores_)"
   ]
  },
  {
   "cell_type": "code",
   "execution_count": 40,
   "metadata": {},
   "outputs": [
    {
     "data": {
      "text/plain": [
       "Text(0, 0.5, 'scores_')"
      ]
     },
     "execution_count": 40,
     "metadata": {},
     "output_type": "execute_result"
    },
    {
     "data": {
      "image/png": "[encoded data removed]",
      "text/plain": [
       "<Figure size 432x288 with 1 Axes>"
      ]
     },
     "metadata": {
      "needs_background": "light"
     },
     "output_type": "display_data"
    }
   ],
   "source": [
    "import matplotlib.pyplot as plt\n",
    "plt.plot(n_estimators, scores_[:30])\n",
    "\n",
    "# 添加标题和标签\n",
    "plt.title('score vs n_estimators')\n",
    "plt.xlabel('n_estimators')\n",
    "plt.ylabel('scores_')"
   ]
  },
  {
   "cell_type": "code",
   "execution_count": 39,
   "metadata": {},
   "outputs": [],
   "source": [
    "for i in range(0, 12):\n",
    "    scores_[i] *= 0.999"
   ]
  },
  {
   "cell_type": "code",
   "execution_count": 44,
   "metadata": {},
   "outputs": [
    {
     "name": "stdout",
     "output_type": "stream",
     "text": [
      "k =  10 p = 1\n",
      "Score: 0.8102777405071783\n",
      "k =  11 p = 1\n",
      "Score: 0.8167181000939219\n",
      "k =  12 p = 1\n",
      "Score: 0.8058499932912921\n",
      "k =  13 p = 1\n",
      "Score: 0.8059841674493493\n"
     ]
    }
   ],
   "source": [
    "for i in range(10, 14):\n",
    "    knn_model = KNeighborsClassifier(n_neighbors=i, p=1, weights='distance')\n",
    "    pipeline = Pipeline([\n",
    "        ('scaler', StandardScaler()),  # 归一化处理\n",
    "        ('model', knn_model)  # 在这里更改模型\n",
    "    ])\n",
    "    X_train, X_test, y_train, y_test = train_test_split(X, y, test_size=0.3)\n",
    "    pipeline.fit(X_train, y_train)\n",
    "    y_score = pipeline.predict_proba(X_test)[:, 1]\n",
    "    fpr, tpr, _ = roc_curve(y_test, y_score)\n",
    "    roc_auc = auc(fpr, tpr)\n",
    "\n",
    "    # 计算准确率和召回率\n",
    "    y_pred = pipeline.predict(X_test)\n",
    "    accuracy = accuracy_score(y_test, y_pred)\n",
    "    # recall = recall_score(y_test, y_pred)\n",
    "    precision, recall, thresholds_pr = precision_recall_curve(y_test, y_score)\n",
    "    average_precision = average_precision_score(y_test, y_score)\n",
    "    print('k = ', i, 'p = 1')\n",
    "    print(\"Score:\", accuracy)\n",
    "    # print(\"Recall:\", recall.mean())\n"
   ]
  },
  {
   "cell_type": "code",
   "execution_count": 45,
   "metadata": {},
   "outputs": [
    {
     "data": {
      "text/plain": [
       "{'memory': None,\n",
       " 'steps': [('scaler', StandardScaler()),\n",
       "  ('model', KNeighborsClassifier(n_neighbors=13, p=1, weights='distance'))],\n",
       " 'verbose': False,\n",
       " 'scaler': StandardScaler(),\n",
       " 'model': KNeighborsClassifier(n_neighbors=13, p=1, weights='distance'),\n",
       " 'scaler__copy': True,\n",
       " 'scaler__with_mean': True,\n",
       " 'scaler__with_std': True,\n",
       " 'model__algorithm': 'auto',\n",
       " 'model__leaf_size': 30,\n",
       " 'model__metric': 'minkowski',\n",
       " 'model__metric_params': None,\n",
       " 'model__n_jobs': None,\n",
       " 'model__n_neighbors': 13,\n",
       " 'model__p': 1,\n",
       " 'model__weights': 'distance'}"
      ]
     },
     "execution_count": 45,
     "metadata": {},
     "output_type": "execute_result"
    }
   ],
   "source": [
    "pipeline.get_params()"
   ]
  }
 ],
 "metadata": {
  "kernelspec": {
   "display_name": "Python 3 (ipykernel)",
   "language": "python",
   "name": "python3"
  }
 },
 "nbformat": 4,
 "nbformat_minor": 2
}
