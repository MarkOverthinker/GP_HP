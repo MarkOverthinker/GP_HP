{
 "cells": [
  {
   "cell_type": "code",
   "execution_count": 2,
   "metadata": {},
   "outputs": [],
   "source": [
    "import numpy as np\n",
    "import pandas as pd\n",
    "import polars as pl\n",
    "import pytomlpp as toml\n",
    "from data_preprocessing import getXY, data_normalizeation\n",
    "from sklearn.model_selection import cross_val_score\n",
    "from sklearn.svm import SVC\n",
    "from tqdm import tqdm"
   ]
  },
  {
   "cell_type": "code",
   "execution_count": 19,
   "metadata": {},
   "outputs": [],
   "source": [
    "# read config\n",
    "cfg = toml.load('/home/gyli/GP_HP/cfg/feature_selection.toml')\n",
    "data_path = cfg['data_path']\n",
    "variance_filter_thres = cfg['variance_filter_thres']"
   ]
  },
  {
   "cell_type": "code",
   "execution_count": 4,
   "metadata": {},
   "outputs": [],
   "source": [
    "raw_x, raw_y = getXY(data_path)\n",
    "# raw_x = data_normalizeation(raw_x)\n",
    "future_names = raw_x.columns\n",
    "pd_x, pd_y = raw_x.to_pandas(), raw_y.to_pandas()"
   ]
  },
  {
   "cell_type": "code",
   "execution_count": 5,
   "metadata": {},
   "outputs": [],
   "source": [
    "svm_clf = SVC()\n",
    "X, Y = raw_x.to_pandas(), np.ravel(raw_y.to_pandas())"
   ]
  },
  {
   "cell_type": "code",
   "execution_count": 6,
   "metadata": {},
   "outputs": [],
   "source": [
    "# filter by variance threshold\n",
    "# from sklearn.feature_selection import VarianceThreshold\n",
    "# var_thres = VarianceThreshold(threshold=variance_filter_thres)\n",
    "# var_thres.fit(X)\n",
    "# var_thres_col_idx = var_thres.get_support(indices=True)\n",
    "# X_Var = X.iloc[:, var_thres_col_idx]\n",
    "# print(\"\\033[34m使用方差阈值筛选出来的特征结果索引:\",var_thres.get_support(indices=True))\n",
    "# print(\"\\033[34m方差阈值选择前的结果:\",cross_val_score(estimator=svm_clf,X=X,y=Y,cv=5,scoring='accuracy').mean())\n",
    "# print(\"\\033[34m方差阈值选择后的结果:\",cross_val_score(estimator=svm_clf,X=X_Var,y=Y,cv=5,scoring='accuracy').mean())\n",
    "X_Var = X"
   ]
  },
  {
   "cell_type": "code",
   "execution_count": 7,
   "metadata": {},
   "outputs": [],
   "source": [
    "# 归一化\n",
    "# X_Var = data_normalizeation(pl.from_pandas(X_Var))"
   ]
  },
  {
   "cell_type": "code",
   "execution_count": 8,
   "metadata": {},
   "outputs": [
    {
     "data": {
      "text/plain": [
       "['年龄',\n",
       " '中性粒细胞数',\n",
       " '淋巴细胞数',\n",
       " '嗜酸性粒细胞数',\n",
       " '嗜碱性粒细胞数',\n",
       " '总蛋白',\n",
       " '白蛋白',\n",
       " '球蛋白',\n",
       " '总胆红素',\n",
       " '直接胆红素',\n",
       " '钾',\n",
       " '钠',\n",
       " '钙',\n",
       " '尿素氮',\n",
       " '谷草谷丙',\n",
       " '甘油三酯',\n",
       " '高密度脂蛋白',\n",
       " '低密度脂蛋白',\n",
       " '红细胞平均体积',\n",
       " '凝血酶原时间',\n",
       " '国际标准化比值',\n",
       " '活化部分凝血活酶时间',\n",
       " '纤维蛋白原']"
      ]
     },
     "execution_count": 8,
     "metadata": {},
     "output_type": "execute_result"
    }
   ],
   "source": [
    "list(X.columns)"
   ]
  },
  {
   "cell_type": "code",
   "execution_count": 9,
   "metadata": {},
   "outputs": [
    {
     "name": "stdout",
     "output_type": "stream",
     "text": [
      "    feature_idx     feature   chi2_value\n",
      "0             6         白蛋白  3607.793828\n",
      "1             5         总蛋白  2232.444816\n",
      "2             0          年龄  1620.557003\n",
      "3             1      中性粒细胞数  1262.392571\n",
      "4            21  活化部分凝血活酶时间   383.776717\n",
      "5            14        谷草谷丙   246.632228\n",
      "6            15        甘油三酯   196.700687\n",
      "7             8        总胆红素   102.868027\n",
      "8             9       直接胆红素    90.602259\n",
      "9             2       淋巴细胞数    89.572173\n",
      "10           17      低密度脂蛋白    48.415306\n",
      "11           18     红细胞平均体积    43.963457\n",
      "12           19      凝血酶原时间    43.712427\n",
      "13           11           钠    41.472782\n",
      "14           13         尿素氮    22.948253\n",
      "15           12           钙    17.311755\n",
      "16            3     嗜酸性粒细胞数    15.833180\n",
      "17           10           钾    14.112563\n",
      "18            4     嗜碱性粒细胞数    10.461442\n",
      "19           22       纤维蛋白原     3.729141\n",
      "20           16      高密度脂蛋白     0.603448\n",
      "21           20     国际标准化比值     0.559221\n",
      "22            7         球蛋白     0.000358\n",
      "\u001b[34m卡方选择前的结果: 0.7198593923225771\n",
      "\u001b[34m卡方选择top14后的结果: 0.7238045203935901\n",
      "\u001b[34m卡方选择top10后的结果: 0.7202619607103495\n"
     ]
    }
   ],
   "source": [
    "# filter by Chi2\n",
    "from sklearn.feature_selection import SelectKBest\n",
    "from sklearn.feature_selection import chi2\n",
    "chi2_feature = SelectKBest(score_func=chi2, k='all')\n",
    "chi2_selector = chi2_feature.fit(X_Var, Y)\n",
    "chi2_selector.scores_\n",
    "chi2_df = pd.DataFrame(np.arange(len(chi2_selector.scores_)), columns=['feature_idx'])\n",
    "chi2_df['feature'] = list(X_Var.columns)\n",
    "chi2_df['chi2_value'] = chi2_selector.scores_\n",
    "sort_chi2 = chi2_df.sort_values(by='chi2_value', ascending=False).reset_index(drop=True)\n",
    "print(sort_chi2)\n",
    "X_Chi2_top10 = X_Var.iloc[:, sort_chi2[:10]['feature_idx'].to_list()]\n",
    "X_Chi2_top14 = X_Var.iloc[:, sort_chi2[:14]['feature_idx'].to_list()]\n",
    "print(\"\\033[34m卡方选择前的结果:\",cross_val_score(estimator=svm_clf,X=X_Var,y=Y,cv=5,scoring='accuracy').mean())\n",
    "print(\"\\033[34m卡方选择top14后的结果:\",cross_val_score(estimator=svm_clf,X=X_Chi2_top10,y=Y,cv=5,scoring='accuracy').mean())\n",
    "print(\"\\033[34m卡方选择top10后的结果:\",cross_val_score(estimator=svm_clf,X=X_Chi2_top14,y=Y,cv=5,scoring='accuracy').mean())"
   ]
  },
  {
   "cell_type": "code",
   "execution_count": 10,
   "metadata": {},
   "outputs": [],
   "source": [
    "X_Chi2 = X_Var.iloc[:, sort_chi2[:14]['feature_idx'].to_list()]"
   ]
  },
  {
   "cell_type": "code",
   "execution_count": 11,
   "metadata": {},
   "outputs": [
    {
     "name": "stdout",
     "output_type": "stream",
     "text": [
      "deselect :  ['总蛋白', '直接胆红素']\n"
     ]
    },
    {
     "data": {
      "text/html": [
       "<div>\n",
       "<style scoped>\n",
       "    .dataframe tbody tr th:only-of-type {\n",
       "        vertical-align: middle;\n",
       "    }\n",
       "\n",
       "    .dataframe tbody tr th {\n",
       "        vertical-align: top;\n",
       "    }\n",
       "\n",
       "    .dataframe thead th {\n",
       "        text-align: right;\n",
       "    }\n",
       "</style>\n",
       "<table border=\"1\" class=\"dataframe\">\n",
       "  <thead>\n",
       "    <tr style=\"text-align: right;\">\n",
       "      <th></th>\n",
       "      <th>白蛋白</th>\n",
       "      <th>总蛋白</th>\n",
       "      <th>年龄</th>\n",
       "      <th>中性粒细胞数</th>\n",
       "      <th>活化部分凝血活酶时间</th>\n",
       "      <th>谷草谷丙</th>\n",
       "      <th>甘油三酯</th>\n",
       "      <th>总胆红素</th>\n",
       "      <th>直接胆红素</th>\n",
       "      <th>淋巴细胞数</th>\n",
       "      <th>低密度脂蛋白</th>\n",
       "      <th>红细胞平均体积</th>\n",
       "      <th>凝血酶原时间</th>\n",
       "      <th>钠</th>\n",
       "    </tr>\n",
       "  </thead>\n",
       "  <tbody>\n",
       "    <tr>\n",
       "      <th>白蛋白</th>\n",
       "      <td>NaN</td>\n",
       "      <td>0.821454</td>\n",
       "      <td>0.061810</td>\n",
       "      <td>0.460003</td>\n",
       "      <td>0.188782</td>\n",
       "      <td>0.334556</td>\n",
       "      <td>0.006366</td>\n",
       "      <td>0.211114</td>\n",
       "      <td>0.020222</td>\n",
       "      <td>0.214614</td>\n",
       "      <td>0.046843</td>\n",
       "      <td>0.077524</td>\n",
       "      <td>0.120331</td>\n",
       "      <td>0.356134</td>\n",
       "    </tr>\n",
       "    <tr>\n",
       "      <th>总蛋白</th>\n",
       "      <td>NaN</td>\n",
       "      <td>NaN</td>\n",
       "      <td>0.129596</td>\n",
       "      <td>0.338535</td>\n",
       "      <td>0.166047</td>\n",
       "      <td>0.256663</td>\n",
       "      <td>0.048175</td>\n",
       "      <td>0.153805</td>\n",
       "      <td>0.030848</td>\n",
       "      <td>0.196337</td>\n",
       "      <td>0.095966</td>\n",
       "      <td>0.024375</td>\n",
       "      <td>0.097896</td>\n",
       "      <td>0.244804</td>\n",
       "    </tr>\n",
       "    <tr>\n",
       "      <th>年龄</th>\n",
       "      <td>NaN</td>\n",
       "      <td>NaN</td>\n",
       "      <td>NaN</td>\n",
       "      <td>0.177365</td>\n",
       "      <td>0.131641</td>\n",
       "      <td>0.028208</td>\n",
       "      <td>0.138757</td>\n",
       "      <td>0.092833</td>\n",
       "      <td>0.104352</td>\n",
       "      <td>0.051793</td>\n",
       "      <td>0.075182</td>\n",
       "      <td>0.095411</td>\n",
       "      <td>0.169505</td>\n",
       "      <td>0.121082</td>\n",
       "    </tr>\n",
       "    <tr>\n",
       "      <th>中性粒细胞数</th>\n",
       "      <td>NaN</td>\n",
       "      <td>NaN</td>\n",
       "      <td>NaN</td>\n",
       "      <td>NaN</td>\n",
       "      <td>0.093932</td>\n",
       "      <td>0.147988</td>\n",
       "      <td>0.061344</td>\n",
       "      <td>0.111389</td>\n",
       "      <td>0.025697</td>\n",
       "      <td>0.038299</td>\n",
       "      <td>0.002683</td>\n",
       "      <td>0.054687</td>\n",
       "      <td>0.058327</td>\n",
       "      <td>0.351828</td>\n",
       "    </tr>\n",
       "    <tr>\n",
       "      <th>活化部分凝血活酶时间</th>\n",
       "      <td>NaN</td>\n",
       "      <td>NaN</td>\n",
       "      <td>NaN</td>\n",
       "      <td>NaN</td>\n",
       "      <td>NaN</td>\n",
       "      <td>0.117652</td>\n",
       "      <td>0.150532</td>\n",
       "      <td>0.066922</td>\n",
       "      <td>0.032863</td>\n",
       "      <td>0.031075</td>\n",
       "      <td>0.061671</td>\n",
       "      <td>0.174340</td>\n",
       "      <td>0.740851</td>\n",
       "      <td>0.126529</td>\n",
       "    </tr>\n",
       "    <tr>\n",
       "      <th>谷草谷丙</th>\n",
       "      <td>NaN</td>\n",
       "      <td>NaN</td>\n",
       "      <td>NaN</td>\n",
       "      <td>NaN</td>\n",
       "      <td>NaN</td>\n",
       "      <td>NaN</td>\n",
       "      <td>0.086485</td>\n",
       "      <td>0.109115</td>\n",
       "      <td>0.038425</td>\n",
       "      <td>0.141833</td>\n",
       "      <td>0.036579</td>\n",
       "      <td>0.007635</td>\n",
       "      <td>0.077541</td>\n",
       "      <td>0.122886</td>\n",
       "    </tr>\n",
       "    <tr>\n",
       "      <th>甘油三酯</th>\n",
       "      <td>NaN</td>\n",
       "      <td>NaN</td>\n",
       "      <td>NaN</td>\n",
       "      <td>NaN</td>\n",
       "      <td>NaN</td>\n",
       "      <td>NaN</td>\n",
       "      <td>NaN</td>\n",
       "      <td>0.085004</td>\n",
       "      <td>0.085252</td>\n",
       "      <td>0.064004</td>\n",
       "      <td>0.024384</td>\n",
       "      <td>0.064693</td>\n",
       "      <td>0.217243</td>\n",
       "      <td>0.092386</td>\n",
       "    </tr>\n",
       "    <tr>\n",
       "      <th>总胆红素</th>\n",
       "      <td>NaN</td>\n",
       "      <td>NaN</td>\n",
       "      <td>NaN</td>\n",
       "      <td>NaN</td>\n",
       "      <td>NaN</td>\n",
       "      <td>NaN</td>\n",
       "      <td>NaN</td>\n",
       "      <td>NaN</td>\n",
       "      <td>0.839410</td>\n",
       "      <td>0.006889</td>\n",
       "      <td>0.016982</td>\n",
       "      <td>0.049823</td>\n",
       "      <td>0.088564</td>\n",
       "      <td>0.004142</td>\n",
       "    </tr>\n",
       "    <tr>\n",
       "      <th>直接胆红素</th>\n",
       "      <td>NaN</td>\n",
       "      <td>NaN</td>\n",
       "      <td>NaN</td>\n",
       "      <td>NaN</td>\n",
       "      <td>NaN</td>\n",
       "      <td>NaN</td>\n",
       "      <td>NaN</td>\n",
       "      <td>NaN</td>\n",
       "      <td>NaN</td>\n",
       "      <td>0.059185</td>\n",
       "      <td>0.083656</td>\n",
       "      <td>0.022396</td>\n",
       "      <td>0.070193</td>\n",
       "      <td>0.070869</td>\n",
       "    </tr>\n",
       "    <tr>\n",
       "      <th>淋巴细胞数</th>\n",
       "      <td>NaN</td>\n",
       "      <td>NaN</td>\n",
       "      <td>NaN</td>\n",
       "      <td>NaN</td>\n",
       "      <td>NaN</td>\n",
       "      <td>NaN</td>\n",
       "      <td>NaN</td>\n",
       "      <td>NaN</td>\n",
       "      <td>NaN</td>\n",
       "      <td>NaN</td>\n",
       "      <td>0.080059</td>\n",
       "      <td>0.025527</td>\n",
       "      <td>0.004276</td>\n",
       "      <td>0.131018</td>\n",
       "    </tr>\n",
       "    <tr>\n",
       "      <th>低密度脂蛋白</th>\n",
       "      <td>NaN</td>\n",
       "      <td>NaN</td>\n",
       "      <td>NaN</td>\n",
       "      <td>NaN</td>\n",
       "      <td>NaN</td>\n",
       "      <td>NaN</td>\n",
       "      <td>NaN</td>\n",
       "      <td>NaN</td>\n",
       "      <td>NaN</td>\n",
       "      <td>NaN</td>\n",
       "      <td>NaN</td>\n",
       "      <td>0.019746</td>\n",
       "      <td>0.166003</td>\n",
       "      <td>0.004036</td>\n",
       "    </tr>\n",
       "    <tr>\n",
       "      <th>红细胞平均体积</th>\n",
       "      <td>NaN</td>\n",
       "      <td>NaN</td>\n",
       "      <td>NaN</td>\n",
       "      <td>NaN</td>\n",
       "      <td>NaN</td>\n",
       "      <td>NaN</td>\n",
       "      <td>NaN</td>\n",
       "      <td>NaN</td>\n",
       "      <td>NaN</td>\n",
       "      <td>NaN</td>\n",
       "      <td>NaN</td>\n",
       "      <td>NaN</td>\n",
       "      <td>0.137573</td>\n",
       "      <td>0.090846</td>\n",
       "    </tr>\n",
       "    <tr>\n",
       "      <th>凝血酶原时间</th>\n",
       "      <td>NaN</td>\n",
       "      <td>NaN</td>\n",
       "      <td>NaN</td>\n",
       "      <td>NaN</td>\n",
       "      <td>NaN</td>\n",
       "      <td>NaN</td>\n",
       "      <td>NaN</td>\n",
       "      <td>NaN</td>\n",
       "      <td>NaN</td>\n",
       "      <td>NaN</td>\n",
       "      <td>NaN</td>\n",
       "      <td>NaN</td>\n",
       "      <td>NaN</td>\n",
       "      <td>0.094692</td>\n",
       "    </tr>\n",
       "    <tr>\n",
       "      <th>钠</th>\n",
       "      <td>NaN</td>\n",
       "      <td>NaN</td>\n",
       "      <td>NaN</td>\n",
       "      <td>NaN</td>\n",
       "      <td>NaN</td>\n",
       "      <td>NaN</td>\n",
       "      <td>NaN</td>\n",
       "      <td>NaN</td>\n",
       "      <td>NaN</td>\n",
       "      <td>NaN</td>\n",
       "      <td>NaN</td>\n",
       "      <td>NaN</td>\n",
       "      <td>NaN</td>\n",
       "      <td>NaN</td>\n",
       "    </tr>\n",
       "  </tbody>\n",
       "</table>\n",
       "</div>"
      ],
      "text/plain": [
       "            白蛋白       总蛋白        年龄    中性粒细胞数  活化部分凝血活酶时间      谷草谷丙      甘油三酯  \\\n",
       "白蛋白         NaN  0.821454  0.061810  0.460003    0.188782  0.334556  0.006366   \n",
       "总蛋白         NaN       NaN  0.129596  0.338535    0.166047  0.256663  0.048175   \n",
       "年龄          NaN       NaN       NaN  0.177365    0.131641  0.028208  0.138757   \n",
       "中性粒细胞数      NaN       NaN       NaN       NaN    0.093932  0.147988  0.061344   \n",
       "活化部分凝血活酶时间  NaN       NaN       NaN       NaN         NaN  0.117652  0.150532   \n",
       "谷草谷丙        NaN       NaN       NaN       NaN         NaN       NaN  0.086485   \n",
       "甘油三酯        NaN       NaN       NaN       NaN         NaN       NaN       NaN   \n",
       "总胆红素        NaN       NaN       NaN       NaN         NaN       NaN       NaN   \n",
       "直接胆红素       NaN       NaN       NaN       NaN         NaN       NaN       NaN   \n",
       "淋巴细胞数       NaN       NaN       NaN       NaN         NaN       NaN       NaN   \n",
       "低密度脂蛋白      NaN       NaN       NaN       NaN         NaN       NaN       NaN   \n",
       "红细胞平均体积     NaN       NaN       NaN       NaN         NaN       NaN       NaN   \n",
       "凝血酶原时间      NaN       NaN       NaN       NaN         NaN       NaN       NaN   \n",
       "钠           NaN       NaN       NaN       NaN         NaN       NaN       NaN   \n",
       "\n",
       "                总胆红素     直接胆红素     淋巴细胞数    低密度脂蛋白   红细胞平均体积    凝血酶原时间  \\\n",
       "白蛋白         0.211114  0.020222  0.214614  0.046843  0.077524  0.120331   \n",
       "总蛋白         0.153805  0.030848  0.196337  0.095966  0.024375  0.097896   \n",
       "年龄          0.092833  0.104352  0.051793  0.075182  0.095411  0.169505   \n",
       "中性粒细胞数      0.111389  0.025697  0.038299  0.002683  0.054687  0.058327   \n",
       "活化部分凝血活酶时间  0.066922  0.032863  0.031075  0.061671  0.174340  0.740851   \n",
       "谷草谷丙        0.109115  0.038425  0.141833  0.036579  0.007635  0.077541   \n",
       "甘油三酯        0.085004  0.085252  0.064004  0.024384  0.064693  0.217243   \n",
       "总胆红素             NaN  0.839410  0.006889  0.016982  0.049823  0.088564   \n",
       "直接胆红素            NaN       NaN  0.059185  0.083656  0.022396  0.070193   \n",
       "淋巴细胞数            NaN       NaN       NaN  0.080059  0.025527  0.004276   \n",
       "低密度脂蛋白           NaN       NaN       NaN       NaN  0.019746  0.166003   \n",
       "红细胞平均体积          NaN       NaN       NaN       NaN       NaN  0.137573   \n",
       "凝血酶原时间           NaN       NaN       NaN       NaN       NaN       NaN   \n",
       "钠                NaN       NaN       NaN       NaN       NaN       NaN   \n",
       "\n",
       "                   钠  \n",
       "白蛋白         0.356134  \n",
       "总蛋白         0.244804  \n",
       "年龄          0.121082  \n",
       "中性粒细胞数      0.351828  \n",
       "活化部分凝血活酶时间  0.126529  \n",
       "谷草谷丙        0.122886  \n",
       "甘油三酯        0.092386  \n",
       "总胆红素        0.004142  \n",
       "直接胆红素       0.070869  \n",
       "淋巴细胞数       0.131018  \n",
       "低密度脂蛋白      0.004036  \n",
       "红细胞平均体积     0.090846  \n",
       "凝血酶原时间      0.094692  \n",
       "钠                NaN  "
      ]
     },
     "execution_count": 11,
     "metadata": {},
     "output_type": "execute_result"
    }
   ],
   "source": [
    "# 相关系数筛选\n",
    "corr = X_Chi2.corr().abs()\n",
    "upper = corr.where(np.triu(np.ones(corr.shape),k=1).astype(np.bool_))\n",
    "to_drop = [col for col in upper.columns if any(upper[col] > 0.8)]\n",
    "print('deselect : ', to_drop)\n",
    "upper"
   ]
  },
  {
   "cell_type": "code",
   "execution_count": 12,
   "metadata": {},
   "outputs": [
    {
     "name": "stdout",
     "output_type": "stream",
     "text": [
      "Corr选择前的结果: 0.7202619607103495\n",
      "Corr选择后的结果: 0.7186114133067856\n"
     ]
    }
   ],
   "source": [
    "X_Corr = X_Chi2.drop(to_drop, axis=1)\n",
    "print(\"Corr选择前的结果:\",cross_val_score(estimator=svm_clf,X=X_Chi2,y=Y,cv=5,scoring='accuracy').mean())\n",
    "print(\"Corr选择后的结果:\",cross_val_score(estimator=svm_clf,X=X_Corr,y=Y,cv=5,scoring='accuracy').mean())"
   ]
  },
  {
   "cell_type": "code",
   "execution_count": 13,
   "metadata": {},
   "outputs": [
    {
     "name": "stdout",
     "output_type": "stream",
     "text": [
      "[0.16557413 0.07605325 0.08014503 0.09427791 0.04604019 0.07380831\n",
      " 0.06341807 0.08935498 0.0888211  0.06851107 0.07279351 0.08120246]\n",
      "    importance     feature  featrue_idx\n",
      "0     0.165574         白蛋白            0\n",
      "1     0.094278  活化部分凝血活酶时间            3\n",
      "2     0.089355       淋巴细胞数            7\n",
      "3     0.088821      低密度脂蛋白            8\n",
      "4     0.081202           钠           11\n",
      "5     0.080145      中性粒细胞数            2\n",
      "6     0.076053          年龄            1\n",
      "7     0.073808        甘油三酯            5\n",
      "8     0.072794      凝血酶原时间           10\n",
      "9     0.068511     红细胞平均体积            9\n",
      "10    0.063418        总胆红素            6\n",
      "11    0.046040        谷草谷丙            4\n",
      "\u001b[34m随机森林选择前的结果: 0.7186114133067856\n",
      "\u001b[34m随机森林选择top1后的结果: 0.7138206801654963\n",
      "\u001b[34m随机森林选择top6后的结果: 0.723844705126697\n",
      "\u001b[34m随机森林选择top9后的结果: 0.7241669850658623\n",
      "\u001b[34m随机森林选择top11后的结果: 0.7191347546414176\n"
     ]
    }
   ],
   "source": [
    "# 随机森林筛选\n",
    "from sklearn.ensemble import RandomForestClassifier\n",
    "rf_clf = RandomForestClassifier()\n",
    "rf_clf.fit(X_Corr,Y)\n",
    "feature_importance = rf_clf.feature_importances_\n",
    "print(feature_importance)\n",
    "feature_importance_df = pd.DataFrame(feature_importance, columns=['importance'])\n",
    "feature_importance_df['feature'] = list(X_Corr.columns)\n",
    "feature_importance_df['featrue_idx'] = np.arange(feature_importance_df.shape[0])\n",
    "feature_importance_df = feature_importance_df.sort_values(ascending=False, by='importance').reset_index(drop=True)\n",
    "print(feature_importance_df)\n",
    "X_forest_top1 = X_Corr.iloc[:, feature_importance_df[:1]['featrue_idx'].to_list()]\n",
    "X_forest_top6 = X_Corr.iloc[:, feature_importance_df[:6]['featrue_idx'].to_list()]\n",
    "X_forest_top9 = X_Corr.iloc[:, feature_importance_df[:9]['featrue_idx'].to_list()]\n",
    "X_forest_top11 = X_Corr.iloc[:, feature_importance_df[:11]['featrue_idx'].to_list()]\n",
    "print(\"\\033[34m随机森林选择前的结果:\",cross_val_score(estimator=svm_clf,X=X_Corr,y=Y,cv=5,scoring='accuracy').mean())\n",
    "print(\"\\033[34m随机森林选择top1后的结果:\",cross_val_score(estimator=svm_clf,X=X_forest_top1,y=Y,cv=5,scoring='accuracy').mean())\n",
    "print(\"\\033[34m随机森林选择top6后的结果:\",cross_val_score(estimator=svm_clf,X=X_forest_top6,y=Y,cv=5,scoring='accuracy').mean())\n",
    "print(\"\\033[34m随机森林选择top9后的结果:\",cross_val_score(estimator=svm_clf,X=X_forest_top9,y=Y,cv=5,scoring='accuracy').mean())\n",
    "print(\"\\033[34m随机森林选择top11后的结果:\",cross_val_score(estimator=svm_clf,X=X_forest_top11,y=Y,cv=5,scoring='accuracy').mean())"
   ]
  },
  {
   "cell_type": "code",
   "execution_count": 14,
   "metadata": {},
   "outputs": [],
   "source": [
    "X_Forest = X_Corr.iloc[:, feature_importance_df[:9]['featrue_idx'].to_list()]"
   ]
  },
  {
   "cell_type": "code",
   "execution_count": 15,
   "metadata": {},
   "outputs": [
    {
     "name": "stderr",
     "output_type": "stream",
     "text": [
      "/home/gyli/.local/lib/python3.10/site-packages/sklearn/model_selection/_validation.py:73: FutureWarning: `fit_params` is deprecated and will be removed in version 1.6. Pass parameters via `params` instead.\n",
      "  warnings.warn(\n",
      "/home/gyli/.local/lib/python3.10/site-packages/sklearn/model_selection/_validation.py:73: FutureWarning: `fit_params` is deprecated and will be removed in version 1.6. Pass parameters via `params` instead.\n",
      "  warnings.warn(\n",
      "/home/gyli/.local/lib/python3.10/site-packages/sklearn/model_selection/_validation.py:73: FutureWarning: `fit_params` is deprecated and will be removed in version 1.6. Pass parameters via `params` instead.\n",
      "  warnings.warn(\n",
      "/home/gyli/.local/lib/python3.10/site-packages/sklearn/model_selection/_validation.py:73: FutureWarning: `fit_params` is deprecated and will be removed in version 1.6. Pass parameters via `params` instead.\n",
      "  warnings.warn(\n",
      "/home/gyli/.local/lib/python3.10/site-packages/sklearn/model_selection/_validation.py:73: FutureWarning: `fit_params` is deprecated and will be removed in version 1.6. Pass parameters via `params` instead.\n",
      "  warnings.warn(\n",
      "/home/gyli/.local/lib/python3.10/site-packages/sklearn/model_selection/_validation.py:73: FutureWarning: `fit_params` is deprecated and will be removed in version 1.6. Pass parameters via `params` instead.\n",
      "  warnings.warn(\n",
      "/home/gyli/.local/lib/python3.10/site-packages/sklearn/model_selection/_validation.py:73: FutureWarning: `fit_params` is deprecated and will be removed in version 1.6. Pass parameters via `params` instead.\n",
      "  warnings.warn(\n",
      "/home/gyli/.local/lib/python3.10/site-packages/sklearn/model_selection/_validation.py:73: FutureWarning: `fit_params` is deprecated and will be removed in version 1.6. Pass parameters via `params` instead.\n",
      "  warnings.warn(\n",
      "/home/gyli/.local/lib/python3.10/site-packages/sklearn/model_selection/_validation.py:73: FutureWarning: `fit_params` is deprecated and will be removed in version 1.6. Pass parameters via `params` instead.\n",
      "  warnings.warn(\n",
      "\n",
      "[2024-02-19 12:56:55] Features: 1/7 -- score: 0.7138206801654963/home/gyli/.local/lib/python3.10/site-packages/sklearn/model_selection/_validation.py:73: FutureWarning: `fit_params` is deprecated and will be removed in version 1.6. Pass parameters via `params` instead.\n",
      "  warnings.warn(\n",
      "/home/gyli/.local/lib/python3.10/site-packages/sklearn/model_selection/_validation.py:73: FutureWarning: `fit_params` is deprecated and will be removed in version 1.6. Pass parameters via `params` instead.\n",
      "  warnings.warn(\n",
      "/home/gyli/.local/lib/python3.10/site-packages/sklearn/model_selection/_validation.py:73: FutureWarning: `fit_params` is deprecated and will be removed in version 1.6. Pass parameters via `params` instead.\n",
      "  warnings.warn(\n",
      "/home/gyli/.local/lib/python3.10/site-packages/sklearn/model_selection/_validation.py:73: FutureWarning: `fit_params` is deprecated and will be removed in version 1.6. Pass parameters via `params` instead.\n",
      "  warnings.warn(\n",
      "/home/gyli/.local/lib/python3.10/site-packages/sklearn/model_selection/_validation.py:73: FutureWarning: `fit_params` is deprecated and will be removed in version 1.6. Pass parameters via `params` instead.\n",
      "  warnings.warn(\n",
      "/home/gyli/.local/lib/python3.10/site-packages/sklearn/model_selection/_validation.py:73: FutureWarning: `fit_params` is deprecated and will be removed in version 1.6. Pass parameters via `params` instead.\n",
      "  warnings.warn(\n",
      "/home/gyli/.local/lib/python3.10/site-packages/sklearn/model_selection/_validation.py:73: FutureWarning: `fit_params` is deprecated and will be removed in version 1.6. Pass parameters via `params` instead.\n",
      "  warnings.warn(\n",
      "/home/gyli/.local/lib/python3.10/site-packages/sklearn/model_selection/_validation.py:73: FutureWarning: `fit_params` is deprecated and will be removed in version 1.6. Pass parameters via `params` instead.\n",
      "  warnings.warn(\n",
      "\n",
      "[2024-02-19 13:05:11] Features: 2/7 -- score: 0.7236027865519846/home/gyli/.local/lib/python3.10/site-packages/sklearn/model_selection/_validation.py:73: FutureWarning: `fit_params` is deprecated and will be removed in version 1.6. Pass parameters via `params` instead.\n",
      "  warnings.warn(\n",
      "/home/gyli/.local/lib/python3.10/site-packages/sklearn/model_selection/_validation.py:73: FutureWarning: `fit_params` is deprecated and will be removed in version 1.6. Pass parameters via `params` instead.\n",
      "  warnings.warn(\n",
      "/home/gyli/.local/lib/python3.10/site-packages/sklearn/model_selection/_validation.py:73: FutureWarning: `fit_params` is deprecated and will be removed in version 1.6. Pass parameters via `params` instead.\n",
      "  warnings.warn(\n",
      "/home/gyli/.local/lib/python3.10/site-packages/sklearn/model_selection/_validation.py:73: FutureWarning: `fit_params` is deprecated and will be removed in version 1.6. Pass parameters via `params` instead.\n",
      "  warnings.warn(\n",
      "/home/gyli/.local/lib/python3.10/site-packages/sklearn/model_selection/_validation.py:73: FutureWarning: `fit_params` is deprecated and will be removed in version 1.6. Pass parameters via `params` instead.\n",
      "  warnings.warn(\n",
      "/home/gyli/.local/lib/python3.10/site-packages/sklearn/model_selection/_validation.py:73: FutureWarning: `fit_params` is deprecated and will be removed in version 1.6. Pass parameters via `params` instead.\n",
      "  warnings.warn(\n",
      "/home/gyli/.local/lib/python3.10/site-packages/sklearn/model_selection/_validation.py:73: FutureWarning: `fit_params` is deprecated and will be removed in version 1.6. Pass parameters via `params` instead.\n",
      "  warnings.warn(\n",
      "\n",
      "[2024-02-19 13:12:16] Features: 3/7 -- score: 0.7229589315268351/home/gyli/.local/lib/python3.10/site-packages/sklearn/model_selection/_validation.py:73: FutureWarning: `fit_params` is deprecated and will be removed in version 1.6. Pass parameters via `params` instead.\n",
      "  warnings.warn(\n",
      "/home/gyli/.local/lib/python3.10/site-packages/sklearn/model_selection/_validation.py:73: FutureWarning: `fit_params` is deprecated and will be removed in version 1.6. Pass parameters via `params` instead.\n",
      "  warnings.warn(\n",
      "/home/gyli/.local/lib/python3.10/site-packages/sklearn/model_selection/_validation.py:73: FutureWarning: `fit_params` is deprecated and will be removed in version 1.6. Pass parameters via `params` instead.\n",
      "  warnings.warn(\n",
      "/home/gyli/.local/lib/python3.10/site-packages/sklearn/model_selection/_validation.py:73: FutureWarning: `fit_params` is deprecated and will be removed in version 1.6. Pass parameters via `params` instead.\n",
      "  warnings.warn(\n",
      "/home/gyli/.local/lib/python3.10/site-packages/sklearn/model_selection/_validation.py:73: FutureWarning: `fit_params` is deprecated and will be removed in version 1.6. Pass parameters via `params` instead.\n",
      "  warnings.warn(\n",
      "/home/gyli/.local/lib/python3.10/site-packages/sklearn/model_selection/_validation.py:73: FutureWarning: `fit_params` is deprecated and will be removed in version 1.6. Pass parameters via `params` instead.\n",
      "  warnings.warn(\n",
      "\n",
      "[2024-02-19 13:18:35] Features: 4/7 -- score: 0.7250522320512782/home/gyli/.local/lib/python3.10/site-packages/sklearn/model_selection/_validation.py:73: FutureWarning: `fit_params` is deprecated and will be removed in version 1.6. Pass parameters via `params` instead.\n",
      "  warnings.warn(\n",
      "/home/gyli/.local/lib/python3.10/site-packages/sklearn/model_selection/_validation.py:73: FutureWarning: `fit_params` is deprecated and will be removed in version 1.6. Pass parameters via `params` instead.\n",
      "  warnings.warn(\n",
      "/home/gyli/.local/lib/python3.10/site-packages/sklearn/model_selection/_validation.py:73: FutureWarning: `fit_params` is deprecated and will be removed in version 1.6. Pass parameters via `params` instead.\n",
      "  warnings.warn(\n",
      "/home/gyli/.local/lib/python3.10/site-packages/sklearn/model_selection/_validation.py:73: FutureWarning: `fit_params` is deprecated and will be removed in version 1.6. Pass parameters via `params` instead.\n",
      "  warnings.warn(\n",
      "/home/gyli/.local/lib/python3.10/site-packages/sklearn/model_selection/_validation.py:73: FutureWarning: `fit_params` is deprecated and will be removed in version 1.6. Pass parameters via `params` instead.\n",
      "  warnings.warn(\n",
      "\n",
      "[2024-02-19 13:24:00] Features: 5/7 -- score: 0.7264611444417546/home/gyli/.local/lib/python3.10/site-packages/sklearn/model_selection/_validation.py:73: FutureWarning: `fit_params` is deprecated and will be removed in version 1.6. Pass parameters via `params` instead.\n",
      "  warnings.warn(\n",
      "/home/gyli/.local/lib/python3.10/site-packages/sklearn/model_selection/_validation.py:73: FutureWarning: `fit_params` is deprecated and will be removed in version 1.6. Pass parameters via `params` instead.\n",
      "  warnings.warn(\n",
      "/home/gyli/.local/lib/python3.10/site-packages/sklearn/model_selection/_validation.py:73: FutureWarning: `fit_params` is deprecated and will be removed in version 1.6. Pass parameters via `params` instead.\n",
      "  warnings.warn(\n",
      "/home/gyli/.local/lib/python3.10/site-packages/sklearn/model_selection/_validation.py:73: FutureWarning: `fit_params` is deprecated and will be removed in version 1.6. Pass parameters via `params` instead.\n",
      "  warnings.warn(\n",
      "\n",
      "[2024-02-19 13:28:24] Features: 6/7 -- score: 0.7264209110980835/home/gyli/.local/lib/python3.10/site-packages/sklearn/model_selection/_validation.py:73: FutureWarning: `fit_params` is deprecated and will be removed in version 1.6. Pass parameters via `params` instead.\n",
      "  warnings.warn(\n",
      "/home/gyli/.local/lib/python3.10/site-packages/sklearn/model_selection/_validation.py:73: FutureWarning: `fit_params` is deprecated and will be removed in version 1.6. Pass parameters via `params` instead.\n",
      "  warnings.warn(\n",
      "/home/gyli/.local/lib/python3.10/site-packages/sklearn/model_selection/_validation.py:73: FutureWarning: `fit_params` is deprecated and will be removed in version 1.6. Pass parameters via `params` instead.\n",
      "  warnings.warn(\n",
      "\n",
      "[2024-02-19 13:31:47] Features: 7/7 -- score: 0.7263003163899591"
     ]
    },
    {
     "data": {
      "text/html": [
       "<style>#sk-container-id-1 {\n",
       "  /* Definition of color scheme common for light and dark mode */\n",
       "  --sklearn-color-text: black;\n",
       "  --sklearn-color-line: gray;\n",
       "  /* Definition of color scheme for unfitted estimators */\n",
       "  --sklearn-color-unfitted-level-0: #fff5e6;\n",
       "  --sklearn-color-unfitted-level-1: #f6e4d2;\n",
       "  --sklearn-color-unfitted-level-2: #ffe0b3;\n",
       "  --sklearn-color-unfitted-level-3: chocolate;\n",
       "  /* Definition of color scheme for fitted estimators */\n",
       "  --sklearn-color-fitted-level-0: #f0f8ff;\n",
       "  --sklearn-color-fitted-level-1: #d4ebff;\n",
       "  --sklearn-color-fitted-level-2: #b3dbfd;\n",
       "  --sklearn-color-fitted-level-3: cornflowerblue;\n",
       "\n",
       "  /* Specific color for light theme */\n",
       "  --sklearn-color-text-on-default-background: var(--sg-text-color, var(--theme-code-foreground, var(--jp-content-font-color1, black)));\n",
       "  --sklearn-color-background: var(--sg-background-color, var(--theme-background, var(--jp-layout-color0, white)));\n",
       "  --sklearn-color-border-box: var(--sg-text-color, var(--theme-code-foreground, var(--jp-content-font-color1, black)));\n",
       "  --sklearn-color-icon: #696969;\n",
       "\n",
       "  @media (prefers-color-scheme: dark) {\n",
       "    /* Redefinition of color scheme for dark theme */\n",
       "    --sklearn-color-text-on-default-background: var(--sg-text-color, var(--theme-code-foreground, var(--jp-content-font-color1, white)));\n",
       "    --sklearn-color-background: var(--sg-background-color, var(--theme-background, var(--jp-layout-color0, #111)));\n",
       "    --sklearn-color-border-box: var(--sg-text-color, var(--theme-code-foreground, var(--jp-content-font-color1, white)));\n",
       "    --sklearn-color-icon: #878787;\n",
       "  }\n",
       "}\n",
       "\n",
       "#sk-container-id-1 {\n",
       "  color: var(--sklearn-color-text);\n",
       "}\n",
       "\n",
       "#sk-container-id-1 pre {\n",
       "  padding: 0;\n",
       "}\n",
       "\n",
       "#sk-container-id-1 input.sk-hidden--visually {\n",
       "  border: 0;\n",
       "  clip: rect(1px 1px 1px 1px);\n",
       "  clip: rect(1px, 1px, 1px, 1px);\n",
       "  height: 1px;\n",
       "  margin: -1px;\n",
       "  overflow: hidden;\n",
       "  padding: 0;\n",
       "  position: absolute;\n",
       "  width: 1px;\n",
       "}\n",
       "\n",
       "#sk-container-id-1 div.sk-dashed-wrapped {\n",
       "  border: 1px dashed var(--sklearn-color-line);\n",
       "  margin: 0 0.4em 0.5em 0.4em;\n",
       "  box-sizing: border-box;\n",
       "  padding-bottom: 0.4em;\n",
       "  background-color: var(--sklearn-color-background);\n",
       "}\n",
       "\n",
       "#sk-container-id-1 div.sk-container {\n",
       "  /* jupyter's `normalize.less` sets `[hidden] { display: none; }`\n",
       "     but bootstrap.min.css set `[hidden] { display: none !important; }`\n",
       "     so we also need the `!important` here to be able to override the\n",
       "     default hidden behavior on the sphinx rendered scikit-learn.org.\n",
       "     See: https://github.com/scikit-learn/scikit-learn/issues/21755 */\n",
       "  display: inline-block !important;\n",
       "  position: relative;\n",
       "}\n",
       "\n",
       "#sk-container-id-1 div.sk-text-repr-fallback {\n",
       "  display: none;\n",
       "}\n",
       "\n",
       "div.sk-parallel-item,\n",
       "div.sk-serial,\n",
       "div.sk-item {\n",
       "  /* draw centered vertical line to link estimators */\n",
       "  background-image: linear-gradient(var(--sklearn-color-text-on-default-background), var(--sklearn-color-text-on-default-background));\n",
       "  background-size: 2px 100%;\n",
       "  background-repeat: no-repeat;\n",
       "  background-position: center center;\n",
       "}\n",
       "\n",
       "/* Parallel-specific style estimator block */\n",
       "\n",
       "#sk-container-id-1 div.sk-parallel-item::after {\n",
       "  content: \"\";\n",
       "  width: 100%;\n",
       "  border-bottom: 2px solid var(--sklearn-color-text-on-default-background);\n",
       "  flex-grow: 1;\n",
       "}\n",
       "\n",
       "#sk-container-id-1 div.sk-parallel {\n",
       "  display: flex;\n",
       "  align-items: stretch;\n",
       "  justify-content: center;\n",
       "  background-color: var(--sklearn-color-background);\n",
       "  position: relative;\n",
       "}\n",
       "\n",
       "#sk-container-id-1 div.sk-parallel-item {\n",
       "  display: flex;\n",
       "  flex-direction: column;\n",
       "}\n",
       "\n",
       "#sk-container-id-1 div.sk-parallel-item:first-child::after {\n",
       "  align-self: flex-end;\n",
       "  width: 50%;\n",
       "}\n",
       "\n",
       "#sk-container-id-1 div.sk-parallel-item:last-child::after {\n",
       "  align-self: flex-start;\n",
       "  width: 50%;\n",
       "}\n",
       "\n",
       "#sk-container-id-1 div.sk-parallel-item:only-child::after {\n",
       "  width: 0;\n",
       "}\n",
       "\n",
       "/* Serial-specific style estimator block */\n",
       "\n",
       "#sk-container-id-1 div.sk-serial {\n",
       "  display: flex;\n",
       "  flex-direction: column;\n",
       "  align-items: center;\n",
       "  background-color: var(--sklearn-color-background);\n",
       "  padding-right: 1em;\n",
       "  padding-left: 1em;\n",
       "}\n",
       "\n",
       "\n",
       "/* Toggleable style: style used for estimator/Pipeline/ColumnTransformer box that is\n",
       "clickable and can be expanded/collapsed.\n",
       "- Pipeline and ColumnTransformer use this feature and define the default style\n",
       "- Estimators will overwrite some part of the style using the `sk-estimator` class\n",
       "*/\n",
       "\n",
       "/* Pipeline and ColumnTransformer style (default) */\n",
       "\n",
       "#sk-container-id-1 div.sk-toggleable {\n",
       "  /* Default theme specific background. It is overwritten whether we have a\n",
       "  specific estimator or a Pipeline/ColumnTransformer */\n",
       "  background-color: var(--sklearn-color-background);\n",
       "}\n",
       "\n",
       "/* Toggleable label */\n",
       "#sk-container-id-1 label.sk-toggleable__label {\n",
       "  cursor: pointer;\n",
       "  display: block;\n",
       "  width: 100%;\n",
       "  margin-bottom: 0;\n",
       "  padding: 0.5em;\n",
       "  box-sizing: border-box;\n",
       "  text-align: center;\n",
       "}\n",
       "\n",
       "#sk-container-id-1 label.sk-toggleable__label-arrow:before {\n",
       "  /* Arrow on the left of the label */\n",
       "  content: \"▸\";\n",
       "  float: left;\n",
       "  margin-right: 0.25em;\n",
       "  color: var(--sklearn-color-icon);\n",
       "}\n",
       "\n",
       "#sk-container-id-1 label.sk-toggleable__label-arrow:hover:before {\n",
       "  color: var(--sklearn-color-text);\n",
       "}\n",
       "\n",
       "/* Toggleable content - dropdown */\n",
       "\n",
       "#sk-container-id-1 div.sk-toggleable__content {\n",
       "  max-height: 0;\n",
       "  max-width: 0;\n",
       "  overflow: hidden;\n",
       "  text-align: left;\n",
       "  /* unfitted */\n",
       "  background-color: var(--sklearn-color-unfitted-level-0);\n",
       "}\n",
       "\n",
       "#sk-container-id-1 div.sk-toggleable__content.fitted {\n",
       "  /* fitted */\n",
       "  background-color: var(--sklearn-color-fitted-level-0);\n",
       "}\n",
       "\n",
       "#sk-container-id-1 div.sk-toggleable__content pre {\n",
       "  margin: 0.2em;\n",
       "  border-radius: 0.25em;\n",
       "  color: var(--sklearn-color-text);\n",
       "  /* unfitted */\n",
       "  background-color: var(--sklearn-color-unfitted-level-0);\n",
       "}\n",
       "\n",
       "#sk-container-id-1 div.sk-toggleable__content.fitted pre {\n",
       "  /* unfitted */\n",
       "  background-color: var(--sklearn-color-fitted-level-0);\n",
       "}\n",
       "\n",
       "#sk-container-id-1 input.sk-toggleable__control:checked~div.sk-toggleable__content {\n",
       "  /* Expand drop-down */\n",
       "  max-height: 200px;\n",
       "  max-width: 100%;\n",
       "  overflow: auto;\n",
       "}\n",
       "\n",
       "#sk-container-id-1 input.sk-toggleable__control:checked~label.sk-toggleable__label-arrow:before {\n",
       "  content: \"▾\";\n",
       "}\n",
       "\n",
       "/* Pipeline/ColumnTransformer-specific style */\n",
       "\n",
       "#sk-container-id-1 div.sk-label input.sk-toggleable__control:checked~label.sk-toggleable__label {\n",
       "  color: var(--sklearn-color-text);\n",
       "  background-color: var(--sklearn-color-unfitted-level-2);\n",
       "}\n",
       "\n",
       "#sk-container-id-1 div.sk-label.fitted input.sk-toggleable__control:checked~label.sk-toggleable__label {\n",
       "  background-color: var(--sklearn-color-fitted-level-2);\n",
       "}\n",
       "\n",
       "/* Estimator-specific style */\n",
       "\n",
       "/* Colorize estimator box */\n",
       "#sk-container-id-1 div.sk-estimator input.sk-toggleable__control:checked~label.sk-toggleable__label {\n",
       "  /* unfitted */\n",
       "  background-color: var(--sklearn-color-unfitted-level-2);\n",
       "}\n",
       "\n",
       "#sk-container-id-1 div.sk-estimator.fitted input.sk-toggleable__control:checked~label.sk-toggleable__label {\n",
       "  /* fitted */\n",
       "  background-color: var(--sklearn-color-fitted-level-2);\n",
       "}\n",
       "\n",
       "#sk-container-id-1 div.sk-label label.sk-toggleable__label,\n",
       "#sk-container-id-1 div.sk-label label {\n",
       "  /* The background is the default theme color */\n",
       "  color: var(--sklearn-color-text-on-default-background);\n",
       "}\n",
       "\n",
       "/* On hover, darken the color of the background */\n",
       "#sk-container-id-1 div.sk-label:hover label.sk-toggleable__label {\n",
       "  color: var(--sklearn-color-text);\n",
       "  background-color: var(--sklearn-color-unfitted-level-2);\n",
       "}\n",
       "\n",
       "/* Label box, darken color on hover, fitted */\n",
       "#sk-container-id-1 div.sk-label.fitted:hover label.sk-toggleable__label.fitted {\n",
       "  color: var(--sklearn-color-text);\n",
       "  background-color: var(--sklearn-color-fitted-level-2);\n",
       "}\n",
       "\n",
       "/* Estimator label */\n",
       "\n",
       "#sk-container-id-1 div.sk-label label {\n",
       "  font-family: monospace;\n",
       "  font-weight: bold;\n",
       "  display: inline-block;\n",
       "  line-height: 1.2em;\n",
       "}\n",
       "\n",
       "#sk-container-id-1 div.sk-label-container {\n",
       "  text-align: center;\n",
       "}\n",
       "\n",
       "/* Estimator-specific */\n",
       "#sk-container-id-1 div.sk-estimator {\n",
       "  font-family: monospace;\n",
       "  border: 1px dotted var(--sklearn-color-border-box);\n",
       "  border-radius: 0.25em;\n",
       "  box-sizing: border-box;\n",
       "  margin-bottom: 0.5em;\n",
       "  /* unfitted */\n",
       "  background-color: var(--sklearn-color-unfitted-level-0);\n",
       "}\n",
       "\n",
       "#sk-container-id-1 div.sk-estimator.fitted {\n",
       "  /* fitted */\n",
       "  background-color: var(--sklearn-color-fitted-level-0);\n",
       "}\n",
       "\n",
       "/* on hover */\n",
       "#sk-container-id-1 div.sk-estimator:hover {\n",
       "  /* unfitted */\n",
       "  background-color: var(--sklearn-color-unfitted-level-2);\n",
       "}\n",
       "\n",
       "#sk-container-id-1 div.sk-estimator.fitted:hover {\n",
       "  /* fitted */\n",
       "  background-color: var(--sklearn-color-fitted-level-2);\n",
       "}\n",
       "\n",
       "/* Specification for estimator info (e.g. \"i\" and \"?\") */\n",
       "\n",
       "/* Common style for \"i\" and \"?\" */\n",
       "\n",
       ".sk-estimator-doc-link,\n",
       "a:link.sk-estimator-doc-link,\n",
       "a:visited.sk-estimator-doc-link {\n",
       "  float: right;\n",
       "  font-size: smaller;\n",
       "  line-height: 1em;\n",
       "  font-family: monospace;\n",
       "  background-color: var(--sklearn-color-background);\n",
       "  border-radius: 1em;\n",
       "  height: 1em;\n",
       "  width: 1em;\n",
       "  text-decoration: none !important;\n",
       "  margin-left: 1ex;\n",
       "  /* unfitted */\n",
       "  border: var(--sklearn-color-unfitted-level-1) 1pt solid;\n",
       "  color: var(--sklearn-color-unfitted-level-1);\n",
       "}\n",
       "\n",
       ".sk-estimator-doc-link.fitted,\n",
       "a:link.sk-estimator-doc-link.fitted,\n",
       "a:visited.sk-estimator-doc-link.fitted {\n",
       "  /* fitted */\n",
       "  border: var(--sklearn-color-fitted-level-1) 1pt solid;\n",
       "  color: var(--sklearn-color-fitted-level-1);\n",
       "}\n",
       "\n",
       "/* On hover */\n",
       "div.sk-estimator:hover .sk-estimator-doc-link:hover,\n",
       ".sk-estimator-doc-link:hover,\n",
       "div.sk-label-container:hover .sk-estimator-doc-link:hover,\n",
       ".sk-estimator-doc-link:hover {\n",
       "  /* unfitted */\n",
       "  background-color: var(--sklearn-color-unfitted-level-3);\n",
       "  color: var(--sklearn-color-background);\n",
       "  text-decoration: none;\n",
       "}\n",
       "\n",
       "div.sk-estimator.fitted:hover .sk-estimator-doc-link.fitted:hover,\n",
       ".sk-estimator-doc-link.fitted:hover,\n",
       "div.sk-label-container:hover .sk-estimator-doc-link.fitted:hover,\n",
       ".sk-estimator-doc-link.fitted:hover {\n",
       "  /* fitted */\n",
       "  background-color: var(--sklearn-color-fitted-level-3);\n",
       "  color: var(--sklearn-color-background);\n",
       "  text-decoration: none;\n",
       "}\n",
       "\n",
       "/* Span, style for the box shown on hovering the info icon */\n",
       ".sk-estimator-doc-link span {\n",
       "  display: none;\n",
       "  z-index: 9999;\n",
       "  position: relative;\n",
       "  font-weight: normal;\n",
       "  right: .2ex;\n",
       "  padding: .5ex;\n",
       "  margin: .5ex;\n",
       "  width: min-content;\n",
       "  min-width: 20ex;\n",
       "  max-width: 50ex;\n",
       "  color: var(--sklearn-color-text);\n",
       "  box-shadow: 2pt 2pt 4pt #999;\n",
       "  /* unfitted */\n",
       "  background: var(--sklearn-color-unfitted-level-0);\n",
       "  border: .5pt solid var(--sklearn-color-unfitted-level-3);\n",
       "}\n",
       "\n",
       ".sk-estimator-doc-link.fitted span {\n",
       "  /* fitted */\n",
       "  background: var(--sklearn-color-fitted-level-0);\n",
       "  border: var(--sklearn-color-fitted-level-3);\n",
       "}\n",
       "\n",
       ".sk-estimator-doc-link:hover span {\n",
       "  display: block;\n",
       "}\n",
       "\n",
       "/* \"?\"-specific style due to the `<a>` HTML tag */\n",
       "\n",
       "#sk-container-id-1 a.estimator_doc_link {\n",
       "  float: right;\n",
       "  font-size: 1rem;\n",
       "  line-height: 1em;\n",
       "  font-family: monospace;\n",
       "  background-color: var(--sklearn-color-background);\n",
       "  border-radius: 1rem;\n",
       "  height: 1rem;\n",
       "  width: 1rem;\n",
       "  text-decoration: none;\n",
       "  /* unfitted */\n",
       "  color: var(--sklearn-color-unfitted-level-1);\n",
       "  border: var(--sklearn-color-unfitted-level-1) 1pt solid;\n",
       "}\n",
       "\n",
       "#sk-container-id-1 a.estimator_doc_link.fitted {\n",
       "  /* fitted */\n",
       "  border: var(--sklearn-color-fitted-level-1) 1pt solid;\n",
       "  color: var(--sklearn-color-fitted-level-1);\n",
       "}\n",
       "\n",
       "/* On hover */\n",
       "#sk-container-id-1 a.estimator_doc_link:hover {\n",
       "  /* unfitted */\n",
       "  background-color: var(--sklearn-color-unfitted-level-3);\n",
       "  color: var(--sklearn-color-background);\n",
       "  text-decoration: none;\n",
       "}\n",
       "\n",
       "#sk-container-id-1 a.estimator_doc_link.fitted:hover {\n",
       "  /* fitted */\n",
       "  background-color: var(--sklearn-color-fitted-level-3);\n",
       "}\n",
       "</style><div id=\"sk-container-id-1\" class=\"sk-top-container\"><div class=\"sk-text-repr-fallback\"><pre>SequentialFeatureSelector(estimator=SVC(), k_features=(7, 7),\n",
       "                          scoring=&#x27;accuracy&#x27;, verbose=2)</pre><b>In a Jupyter environment, please rerun this cell to show the HTML representation or trust the notebook. <br />On GitHub, the HTML representation is unable to render, please try loading this page with nbviewer.org.</b></div><div class=\"sk-container\" hidden><div class=\"sk-item sk-dashed-wrapped\"><div class=\"sk-label-container\"><div class=\"sk-label fitted sk-toggleable\"><input class=\"sk-toggleable__control sk-hidden--visually\" id=\"sk-estimator-id-1\" type=\"checkbox\" ><label for=\"sk-estimator-id-1\" class=\"sk-toggleable__label fitted sk-toggleable__label-arrow fitted\">&nbsp;SequentialFeatureSelector<span class=\"sk-estimator-doc-link fitted\">i<span>Fitted</span></span></label><div class=\"sk-toggleable__content fitted\"><pre>SequentialFeatureSelector(estimator=SVC(), k_features=(7, 7),\n",
       "                          scoring=&#x27;accuracy&#x27;, verbose=2)</pre></div> </div></div><div class=\"sk-parallel\"><div class=\"sk-parallel-item\"><div class=\"sk-item\"><div class=\"sk-label-container\"><div class=\"sk-label fitted sk-toggleable\"><input class=\"sk-toggleable__control sk-hidden--visually\" id=\"sk-estimator-id-2\" type=\"checkbox\" ><label for=\"sk-estimator-id-2\" class=\"sk-toggleable__label fitted sk-toggleable__label-arrow fitted\">estimator: SVC</label><div class=\"sk-toggleable__content fitted\"><pre>SVC()</pre></div> </div></div><div class=\"sk-serial\"><div class=\"sk-item\"><div class=\"sk-estimator fitted sk-toggleable\"><input class=\"sk-toggleable__control sk-hidden--visually\" id=\"sk-estimator-id-3\" type=\"checkbox\" ><label for=\"sk-estimator-id-3\" class=\"sk-toggleable__label fitted sk-toggleable__label-arrow fitted\">&nbsp;SVC<a class=\"sk-estimator-doc-link fitted\" rel=\"noreferrer\" target=\"_blank\" href=\"https://scikit-learn.org/1.4/modules/generated/sklearn.svm.SVC.html\">?<span>Documentation for SVC</span></a></label><div class=\"sk-toggleable__content fitted\"><pre>SVC()</pre></div> </div></div></div></div></div></div></div></div></div>"
      ],
      "text/plain": [
       "SequentialFeatureSelector(estimator=SVC(), k_features=(7, 7),\n",
       "                          scoring='accuracy', verbose=2)"
      ]
     },
     "execution_count": 15,
     "metadata": {},
     "output_type": "execute_result"
    }
   ],
   "source": [
    "# 支持向量机前向选择\n",
    "from mlxtend.feature_selection import SequentialFeatureSelector as SFS\n",
    "sfs1 = SFS(estimator=svm_clf,k_features=7,forward=True,floating=False,verbose=2,scoring='accuracy',cv=5)\n",
    "sfs1.fit(np.array(X_Forest), Y)\n",
    "# SFS(estimator=SVC(), k_features=5, scoring='accuracy',verbose=2)"
   ]
  },
  {
   "cell_type": "code",
   "execution_count": 16,
   "metadata": {},
   "outputs": [
    {
     "name": "stdout",
     "output_type": "stream",
     "text": [
      "SFS前向选择前的结果: 0.7241669850658623\n",
      "SFS前向选择后的结果: 0.7263003163899591\n"
     ]
    }
   ],
   "source": [
    "X_SFS1 = X_Forest.iloc[:, list(sfs1.k_feature_idx_)]\n",
    "print(\"SFS前向选择前的结果:\",cross_val_score(estimator=svm_clf,X=X_Forest,y=Y,cv=5,scoring='accuracy').mean())\n",
    "print(\"SFS前向选择后的结果:\",cross_val_score(estimator=svm_clf,X=X_SFS1.values,y=Y,cv=5,scoring='accuracy').mean())"
   ]
  },
  {
   "cell_type": "code",
   "execution_count": 17,
   "metadata": {},
   "outputs": [
    {
     "data": {
      "text/html": [
       "<div>\n",
       "<style scoped>\n",
       "    .dataframe tbody tr th:only-of-type {\n",
       "        vertical-align: middle;\n",
       "    }\n",
       "\n",
       "    .dataframe tbody tr th {\n",
       "        vertical-align: top;\n",
       "    }\n",
       "\n",
       "    .dataframe thead th {\n",
       "        text-align: right;\n",
       "    }\n",
       "</style>\n",
       "<table border=\"1\" class=\"dataframe\">\n",
       "  <thead>\n",
       "    <tr style=\"text-align: right;\">\n",
       "      <th></th>\n",
       "      <th>白蛋白</th>\n",
       "      <th>活化部分凝血活酶时间</th>\n",
       "      <th>低密度脂蛋白</th>\n",
       "      <th>钠</th>\n",
       "      <th>中性粒细胞数</th>\n",
       "      <th>甘油三酯</th>\n",
       "      <th>凝血酶原时间</th>\n",
       "    </tr>\n",
       "  </thead>\n",
       "  <tbody>\n",
       "    <tr>\n",
       "      <th>0</th>\n",
       "      <td>39.546489</td>\n",
       "      <td>33.946848</td>\n",
       "      <td>1.670000</td>\n",
       "      <td>137.200000</td>\n",
       "      <td>9.260000</td>\n",
       "      <td>0.570000</td>\n",
       "      <td>13.323282</td>\n",
       "    </tr>\n",
       "    <tr>\n",
       "      <th>1</th>\n",
       "      <td>40.100000</td>\n",
       "      <td>26.000000</td>\n",
       "      <td>0.860000</td>\n",
       "      <td>135.800000</td>\n",
       "      <td>2.890000</td>\n",
       "      <td>1.460000</td>\n",
       "      <td>10.400000</td>\n",
       "    </tr>\n",
       "    <tr>\n",
       "      <th>2</th>\n",
       "      <td>39.100000</td>\n",
       "      <td>27.100000</td>\n",
       "      <td>3.220000</td>\n",
       "      <td>139.400000</td>\n",
       "      <td>4.680000</td>\n",
       "      <td>1.030000</td>\n",
       "      <td>10.200000</td>\n",
       "    </tr>\n",
       "    <tr>\n",
       "      <th>3</th>\n",
       "      <td>40.500000</td>\n",
       "      <td>32.554017</td>\n",
       "      <td>3.620000</td>\n",
       "      <td>146.300000</td>\n",
       "      <td>4.603406</td>\n",
       "      <td>1.160000</td>\n",
       "      <td>12.714961</td>\n",
       "    </tr>\n",
       "    <tr>\n",
       "      <th>4</th>\n",
       "      <td>41.200000</td>\n",
       "      <td>33.047475</td>\n",
       "      <td>3.350000</td>\n",
       "      <td>140.200000</td>\n",
       "      <td>4.847728</td>\n",
       "      <td>1.730000</td>\n",
       "      <td>12.533349</td>\n",
       "    </tr>\n",
       "    <tr>\n",
       "      <th>...</th>\n",
       "      <td>...</td>\n",
       "      <td>...</td>\n",
       "      <td>...</td>\n",
       "      <td>...</td>\n",
       "      <td>...</td>\n",
       "      <td>...</td>\n",
       "      <td>...</td>\n",
       "    </tr>\n",
       "    <tr>\n",
       "      <th>24836</th>\n",
       "      <td>34.700000</td>\n",
       "      <td>37.800000</td>\n",
       "      <td>3.039262</td>\n",
       "      <td>144.000000</td>\n",
       "      <td>6.280000</td>\n",
       "      <td>1.917397</td>\n",
       "      <td>11.700000</td>\n",
       "    </tr>\n",
       "    <tr>\n",
       "      <th>24837</th>\n",
       "      <td>36.900000</td>\n",
       "      <td>38.300000</td>\n",
       "      <td>3.970000</td>\n",
       "      <td>141.699474</td>\n",
       "      <td>9.510000</td>\n",
       "      <td>7.100000</td>\n",
       "      <td>12.300000</td>\n",
       "    </tr>\n",
       "    <tr>\n",
       "      <th>24838</th>\n",
       "      <td>43.506534</td>\n",
       "      <td>33.649698</td>\n",
       "      <td>3.133671</td>\n",
       "      <td>143.000000</td>\n",
       "      <td>4.857917</td>\n",
       "      <td>1.670000</td>\n",
       "      <td>12.898219</td>\n",
       "    </tr>\n",
       "    <tr>\n",
       "      <th>24839</th>\n",
       "      <td>48.300000</td>\n",
       "      <td>33.556394</td>\n",
       "      <td>2.960000</td>\n",
       "      <td>141.998793</td>\n",
       "      <td>3.770986</td>\n",
       "      <td>0.590000</td>\n",
       "      <td>12.946776</td>\n",
       "    </tr>\n",
       "    <tr>\n",
       "      <th>24840</th>\n",
       "      <td>46.200000</td>\n",
       "      <td>35.800000</td>\n",
       "      <td>3.087092</td>\n",
       "      <td>140.000000</td>\n",
       "      <td>4.710000</td>\n",
       "      <td>2.627766</td>\n",
       "      <td>12.400000</td>\n",
       "    </tr>\n",
       "  </tbody>\n",
       "</table>\n",
       "<p>24841 rows × 7 columns</p>\n",
       "</div>"
      ],
      "text/plain": [
       "             白蛋白  活化部分凝血活酶时间    低密度脂蛋白           钠    中性粒细胞数      甘油三酯  \\\n",
       "0      39.546489   33.946848  1.670000  137.200000  9.260000  0.570000   \n",
       "1      40.100000   26.000000  0.860000  135.800000  2.890000  1.460000   \n",
       "2      39.100000   27.100000  3.220000  139.400000  4.680000  1.030000   \n",
       "3      40.500000   32.554017  3.620000  146.300000  4.603406  1.160000   \n",
       "4      41.200000   33.047475  3.350000  140.200000  4.847728  1.730000   \n",
       "...          ...         ...       ...         ...       ...       ...   \n",
       "24836  34.700000   37.800000  3.039262  144.000000  6.280000  1.917397   \n",
       "24837  36.900000   38.300000  3.970000  141.699474  9.510000  7.100000   \n",
       "24838  43.506534   33.649698  3.133671  143.000000  4.857917  1.670000   \n",
       "24839  48.300000   33.556394  2.960000  141.998793  3.770986  0.590000   \n",
       "24840  46.200000   35.800000  3.087092  140.000000  4.710000  2.627766   \n",
       "\n",
       "          凝血酶原时间  \n",
       "0      13.323282  \n",
       "1      10.400000  \n",
       "2      10.200000  \n",
       "3      12.714961  \n",
       "4      12.533349  \n",
       "...          ...  \n",
       "24836  11.700000  \n",
       "24837  12.300000  \n",
       "24838  12.898219  \n",
       "24839  12.946776  \n",
       "24840  12.400000  \n",
       "\n",
       "[24841 rows x 7 columns]"
      ]
     },
     "execution_count": 17,
     "metadata": {},
     "output_type": "execute_result"
    }
   ],
   "source": [
    "X_SFS1"
   ]
  },
  {
   "cell_type": "code",
   "execution_count": 20,
   "metadata": {},
   "outputs": [
    {
     "name": "stderr",
     "output_type": "stream",
     "text": [
      "Outer Loop:   0%|          | 0/10 [00:00<?, ?it/s]"
     ]
    },
    {
     "name": "stderr",
     "output_type": "stream",
     "text": [
      "                                                  \n",
      "Outer Loop:   0%|          | 0/10 [03:02<?, ?it/s]"
     ]
    },
    {
     "name": "stdout",
     "output_type": "stream",
     "text": [
      "finish one param part, c = 1, gamma = 1.0, score = 0.7846273951640266\n"
     ]
    },
    {
     "name": "stderr",
     "output_type": "stream",
     "text": [
      "                                                  \n",
      "Outer Loop:   0%|          | 0/10 [06:10<?, ?it/s]         "
     ]
    },
    {
     "name": "stdout",
     "output_type": "stream",
     "text": [
      "finish one param part, c = 2, gamma = 1.0, score = 0.7899008474117629\n"
     ]
    },
    {
     "name": "stderr",
     "output_type": "stream",
     "text": [
      "                                                  \n",
      "Outer Loop:   0%|          | 0/10 [09:29<?, ?it/s]         "
     ]
    },
    {
     "name": "stdout",
     "output_type": "stream",
     "text": [
      "finish one param part, c = 3, gamma = 1.0, score = 0.7909873583366631\n"
     ]
    },
    {
     "name": "stderr",
     "output_type": "stream",
     "text": [
      "                                                  \n",
      "Outer Loop:   0%|          | 0/10 [12:56<?, ?it/s]         "
     ]
    },
    {
     "name": "stdout",
     "output_type": "stream",
     "text": [
      "finish one param part, c = 4, gamma = 1.0, score = 0.793563750648546\n"
     ]
    },
    {
     "name": "stderr",
     "output_type": "stream",
     "text": [
      "                                                  \n",
      "Outer Loop:   0%|          | 0/10 [16:33<?, ?it/s]         "
     ]
    },
    {
     "name": "stdout",
     "output_type": "stream",
     "text": [
      "finish one param part, c = 5, gamma = 1.0, score = 0.7940870109655711\n"
     ]
    },
    {
     "name": "stderr",
     "output_type": "stream",
     "text": [
      "                                                  \n",
      "Outer Loop:   0%|          | 0/10 [20:18<?, ?it/s]         "
     ]
    },
    {
     "name": "stdout",
     "output_type": "stream",
     "text": [
      "finish one param part, c = 6, gamma = 1.0, score = 0.7945297154758861\n"
     ]
    },
    {
     "name": "stderr",
     "output_type": "stream",
     "text": [
      "                                                  \n",
      "Outer Loop:   0%|          | 0/10 [24:12<?, ?it/s]         "
     ]
    },
    {
     "name": "stdout",
     "output_type": "stream",
     "text": [
      "finish one param part, c = 7, gamma = 1.0, score = 0.794610222672032\n"
     ]
    },
    {
     "name": "stderr",
     "output_type": "stream",
     "text": [
      "                                                  \n",
      "Outer Loop:   0%|          | 0/10 [28:05<?, ?it/s]         "
     ]
    },
    {
     "name": "stdout",
     "output_type": "stream",
     "text": [
      "finish one param part, c = 8, gamma = 1.0, score = 0.7950127505510007\n"
     ]
    },
    {
     "name": "stderr",
     "output_type": "stream",
     "text": [
      "                                                  \n",
      "Outer Loop:   0%|          | 0/10 [32:06<?, ?it/s]         "
     ]
    },
    {
     "name": "stdout",
     "output_type": "stream",
     "text": [
      "finish one param part, c = 9, gamma = 1.0, score = 0.7956568567307322\n"
     ]
    },
    {
     "name": "stderr",
     "output_type": "stream",
     "text": [
      "                                                  \n",
      "Inner Loop: 100%|██████████| 10/10 [36:08<00:00, 216.88s/it]\n",
      "Outer Loop:  10%|█         | 1/10 [36:08<5:25:19, 2168.79s/it]"
     ]
    },
    {
     "name": "stdout",
     "output_type": "stream",
     "text": [
      "finish one param part, c = 10, gamma = 1.0, score = 0.7961398837040861\n"
     ]
    },
    {
     "name": "stderr",
     "output_type": "stream",
     "text": [
      "                                                              \n",
      "Outer Loop:  10%|█         | 1/10 [39:29<5:25:19, 2168.79s/it]"
     ]
    },
    {
     "name": "stdout",
     "output_type": "stream",
     "text": [
      "finish one param part, c = 1, gamma = 2, score = 0.7969445829845525\n"
     ]
    },
    {
     "name": "stderr",
     "output_type": "stream",
     "text": [
      "                                                              \n",
      "Outer Loop:  10%|█         | 1/10 [43:14<5:25:19, 2168.79s/it]"
     ]
    },
    {
     "name": "stdout",
     "output_type": "stream",
     "text": [
      "finish one param part, c = 2, gamma = 2, score = 0.8005271896709681\n"
     ]
    },
    {
     "name": "stderr",
     "output_type": "stream",
     "text": [
      "                                                              \n",
      "Outer Loop:  10%|█         | 1/10 [47:12<5:25:19, 2168.79s/it]"
     ]
    },
    {
     "name": "stdout",
     "output_type": "stream",
     "text": [
      "finish one param part, c = 3, gamma = 2, score = 0.803747639552018\n"
     ]
    },
    {
     "name": "stderr",
     "output_type": "stream",
     "text": [
      "                                                              \n",
      "Outer Loop:  10%|█         | 1/10 [51:16<5:25:19, 2168.79s/it]"
     ]
    },
    {
     "name": "stdout",
     "output_type": "stream",
     "text": [
      "finish one param part, c = 4, gamma = 2, score = 0.8043112223320822\n"
     ]
    },
    {
     "name": "stderr",
     "output_type": "stream",
     "text": [
      "                                                              \n",
      "Outer Loop:  10%|█         | 1/10 [55:25<5:25:19, 2168.79s/it]"
     ]
    },
    {
     "name": "stdout",
     "output_type": "stream",
     "text": [
      "finish one param part, c = 5, gamma = 2, score = 0.8045124700680452\n"
     ]
    },
    {
     "name": "stderr",
     "output_type": "stream",
     "text": [
      "                                                              \n",
      "Outer Loop:  10%|█         | 1/10 [59:40<5:25:19, 2168.79s/it]"
     ]
    },
    {
     "name": "stdout",
     "output_type": "stream",
     "text": [
      "finish one param part, c = 6, gamma = 2, score = 0.8049150141505352\n"
     ]
    },
    {
     "name": "stderr",
     "output_type": "stream",
     "text": [
      "                                                              \n",
      "Outer Loop:  10%|█         | 1/10 [1:04:07<5:25:19, 2168.79s/it]"
     ]
    },
    {
     "name": "stdout",
     "output_type": "stream",
     "text": [
      "finish one param part, c = 7, gamma = 2, score = 0.8060421716089028\n"
     ]
    },
    {
     "name": "stderr",
     "output_type": "stream",
     "text": [
      "                                                                \n",
      "Outer Loop:  10%|█         | 1/10 [1:08:25<5:25:19, 2168.79s/it]"
     ]
    },
    {
     "name": "stdout",
     "output_type": "stream",
     "text": [
      "finish one param part, c = 8, gamma = 2, score = 0.8061629526575234\n"
     ]
    },
    {
     "name": "stderr",
     "output_type": "stream",
     "text": [
      "                                                                \n",
      "Outer Loop:  10%|█         | 1/10 [1:12:46<5:25:19, 2168.79s/it]"
     ]
    },
    {
     "name": "stdout",
     "output_type": "stream",
     "text": [
      "finish one param part, c = 9, gamma = 2, score = 0.806646044444963\n"
     ]
    },
    {
     "name": "stderr",
     "output_type": "stream",
     "text": [
      "                                                                \n",
      "Inner Loop: 100%|██████████| 10/10 [41:00<00:00, 246.02s/it]/it]\n",
      "Outer Loop:  20%|██        | 2/10 [1:17:09<5:12:01, 2340.23s/it]"
     ]
    },
    {
     "name": "stdout",
     "output_type": "stream",
     "text": [
      "finish one param part, c = 10, gamma = 2, score = 0.8068875660334005\n"
     ]
    },
    {
     "name": "stderr",
     "output_type": "stream",
     "text": [
      "                                                                \n",
      "Outer Loop:  20%|██        | 2/10 [1:20:52<5:12:01, 2340.23s/it]"
     ]
    },
    {
     "name": "stdout",
     "output_type": "stream",
     "text": [
      "finish one param part, c = 1, gamma = 3, score = 0.7998020334771234\n"
     ]
    },
    {
     "name": "stderr",
     "output_type": "stream",
     "text": [
      "                                                                \n",
      "Outer Loop:  20%|██        | 2/10 [1:25:07<5:12:01, 2340.23s/it]"
     ]
    },
    {
     "name": "stdout",
     "output_type": "stream",
     "text": [
      "finish one param part, c = 2, gamma = 3, score = 0.8038679831055603\n"
     ]
    },
    {
     "name": "stderr",
     "output_type": "stream",
     "text": [
      "                                                                \n",
      "Outer Loop:  20%|██        | 2/10 [1:29:31<5:12:01, 2340.23s/it]"
     ]
    },
    {
     "name": "stdout",
     "output_type": "stream",
     "text": [
      "finish one param part, c = 3, gamma = 3, score = 0.8046327974180661\n"
     ]
    },
    {
     "name": "stderr",
     "output_type": "stream",
     "text": [
      "                                                                \n",
      "Outer Loop:  20%|██        | 2/10 [1:34:01<5:12:01, 2340.23s/it]"
     ]
    },
    {
     "name": "stdout",
     "output_type": "stream",
     "text": [
      "finish one param part, c = 4, gamma = 3, score = 0.8054378612777644\n"
     ]
    },
    {
     "name": "stderr",
     "output_type": "stream",
     "text": [
      "                                                                \n",
      "Outer Loop:  20%|██        | 2/10 [1:38:33<5:12:01, 2340.23s/it]"
     ]
    },
    {
     "name": "stdout",
     "output_type": "stream",
     "text": [
      "finish one param part, c = 5, gamma = 3, score = 0.806363762898408\n"
     ]
    },
    {
     "name": "stderr",
     "output_type": "stream",
     "text": [
      "                                                                \n",
      "Outer Loop:  20%|██        | 2/10 [1:43:09<5:12:01, 2340.23s/it]"
     ]
    },
    {
     "name": "stdout",
     "output_type": "stream",
     "text": [
      "finish one param part, c = 6, gamma = 3, score = 0.8072494068700987\n"
     ]
    },
    {
     "name": "stderr",
     "output_type": "stream",
     "text": [
      "                                                                \n",
      "Outer Loop:  20%|██        | 2/10 [1:47:46<5:12:01, 2340.23s/it]"
     ]
    },
    {
     "name": "stdout",
     "output_type": "stream",
     "text": [
      "finish one param part, c = 7, gamma = 3, score = 0.8075714518582038\n"
     ]
    },
    {
     "name": "stderr",
     "output_type": "stream",
     "text": [
      "                                                                \n",
      "Outer Loop:  20%|██        | 2/10 [1:52:29<5:12:01, 2340.23s/it]"
     ]
    },
    {
     "name": "stdout",
     "output_type": "stream",
     "text": [
      "finish one param part, c = 8, gamma = 3, score = 0.8078532391973553\n"
     ]
    },
    {
     "name": "stderr",
     "output_type": "stream",
     "text": [
      "                                                                \n",
      "Outer Loop:  20%|██        | 2/10 [1:57:10<5:12:01, 2340.23s/it]"
     ]
    },
    {
     "name": "stdout",
     "output_type": "stream",
     "text": [
      "finish one param part, c = 9, gamma = 3, score = 0.8081752841854601\n"
     ]
    },
    {
     "name": "stderr",
     "output_type": "stream",
     "text": [
      "                                                                \n",
      "Inner Loop: 100%|██████████| 10/10 [44:41<00:00, 268.20s/it]/it]\n",
      "Outer Loop:  30%|███       | 3/10 [2:01:51<4:51:14, 2496.29s/it]"
     ]
    },
    {
     "name": "stdout",
     "output_type": "stream",
     "text": [
      "finish one param part, c = 10, gamma = 3, score = 0.808577844471472\n"
     ]
    },
    {
     "name": "stderr",
     "output_type": "stream",
     "text": [
      "                                                                \n",
      "Outer Loop:  30%|███       | 3/10 [2:05:57<4:51:14, 2496.29s/it]"
     ]
    },
    {
     "name": "stdout",
     "output_type": "stream",
     "text": [
      "finish one param part, c = 1, gamma = 4, score = 0.8029817720106205\n"
     ]
    },
    {
     "name": "stderr",
     "output_type": "stream",
     "text": [
      "                                                                \n",
      "Outer Loop:  30%|███       | 3/10 [2:10:32<4:51:14, 2496.29s/it]"
     ]
    },
    {
     "name": "stdout",
     "output_type": "stream",
     "text": [
      "finish one param part, c = 2, gamma = 4, score = 0.8062024406392094\n"
     ]
    },
    {
     "name": "stderr",
     "output_type": "stream",
     "text": [
      "                                                                \n",
      "Outer Loop:  30%|███       | 3/10 [2:15:14<4:51:14, 2496.29s/it]"
     ]
    },
    {
     "name": "stdout",
     "output_type": "stream",
     "text": [
      "finish one param part, c = 3, gamma = 4, score = 0.8070075288041899\n"
     ]
    },
    {
     "name": "stderr",
     "output_type": "stream",
     "text": [
      "                                                                \n",
      "Outer Loop:  30%|███       | 3/10 [2:20:00<4:51:14, 2496.29s/it]"
     ]
    },
    {
     "name": "stdout",
     "output_type": "stream",
     "text": [
      "finish one param part, c = 4, gamma = 4, score = 0.8080944205118434\n"
     ]
    },
    {
     "name": "stderr",
     "output_type": "stream",
     "text": [
      "                                                                \n",
      "Outer Loop:  30%|███       | 3/10 [2:24:52<4:51:14, 2496.29s/it]"
     ]
    },
    {
     "name": "stdout",
     "output_type": "stream",
     "text": [
      "finish one param part, c = 5, gamma = 4, score = 0.8094228905202595\n"
     ]
    },
    {
     "name": "stderr",
     "output_type": "stream",
     "text": [
      "                                                                \n",
      "Outer Loop:  30%|███       | 3/10 [2:29:42<4:51:14, 2496.29s/it]"
     ]
    },
    {
     "name": "stdout",
     "output_type": "stream",
     "text": [
      "finish one param part, c = 6, gamma = 4, score = 0.8095839211160726\n"
     ]
    },
    {
     "name": "stderr",
     "output_type": "stream",
     "text": [
      "                                                                \n",
      "Outer Loop:  30%|███       | 3/10 [2:34:34<4:51:14, 2496.29s/it]"
     ]
    },
    {
     "name": "stdout",
     "output_type": "stream",
     "text": [
      "finish one param part, c = 7, gamma = 4, score = 0.8098254508062711\n"
     ]
    },
    {
     "name": "stderr",
     "output_type": "stream",
     "text": [
      "                                                                \n",
      "Outer Loop:  30%|███       | 3/10 [2:39:27<4:51:14, 2496.29s/it]"
     ]
    },
    {
     "name": "stdout",
     "output_type": "stream",
     "text": [
      "finish one param part, c = 8, gamma = 4, score = 0.8098657084552243\n"
     ]
    },
    {
     "name": "stderr",
     "output_type": "stream",
     "text": [
      "                                                                \n",
      "Outer Loop:  30%|███       | 3/10 [2:44:20<4:51:14, 2496.29s/it]"
     ]
    },
    {
     "name": "stdout",
     "output_type": "stream",
     "text": [
      "finish one param part, c = 9, gamma = 4, score = 0.8100267471527982\n"
     ]
    },
    {
     "name": "stderr",
     "output_type": "stream",
     "text": [
      "                                                                \n",
      "Inner Loop: 100%|██████████| 10/10 [47:23<00:00, 284.36s/it]/it]\n",
      "Outer Loop:  40%|████      | 4/10 [2:49:14<4:23:20, 2633.42s/it]"
     ]
    },
    {
     "name": "stdout",
     "output_type": "stream",
     "text": [
      "finish one param part, c = 10, gamma = 4, score = 0.8099462318548916\n"
     ]
    },
    {
     "name": "stderr",
     "output_type": "stream",
     "text": [
      "                                                                \n",
      "Outer Loop:  40%|████      | 4/10 [2:53:30<4:23:20, 2633.42s/it]"
     ]
    },
    {
     "name": "stdout",
     "output_type": "stream",
     "text": [
      "finish one param part, c = 1, gamma = 5, score = 0.8050344665103999\n"
     ]
    },
    {
     "name": "stderr",
     "output_type": "stream",
     "text": [
      "                                                                \n",
      "Outer Loop:  40%|████      | 4/10 [2:58:18<4:23:20, 2633.42s/it]"
     ]
    },
    {
     "name": "stdout",
     "output_type": "stream",
     "text": [
      "finish one param part, c = 2, gamma = 5, score = 0.8075304974578295\n"
     ]
    },
    {
     "name": "stderr",
     "output_type": "stream",
     "text": [
      "                                                                \n",
      "Outer Loop:  40%|████      | 4/10 [3:03:09<4:23:20, 2633.42s/it]"
     ]
    },
    {
     "name": "stdout",
     "output_type": "stream",
     "text": [
      "finish one param part, c = 3, gamma = 5, score = 0.8088589269574422\n"
     ]
    },
    {
     "name": "stderr",
     "output_type": "stream",
     "text": [
      "                                                                \n",
      "Outer Loop:  40%|████      | 4/10 [3:08:16<4:23:20, 2633.42s/it]"
     ]
    },
    {
     "name": "stdout",
     "output_type": "stream",
     "text": [
      "finish one param part, c = 4, gamma = 5, score = 0.8092614710399323\n"
     ]
    },
    {
     "name": "stderr",
     "output_type": "stream",
     "text": [
      "                                                                \n",
      "Outer Loop:  40%|████      | 4/10 [3:13:12<4:23:20, 2633.42s/it]"
     ]
    },
    {
     "name": "stdout",
     "output_type": "stream",
     "text": [
      "finish one param part, c = 5, gamma = 5, score = 0.809744530420329\n"
     ]
    },
    {
     "name": "stderr",
     "output_type": "stream",
     "text": [
      "                                                                \n",
      "Outer Loop:  40%|████      | 4/10 [3:18:10<4:23:20, 2633.42s/it]"
     ]
    },
    {
     "name": "stdout",
     "output_type": "stream",
     "text": [
      "finish one param part, c = 6, gamma = 5, score = 0.8098250700235179\n"
     ]
    },
    {
     "name": "stderr",
     "output_type": "stream",
     "text": [
      "                                                                \n",
      "Outer Loop:  40%|████      | 4/10 [3:23:08<4:23:20, 2633.42s/it]"
     ]
    },
    {
     "name": "stdout",
     "output_type": "stream",
     "text": [
      "finish one param part, c = 7, gamma = 5, score = 0.8100666240189984\n"
     ]
    },
    {
     "name": "stderr",
     "output_type": "stream",
     "text": [
      "                                                                \n",
      "Outer Loop:  40%|████      | 4/10 [3:28:46<4:23:20, 2633.42s/it]"
     ]
    },
    {
     "name": "stdout",
     "output_type": "stream",
     "text": [
      "finish one param part, c = 8, gamma = 5, score = 0.8104289428595781\n"
     ]
    },
    {
     "name": "stderr",
     "output_type": "stream",
     "text": [
      "                                                                \n",
      "Outer Loop:  40%|████      | 4/10 [3:34:58<4:23:20, 2633.42s/it]"
     ]
    },
    {
     "name": "stdout",
     "output_type": "stream",
     "text": [
      "finish one param part, c = 9, gamma = 5, score = 0.8103484194599107\n"
     ]
    },
    {
     "name": "stderr",
     "output_type": "stream",
     "text": [
      "                                                                \n",
      "Inner Loop: 100%|██████████| 10/10 [51:50<00:00, 311.09s/it]/it]\n",
      "Outer Loop:  50%|█████     | 5/10 [3:41:05<3:53:48, 2805.61s/it]"
     ]
    },
    {
     "name": "stdout",
     "output_type": "stream",
     "text": [
      "finish one param part, c = 10, gamma = 5, score = 0.8103081618109573\n"
     ]
    },
    {
     "name": "stderr",
     "output_type": "stream",
     "text": [
      "                                                                \n",
      "Outer Loop:  50%|█████     | 5/10 [3:46:19<3:53:48, 2805.61s/it]"
     ]
    },
    {
     "name": "stdout",
     "output_type": "stream",
     "text": [
      "finish one param part, c = 1, gamma = 6, score = 0.805477025189022\n"
     ]
    },
    {
     "name": "stderr",
     "output_type": "stream",
     "text": [
      "                                                                \n",
      "Outer Loop:  50%|█████     | 5/10 [3:51:55<3:53:48, 2805.61s/it]"
     ]
    },
    {
     "name": "stdout",
     "output_type": "stream",
     "text": [
      "finish one param part, c = 2, gamma = 6, score = 0.8080938047780295\n"
     ]
    },
    {
     "name": "stderr",
     "output_type": "stream",
     "text": [
      "                                                                \n",
      "Outer Loop:  50%|█████     | 5/10 [3:57:33<3:53:48, 2805.61s/it]"
     ]
    },
    {
     "name": "stdout",
     "output_type": "stream",
     "text": [
      "finish one param part, c = 3, gamma = 6, score = 0.8088989010447707\n"
     ]
    },
    {
     "name": "stderr",
     "output_type": "stream",
     "text": [
      "                                                                \n",
      "Outer Loop:  50%|█████     | 5/10 [4:03:04<3:53:48, 2805.61s/it]"
     ]
    },
    {
     "name": "stdout",
     "output_type": "stream",
     "text": [
      "finish one param part, c = 4, gamma = 6, score = 0.809422242379403\n"
     ]
    },
    {
     "name": "stderr",
     "output_type": "stream",
     "text": [
      "                                                                \n",
      "Outer Loop:  50%|█████     | 5/10 [4:08:35<3:53:48, 2805.61s/it]"
     ]
    },
    {
     "name": "stdout",
     "output_type": "stream",
     "text": [
      "finish one param part, c = 5, gamma = 6, score = 0.8094625081301169\n"
     ]
    },
    {
     "name": "stderr",
     "output_type": "stream",
     "text": [
      "                                                                \n",
      "Outer Loop:  50%|█████     | 5/10 [4:14:06<3:53:48, 2805.61s/it]"
     ]
    },
    {
     "name": "stdout",
     "output_type": "stream",
     "text": [
      "finish one param part, c = 6, gamma = 6, score = 0.809663804476644\n"
     ]
    },
    {
     "name": "stderr",
     "output_type": "stream",
     "text": [
      "                                                                \n",
      "Outer Loop:  50%|█████     | 5/10 [4:19:37<3:53:48, 2805.61s/it]"
     ]
    },
    {
     "name": "stdout",
     "output_type": "stream",
     "text": [
      "finish one param part, c = 7, gamma = 6, score = 0.809583272975216\n"
     ]
    },
    {
     "name": "stderr",
     "output_type": "stream",
     "text": [
      "                                                                \n",
      "Outer Loop:  50%|█████     | 5/10 [4:25:09<3:53:48, 2805.61s/it]"
     ]
    },
    {
     "name": "stdout",
     "output_type": "stream",
     "text": [
      "finish one param part, c = 8, gamma = 6, score = 0.8095430153262628\n"
     ]
    },
    {
     "name": "stderr",
     "output_type": "stream",
     "text": [
      "                                                                \n",
      "Outer Loop:  50%|█████     | 5/10 [4:30:59<3:53:48, 2805.61s/it]"
     ]
    },
    {
     "name": "stdout",
     "output_type": "stream",
     "text": [
      "finish one param part, c = 9, gamma = 6, score = 0.809583272975216\n"
     ]
    },
    {
     "name": "stderr",
     "output_type": "stream",
     "text": [
      "                                                                \n",
      "Inner Loop: 100%|██████████| 10/10 [55:49<00:00, 334.94s/it]/it]\n",
      "Outer Loop:  60%|██████    | 6/10 [4:36:54<3:19:21, 2990.50s/it]"
     ]
    },
    {
     "name": "stdout",
     "output_type": "stream",
     "text": [
      "finish one param part, c = 10, gamma = 6, score = 0.8095430153262628\n"
     ]
    },
    {
     "name": "stderr",
     "output_type": "stream",
     "text": [
      "                                                                \n",
      "Outer Loop:  60%|██████    | 6/10 [4:42:18<3:19:21, 2990.50s/it]"
     ]
    },
    {
     "name": "stdout",
     "output_type": "stream",
     "text": [
      "finish one param part, c = 1, gamma = 7, score = 0.8053157110315841\n"
     ]
    },
    {
     "name": "stderr",
     "output_type": "stream",
     "text": [
      "                                                                \n",
      "Outer Loop:  60%|██████    | 6/10 [4:47:53<3:19:21, 2990.50s/it]"
     ]
    },
    {
     "name": "stdout",
     "output_type": "stream",
     "text": [
      "finish one param part, c = 2, gamma = 7, score = 0.8082545518122182\n"
     ]
    },
    {
     "name": "stderr",
     "output_type": "stream",
     "text": [
      "                                                                \n",
      "Outer Loop:  60%|██████    | 6/10 [4:53:06<3:19:21, 2990.50s/it]"
     ]
    },
    {
     "name": "stdout",
     "output_type": "stream",
     "text": [
      "finish one param part, c = 3, gamma = 7, score = 0.8092207110818151\n"
     ]
    },
    {
     "name": "stderr",
     "output_type": "stream",
     "text": [
      "                                                                \n",
      "Outer Loop:  60%|██████    | 6/10 [4:58:38<3:19:21, 2990.50s/it]"
     ]
    },
    {
     "name": "stdout",
     "output_type": "stream",
     "text": [
      "finish one param part, c = 4, gamma = 7, score = 0.8094622407720136\n"
     ]
    },
    {
     "name": "stderr",
     "output_type": "stream",
     "text": [
      "                                                                \n",
      "Outer Loop:  60%|██████    | 6/10 [5:03:35<3:19:21, 2990.50s/it]"
     ]
    },
    {
     "name": "stdout",
     "output_type": "stream",
     "text": [
      "finish one param part, c = 5, gamma = 7, score = 0.809301218277961\n"
     ]
    },
    {
     "name": "stderr",
     "output_type": "stream",
     "text": [
      "                                                                \n",
      "Outer Loop:  60%|██████    | 6/10 [5:08:26<3:19:21, 2990.50s/it]"
     ]
    },
    {
     "name": "stdout",
     "output_type": "stream",
     "text": [
      "finish one param part, c = 6, gamma = 7, score = 0.8094219912248211\n"
     ]
    },
    {
     "name": "stderr",
     "output_type": "stream",
     "text": [
      "                                                                \n",
      "Outer Loop:  60%|██████    | 6/10 [5:13:26<3:19:21, 2990.50s/it]"
     ]
    },
    {
     "name": "stdout",
     "output_type": "stream",
     "text": [
      "finish one param part, c = 7, gamma = 7, score = 0.8093817497793891\n"
     ]
    },
    {
     "name": "stderr",
     "output_type": "stream",
     "text": [
      "                                                                \n",
      "Outer Loop:  60%|██████    | 6/10 [5:18:33<3:19:21, 2990.50s/it]"
     ]
    },
    {
     "name": "stdout",
     "output_type": "stream",
     "text": [
      "finish one param part, c = 8, gamma = 7, score = 0.8094622650772957\n"
     ]
    },
    {
     "name": "stderr",
     "output_type": "stream",
     "text": [
      "                                                                \n",
      "Outer Loop:  60%|██████    | 6/10 [5:23:42<3:19:21, 2990.50s/it]"
     ]
    },
    {
     "name": "stdout",
     "output_type": "stream",
     "text": [
      "finish one param part, c = 9, gamma = 7, score = 0.8094622650772957\n"
     ]
    },
    {
     "name": "stderr",
     "output_type": "stream",
     "text": [
      "                                                                \n",
      "Inner Loop: 100%|██████████| 10/10 [52:56<00:00, 317.66s/it]/it]\n",
      "Outer Loop:  70%|███████   | 7/10 [5:29:51<2:32:34, 3051.35s/it]"
     ]
    },
    {
     "name": "stdout",
     "output_type": "stream",
     "text": [
      "finish one param part, c = 10, gamma = 7, score = 0.8093817578811497\n"
     ]
    },
    {
     "name": "stderr",
     "output_type": "stream",
     "text": [
      "                                                                \n",
      "Outer Loop:  70%|███████   | 7/10 [5:34:53<2:32:34, 3051.35s/it]"
     ]
    },
    {
     "name": "stdout",
     "output_type": "stream",
     "text": [
      "finish one param part, c = 1, gamma = 8, score = 0.8046714023078352\n"
     ]
    },
    {
     "name": "stderr",
     "output_type": "stream",
     "text": [
      "                                                                \n",
      "Outer Loop:  70%|███████   | 7/10 [5:39:49<2:32:34, 3051.35s/it]"
     ]
    },
    {
     "name": "stdout",
     "output_type": "stream",
     "text": [
      "finish one param part, c = 2, gamma = 8, score = 0.8076102268849474\n"
     ]
    },
    {
     "name": "stderr",
     "output_type": "stream",
     "text": [
      "                                                                \n",
      "Outer Loop:  70%|███████   | 7/10 [5:44:48<2:32:34, 3051.35s/it]"
     ]
    },
    {
     "name": "stdout",
     "output_type": "stream",
     "text": [
      "finish one param part, c = 3, gamma = 8, score = 0.8083751141132997\n"
     ]
    },
    {
     "name": "stderr",
     "output_type": "stream",
     "text": [
      "                                                                \n",
      "Outer Loop:  70%|███████   | 7/10 [5:49:48<2:32:34, 3051.35s/it]"
     ]
    },
    {
     "name": "stdout",
     "output_type": "stream",
     "text": [
      "finish one param part, c = 4, gamma = 8, score = 0.8084958870601595\n"
     ]
    },
    {
     "name": "stderr",
     "output_type": "stream",
     "text": [
      "                                                                \n",
      "Outer Loop:  70%|███████   | 7/10 [5:54:46<2:32:34, 3051.35s/it]"
     ]
    },
    {
     "name": "stdout",
     "output_type": "stream",
     "text": [
      "finish one param part, c = 5, gamma = 8, score = 0.8084556375129669\n"
     ]
    },
    {
     "name": "stderr",
     "output_type": "stream",
     "text": [
      "                                                                \n",
      "Outer Loop:  70%|███████   | 7/10 [5:59:45<2:32:34, 3051.35s/it]"
     ]
    },
    {
     "name": "stdout",
     "output_type": "stream",
     "text": [
      "finish one param part, c = 6, gamma = 8, score = 0.808375130316821\n"
     ]
    },
    {
     "name": "stderr",
     "output_type": "stream",
     "text": [
      "                                                                \n",
      "Outer Loop:  70%|███████   | 7/10 [6:04:45<2:32:34, 3051.35s/it]"
     ]
    },
    {
     "name": "stdout",
     "output_type": "stream",
     "text": [
      "finish one param part, c = 7, gamma = 8, score = 0.8084959032636808\n"
     ]
    },
    {
     "name": "stderr",
     "output_type": "stream",
     "text": [
      "                                                                \n",
      "Outer Loop:  70%|███████   | 7/10 [6:09:55<2:32:34, 3051.35s/it]"
     ]
    },
    {
     "name": "stdout",
     "output_type": "stream",
     "text": [
      "finish one param part, c = 8, gamma = 8, score = 0.8084959032636808\n"
     ]
    },
    {
     "name": "stderr",
     "output_type": "stream",
     "text": [
      "                                                                \n",
      "Outer Loop:  70%|███████   | 7/10 [6:16:38<2:32:34, 3051.35s/it]"
     ]
    },
    {
     "name": "stdout",
     "output_type": "stream",
     "text": [
      "finish one param part, c = 9, gamma = 8, score = 0.8084556456147276\n"
     ]
    },
    {
     "name": "stderr",
     "output_type": "stream",
     "text": [
      "                                                                \n",
      "Inner Loop: 100%|██████████| 10/10 [54:50<00:00, 329.07s/it]/it]\n",
      "Outer Loop:  80%|████████  | 8/10 [6:24:42<1:44:15, 3127.54s/it]"
     ]
    },
    {
     "name": "stdout",
     "output_type": "stream",
     "text": [
      "finish one param part, c = 10, gamma = 8, score = 0.8084958951619201\n"
     ]
    },
    {
     "name": "stderr",
     "output_type": "stream",
     "text": [
      "                                                                \n",
      "Outer Loop:  80%|████████  | 8/10 [6:31:24<1:44:15, 3127.54s/it]"
     ]
    },
    {
     "name": "stdout",
     "output_type": "stream",
     "text": [
      "finish one param part, c = 1, gamma = 9, score = 0.8053152897400274\n"
     ]
    },
    {
     "name": "stderr",
     "output_type": "stream",
     "text": [
      "                                                                \n",
      "Outer Loop:  80%|████████  | 8/10 [6:36:08<1:44:15, 3127.54s/it]"
     ]
    },
    {
     "name": "stdout",
     "output_type": "stream",
     "text": [
      "finish one param part, c = 2, gamma = 9, score = 0.8070866587010155\n"
     ]
    },
    {
     "name": "stderr",
     "output_type": "stream",
     "text": [
      "                                                                \n",
      "Outer Loop:  80%|████████  | 8/10 [6:40:54<1:44:15, 3127.54s/it]"
     ]
    },
    {
     "name": "stdout",
     "output_type": "stream",
     "text": [
      "finish one param part, c = 3, gamma = 9, score = 0.8075697666919766\n"
     ]
    },
    {
     "name": "stderr",
     "output_type": "stream",
     "text": [
      "                                                                \n",
      "Outer Loop:  80%|████████  | 8/10 [6:45:42<1:44:15, 3127.54s/it]"
     ]
    },
    {
     "name": "stdout",
     "output_type": "stream",
     "text": [
      "finish one param part, c = 4, gamma = 9, score = 0.8075295090430232\n"
     ]
    },
    {
     "name": "stderr",
     "output_type": "stream",
     "text": [
      "                                                                \n",
      "Outer Loop:  80%|████████  | 8/10 [6:50:29<1:44:15, 3127.54s/it]"
     ]
    },
    {
     "name": "stdout",
     "output_type": "stream",
     "text": [
      "finish one param part, c = 5, gamma = 9, score = 0.8073684865489706\n"
     ]
    },
    {
     "name": "stderr",
     "output_type": "stream",
     "text": [
      "                                                                \n",
      "Outer Loop:  80%|████████  | 8/10 [6:55:16<1:44:15, 3127.54s/it]"
     ]
    },
    {
     "name": "stdout",
     "output_type": "stream",
     "text": [
      "finish one param part, c = 6, gamma = 9, score = 0.8075295171447839\n"
     ]
    },
    {
     "name": "stderr",
     "output_type": "stream",
     "text": [
      "                                                                \n",
      "Outer Loop:  80%|████████  | 8/10 [7:00:02<1:44:15, 3127.54s/it]"
     ]
    },
    {
     "name": "stdout",
     "output_type": "stream",
     "text": [
      "finish one param part, c = 7, gamma = 9, score = 0.8074490018468774\n"
     ]
    },
    {
     "name": "stderr",
     "output_type": "stream",
     "text": [
      "                                                                \n",
      "Outer Loop:  80%|████████  | 8/10 [7:05:52<1:44:15, 3127.54s/it]"
     ]
    },
    {
     "name": "stdout",
     "output_type": "stream",
     "text": [
      "finish one param part, c = 8, gamma = 9, score = 0.8074490018468774\n"
     ]
    },
    {
     "name": "stderr",
     "output_type": "stream",
     "text": [
      "                                                                \n",
      "Outer Loop:  80%|████████  | 8/10 [7:13:05<1:44:15, 3127.54s/it]"
     ]
    },
    {
     "name": "stdout",
     "output_type": "stream",
     "text": [
      "finish one param part, c = 9, gamma = 9, score = 0.8073684946507316\n"
     ]
    },
    {
     "name": "stderr",
     "output_type": "stream",
     "text": [
      "                                                                \n",
      "Inner Loop: 100%|██████████| 10/10 [55:41<00:00, 334.16s/it]/it]\n",
      "Outer Loop:  90%|█████████ | 9/10 [7:20:23<53:14, 3194.46s/it]  "
     ]
    },
    {
     "name": "stdout",
     "output_type": "stream",
     "text": [
      "finish one param part, c = 10, gamma = 9, score = 0.8074490018468774\n"
     ]
    },
    {
     "name": "stderr",
     "output_type": "stream",
     "text": [
      "                                                              \n",
      "Outer Loop:  90%|█████████ | 9/10 [7:27:13<53:14, 3194.46s/it]"
     ]
    },
    {
     "name": "stdout",
     "output_type": "stream",
     "text": [
      "finish one param part, c = 1, gamma = 10, score = 0.8062008202870681\n"
     ]
    },
    {
     "name": "stderr",
     "output_type": "stream",
     "text": [
      "                                                              \n",
      "Outer Loop:  90%|█████████ | 9/10 [7:34:22<53:14, 3194.46s/it]"
     ]
    },
    {
     "name": "stdout",
     "output_type": "stream",
     "text": [
      "finish one param part, c = 2, gamma = 10, score = 0.8071670362689902\n"
     ]
    },
    {
     "name": "stderr",
     "output_type": "stream",
     "text": [
      "                                                              \n",
      "Outer Loop:  90%|█████████ | 9/10 [7:41:31<53:14, 3194.46s/it]"
     ]
    },
    {
     "name": "stdout",
     "output_type": "stream",
     "text": [
      "finish one param part, c = 3, gamma = 10, score = 0.8072072939179435\n"
     ]
    },
    {
     "name": "stderr",
     "output_type": "stream",
     "text": [
      "                                                              \n",
      "Outer Loop:  90%|█████████ | 9/10 [7:47:29<53:14, 3194.46s/it]"
     ]
    },
    {
     "name": "stdout",
     "output_type": "stream",
     "text": [
      "finish one param part, c = 4, gamma = 10, score = 0.8072878092158501\n"
     ]
    },
    {
     "name": "stderr",
     "output_type": "stream",
     "text": [
      "                                                              \n",
      "Outer Loop:  90%|█████████ | 9/10 [7:52:18<53:14, 3194.46s/it]"
     ]
    },
    {
     "name": "stdout",
     "output_type": "stream",
     "text": [
      "finish one param part, c = 5, gamma = 10, score = 0.807328074966564\n"
     ]
    },
    {
     "name": "stderr",
     "output_type": "stream",
     "text": [
      "                                                              \n",
      "Outer Loop:  90%|█████████ | 9/10 [7:57:07<53:14, 3194.46s/it]"
     ]
    },
    {
     "name": "stdout",
     "output_type": "stream",
     "text": [
      "finish one param part, c = 6, gamma = 10, score = 0.8072878173176108\n"
     ]
    },
    {
     "name": "stderr",
     "output_type": "stream",
     "text": [
      "                                                              \n",
      "Outer Loop:  90%|█████████ | 9/10 [8:01:57<53:14, 3194.46s/it]"
     ]
    },
    {
     "name": "stdout",
     "output_type": "stream",
     "text": [
      "finish one param part, c = 7, gamma = 10, score = 0.8072878173176108\n"
     ]
    },
    {
     "name": "stderr",
     "output_type": "stream",
     "text": [
      "                                                              \n",
      "Outer Loop:  90%|█████████ | 9/10 [8:06:45<53:14, 3194.46s/it]"
     ]
    },
    {
     "name": "stdout",
     "output_type": "stream",
     "text": [
      "finish one param part, c = 8, gamma = 10, score = 0.8072878173176108\n"
     ]
    },
    {
     "name": "stderr",
     "output_type": "stream",
     "text": [
      "                                                              \n",
      "Outer Loop:  90%|█████████ | 9/10 [8:11:34<53:14, 3194.46s/it]"
     ]
    },
    {
     "name": "stdout",
     "output_type": "stream",
     "text": [
      "finish one param part, c = 9, gamma = 10, score = 0.8072475596686575\n"
     ]
    },
    {
     "name": "stderr",
     "output_type": "stream",
     "text": [
      "                                                              \n",
      "Inner Loop: 100%|██████████| 10/10 [55:59<00:00, 335.98s/it]t]\n",
      "Outer Loop: 100%|██████████| 10/10 [8:16:23<00:00, 2978.37s/it]"
     ]
    },
    {
     "name": "stdout",
     "output_type": "stream",
     "text": [
      "finish one param part, c = 10, gamma = 10, score = 0.8073280668648033\n",
      "best param: C = 8, gamma = 5, score = 0.8104289428595781\n"
     ]
    },
    {
     "name": "stderr",
     "output_type": "stream",
     "text": [
      "\n"
     ]
    }
   ],
   "source": [
    "# 暂使用X_SFS1训练SVM\n",
    "gamma = cfg['gamma']\n",
    "C = cfg['C']\n",
    "best_score = 0.0\n",
    "best_params = {'C' : -1.0, 'gamma' : -1.0}\n",
    "for g in tqdm(gamma, desc='Outer Loop'):\n",
    "    for c in tqdm(C, desc='Inner Loop'):\n",
    "        svm = SVC(gamma=g, C=c)\n",
    "        # svm.fit(X_SFS1, Y)\n",
    "        scores = cross_val_score(svm, X_SFS1, Y, cv=5, scoring='accuracy')\n",
    "        score = np.mean(scores)\n",
    "        if score > best_score:\n",
    "            best_score = score\n",
    "            best_params['C'] = c\n",
    "            best_params['gamma'] = g\n",
    "        tqdm.write(f'finish one param part, c = {c}, gamma = {g}, score = {score}')\n",
    "tqdm.write(f'best param: C = {best_params[\"C\"]}, gamma = {best_params[\"gamma\"]}, score = {best_score}')\n"
   ]
  },
  {
   "cell_type": "code",
   "execution_count": null,
   "metadata": {},
   "outputs": [],
   "source": []
  }
 ],
 "metadata": {
  "kernelspec": {
   "display_name": "Python 3",
   "language": "python",
   "name": "python3"
  },
  "language_info": {
   "codemirror_mode": {
    "name": "ipython",
    "version": 3
   },
   "file_extension": ".py",
   "mimetype": "text/x-python",
   "name": "python",
   "nbconvert_exporter": "python",
   "pygments_lexer": "ipython3",
   "version": "3.10.12"
  }
 },
 "nbformat": 4,
 "nbformat_minor": 2
}
