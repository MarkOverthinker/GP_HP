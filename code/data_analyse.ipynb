{
 "cells": [
  {
   "cell_type": "code",
   "execution_count": 1,
   "metadata": {},
   "outputs": [],
   "source": [
    "import polars as pl\n",
    "import pandas as pd\n",
    "from sklearn import linear_model\n",
    "from sklearn.model_selection import cross_val_score\n",
    "from sklearn.model_selection import train_test_split"
   ]
  },
  {
   "cell_type": "code",
   "execution_count": 8,
   "metadata": {},
   "outputs": [],
   "source": [
    "data_path = '/home/gyli/GP_HP/data/hypertension.csv'\n",
    "raw_data = pl.read_csv(data_path, dtypes={'年龄' : pl.Float64})\n",
    "# .with_columns(pl.col('年龄').cast(pl.Int64))"
   ]
  },
  {
   "cell_type": "code",
   "execution_count": 3,
   "metadata": {},
   "outputs": [
    {
     "data": {
      "text/html": [
       "<div><style>\n",
       ".dataframe > thead > tr,\n",
       ".dataframe > tbody > tr {\n",
       "  text-align: right;\n",
       "  white-space: pre-wrap;\n",
       "}\n",
       "</style>\n",
       "<small>shape: (33_287, 24)</small><table border=\"1\" class=\"dataframe\"><thead><tr><th>年龄</th><th>中性粒细胞数</th><th>淋巴细胞数</th><th>嗜酸性粒细胞数</th><th>嗜碱性粒细胞数</th><th>总蛋白</th><th>白蛋白</th><th>球蛋白</th><th>总胆红素</th><th>直接胆红素</th><th>钾</th><th>钠</th><th>钙</th><th>尿素氮</th><th>谷草谷丙</th><th>甘油三酯</th><th>高密度脂蛋白</th><th>低密度脂蛋白</th><th>红细胞平均体积</th><th>凝血酶原时间</th><th>国际标准化比值</th><th>活化部分凝血活酶时间</th><th>纤维蛋白原</th><th>是否高血压</th></tr><tr><td>i64</td><td>f64</td><td>f64</td><td>f64</td><td>f64</td><td>f64</td><td>f64</td><td>f64</td><td>f64</td><td>f64</td><td>f64</td><td>f64</td><td>f64</td><td>f64</td><td>f64</td><td>f64</td><td>f64</td><td>f64</td><td>f64</td><td>f64</td><td>f64</td><td>f64</td><td>f64</td><td>i64</td></tr></thead><tbody><tr><td>79</td><td>9.26</td><td>2.14</td><td>0.18</td><td>0.03</td><td>67.948927</td><td>39.546489</td><td>28.401192</td><td>10.637813</td><td>3.191754</td><td>4.1</td><td>137.2</td><td>2.34</td><td>5.2</td><td>1.2</td><td>0.57</td><td>1.1</td><td>1.67</td><td>95.0</td><td>13.323282</td><td>1.06193</td><td>33.946848</td><td>3.590508</td><td>0</td></tr><tr><td>73</td><td>2.89</td><td>1.33</td><td>0.13</td><td>0.02</td><td>61.0</td><td>40.1</td><td>20.9</td><td>12.6</td><td>4.9</td><td>3.9</td><td>135.8</td><td>2.34</td><td>4.9</td><td>1.4</td><td>1.46</td><td>0.85</td><td>0.86</td><td>90.9</td><td>10.4</td><td>0.87</td><td>26.0</td><td>2.03</td><td>0</td></tr><tr><td>65</td><td>4.68</td><td>2.13</td><td>0.2</td><td>0.06</td><td>61.5</td><td>39.1</td><td>22.4</td><td>13.2</td><td>4.6</td><td>3.7</td><td>139.4</td><td>2.33</td><td>6.0</td><td>0.6</td><td>1.03</td><td>1.2</td><td>3.22</td><td>89.5</td><td>10.2</td><td>0.85</td><td>27.1</td><td>2.57</td><td>0</td></tr><tr><td>44</td><td>4.603406</td><td>2.157543</td><td>0.172844</td><td>0.009425</td><td>73.6</td><td>40.5</td><td>33.1</td><td>14.5</td><td>5.1</td><td>4.0</td><td>146.3</td><td>2.35</td><td>4.2</td><td>1.0</td><td>1.16</td><td>1.25</td><td>3.62</td><td>91.860633</td><td>12.714961</td><td>1.000874</td><td>32.554017</td><td>3.452106</td><td>0</td></tr><tr><td>53</td><td>4.8477278</td><td>1.971421</td><td>0.163157</td><td>0.01747</td><td>70.9</td><td>41.2</td><td>29.7</td><td>17.3</td><td>5.8</td><td>4.4</td><td>140.2</td><td>2.4</td><td>4.2</td><td>1.0</td><td>1.73</td><td>1.77</td><td>3.35</td><td>93.074734</td><td>12.533349</td><td>0.96654</td><td>33.047475</td><td>3.903806</td><td>0</td></tr><tr><td>44</td><td>5.282167</td><td>1.924444</td><td>0.15032</td><td>0.014263</td><td>59.7</td><td>37.1</td><td>22.6</td><td>11.2</td><td>4.0</td><td>4.3</td><td>140.4</td><td>2.36</td><td>6.4</td><td>1.1</td><td>0.91</td><td>1.66</td><td>2.98</td><td>93.118798</td><td>12.728541</td><td>0.992288</td><td>32.75741</td><td>3.500309</td><td>0</td></tr><tr><td>73</td><td>5.045916</td><td>2.014818</td><td>0.179689</td><td>0.01221</td><td>65.0</td><td>35.8</td><td>29.2</td><td>9.3</td><td>3.0</td><td>4.3</td><td>145.0</td><td>2.34</td><td>7.6</td><td>1.0</td><td>1.17</td><td>1.22</td><td>3.36</td><td>91.670342</td><td>12.770883</td><td>1.007072</td><td>32.918</td><td>3.683694</td><td>1</td></tr><tr><td>44</td><td>5.518344</td><td>1.837139</td><td>0.140389</td><td>0.011307</td><td>56.8</td><td>34.7</td><td>22.1</td><td>18.4</td><td>7.4</td><td>3.8</td><td>141.4</td><td>2.19</td><td>7.7</td><td>0.8</td><td>1.950352</td><td>1.192077</td><td>2.966517</td><td>92.088986</td><td>13.000624</td><td>1.019427</td><td>33.688882</td><td>3.418911</td><td>0</td></tr><tr><td>51</td><td>4.950973</td><td>2.29587</td><td>0.253054</td><td>0.021583</td><td>85.2</td><td>44.5</td><td>40.7</td><td>13.0</td><td>4.0</td><td>5.7</td><td>141.0</td><td>2.74</td><td>9.56007</td><td>1.0</td><td>3.20164</td><td>1.450097</td><td>3.032636</td><td>91.512642</td><td>12.090617</td><td>0.943692</td><td>32.396507</td><td>4.786998</td><td>0</td></tr><tr><td>45</td><td>3.969418</td><td>2.164713</td><td>0.175005</td><td>0.010641</td><td>73.692509</td><td>46.603406</td><td>27.090757</td><td>12.08999</td><td>3.23686</td><td>4.5</td><td>142.3</td><td>2.39</td><td>5.0</td><td>0.8</td><td>0.41</td><td>1.22</td><td>2.1</td><td>92.399532</td><td>13.226553</td><td>1.0506</td><td>33.367055</td><td>3.132372</td><td>0</td></tr><tr><td>62</td><td>5.060071</td><td>2.034798</td><td>0.163648</td><td>0.016205</td><td>66.4</td><td>40.3</td><td>26.1</td><td>6.6</td><td>2.0</td><td>4.0</td><td>139.7</td><td>2.48</td><td>6.7</td><td>1.9</td><td>2.97</td><td>1.25</td><td>3.12</td><td>91.986959</td><td>12.497846</td><td>0.979177</td><td>32.598939</td><td>3.937432</td><td>0</td></tr><tr><td>65</td><td>6.361168</td><td>1.992449</td><td>0.133962</td><td>0.02155</td><td>66.8</td><td>44.4</td><td>22.4</td><td>21.9</td><td>7.3</td><td>3.2</td><td>129.0</td><td>2.62</td><td>6.5</td><td>0.8</td><td>1.01</td><td>1.97</td><td>3.68</td><td>93.563931</td><td>12.610879</td><td>0.9663</td><td>33.467728</td><td>3.845972</td><td>1</td></tr><tr><td>&hellip;</td><td>&hellip;</td><td>&hellip;</td><td>&hellip;</td><td>&hellip;</td><td>&hellip;</td><td>&hellip;</td><td>&hellip;</td><td>&hellip;</td><td>&hellip;</td><td>&hellip;</td><td>&hellip;</td><td>&hellip;</td><td>&hellip;</td><td>&hellip;</td><td>&hellip;</td><td>&hellip;</td><td>&hellip;</td><td>&hellip;</td><td>&hellip;</td><td>&hellip;</td><td>&hellip;</td><td>&hellip;</td><td>&hellip;</td></tr><tr><td>78</td><td>4.264656</td><td>2.039889</td><td>0.148854</td><td>0.011063</td><td>67.6</td><td>43.8</td><td>23.8</td><td>9.4</td><td>2.6</td><td>3.995572</td><td>141.68969</td><td>2.313493</td><td>4.1</td><td>1.6</td><td>0.98</td><td>1.64</td><td>2.27</td><td>93.437168</td><td>12.737771</td><td>1.000282</td><td>32.365866</td><td>3.395373</td><td>1</td></tr><tr><td>79</td><td>12.223952</td><td>2.295769</td><td>0.130617</td><td>0.023364</td><td>67.0</td><td>33.6</td><td>33.4</td><td>16.0</td><td>4.5</td><td>3.9</td><td>132.0</td><td>2.13</td><td>4.3</td><td>0.9</td><td>2.37965</td><td>1.337422</td><td>2.722446</td><td>93.275683</td><td>13.6</td><td>1.03</td><td>30.2</td><td>2.24</td><td>0</td></tr><tr><td>63</td><td>4.594323</td><td>2.105258</td><td>0.160601</td><td>0.013115</td><td>74.2</td><td>44.3</td><td>29.9</td><td>9.9</td><td>2.7</td><td>4.043889</td><td>141.457426</td><td>2.345932</td><td>3.6</td><td>0.6</td><td>3.85</td><td>1.01</td><td>2.48</td><td>91.645416</td><td>12.581603</td><td>0.991468</td><td>32.411425</td><td>3.455266</td><td>1</td></tr><tr><td>61</td><td>7.01</td><td>0.81</td><td>0.06</td><td>0.0</td><td>58.5</td><td>37.6</td><td>20.9</td><td>2.9</td><td>1.3</td><td>3.4</td><td>142.0</td><td>2.18</td><td>5.5</td><td>0.8</td><td>1.13</td><td>1.06</td><td>1.94</td><td>98.1</td><td>13.265743</td><td>1.052638</td><td>33.815014</td><td>3.379694</td><td>0</td></tr><tr><td>55</td><td>6.28</td><td>2.31</td><td>0.24</td><td>0.03</td><td>57.1</td><td>34.7</td><td>22.4</td><td>5.4</td><td>1.6</td><td>4.2</td><td>144.0</td><td>2.23</td><td>4.5</td><td>1.1</td><td>1.917397</td><td>1.328154</td><td>3.039262</td><td>94.6</td><td>11.7</td><td>0.86</td><td>37.8</td><td>4.0</td><td>0</td></tr><tr><td>57</td><td>9.51</td><td>2.49</td><td>0.08</td><td>0.05</td><td>70.1</td><td>36.9</td><td>33.2</td><td>2.1</td><td>0.9</td><td>4.040867</td><td>141.699474</td><td>2.188405</td><td>5.345867</td><td>2.7</td><td>7.1</td><td>0.82</td><td>3.97</td><td>82.6</td><td>12.3</td><td>0.9</td><td>38.3</td><td>4.53</td><td>0</td></tr><tr><td>72</td><td>3.33</td><td>3.1</td><td>0.21</td><td>0.0</td><td>68.2</td><td>43.1</td><td>25.1</td><td>6.6</td><td>2.1</td><td>4.1</td><td>140.0</td><td>2.34</td><td>6.1</td><td>1.4</td><td>1.525548</td><td>1.509507</td><td>2.857773</td><td>102.9</td><td>12.651961</td><td>0.986258</td><td>32.570013</td><td>3.698163</td><td>0</td></tr><tr><td>68</td><td>4.857917</td><td>2.11756</td><td>0.194136</td><td>0.01526</td><td>70.353715</td><td>43.506534</td><td>26.846101</td><td>11.069368</td><td>3.143379</td><td>4.1</td><td>143.0</td><td>2.36</td><td>8.9</td><td>1.09598</td><td>1.67</td><td>1.31196</td><td>3.133671</td><td>92.155536</td><td>12.898219</td><td>1.009225</td><td>33.649698</td><td>3.702692</td><td>0</td></tr><tr><td>53</td><td>3.770986</td><td>2.197268</td><td>0.180861</td><td>0.015753</td><td>76.0</td><td>48.3</td><td>27.7</td><td>18.5</td><td>4.0</td><td>4.127902</td><td>141.998793</td><td>2.419122</td><td>6.0</td><td>0.5</td><td>0.59</td><td>1.51</td><td>2.96</td><td>92.603595</td><td>12.946776</td><td>1.013534</td><td>33.556394</td><td>3.551554</td><td>0</td></tr><tr><td>51</td><td>4.71</td><td>2.97</td><td>0.78</td><td>0.01</td><td>85.1</td><td>46.2</td><td>38.9</td><td>7.5</td><td>2.1</td><td>4.6</td><td>140.0</td><td>2.3</td><td>7.3</td><td>0.8</td><td>2.627766</td><td>1.027138</td><td>3.087092</td><td>65.3</td><td>12.4</td><td>0.92</td><td>35.8</td><td>3.47</td><td>1</td></tr><tr><td>69</td><td>5.99</td><td>2.31</td><td>0.32</td><td>0.0</td><td>63.7</td><td>36.1</td><td>27.6</td><td>9.6</td><td>2.8</td><td>4.2</td><td>142.0</td><td>2.05</td><td>5.1</td><td>0.9</td><td>0.84</td><td>0.89</td><td>1.95</td><td>65.1</td><td>13.2</td><td>1.0</td><td>41.5</td><td>6.08</td><td>0</td></tr><tr><td>61</td><td>4.68</td><td>1.65</td><td>0.24</td><td>0.0</td><td>57.8</td><td>39.2</td><td>18.6</td><td>6.7</td><td>2.4</td><td>3.3</td><td>143.0</td><td>2.29</td><td>4.5</td><td>0.8</td><td>1.788789</td><td>1.399497</td><td>2.922</td><td>96.9</td><td>13.8</td><td>1.05</td><td>49.2</td><td>4.38</td><td>0</td></tr></tbody></table></div>"
      ],
      "text/plain": [
       "shape: (33_287, 24)\n",
       "┌──────┬────────────┬────────────┬────────────┬───┬────────────┬───────────┬───────────┬───────────┐\n",
       "│ 年龄 ┆ 中性粒细胞 ┆ 淋巴细胞数 ┆ 嗜酸性粒细 ┆ … ┆ 国际标准化 ┆ 活化部分  ┆ 纤维蛋白  ┆ 是否高血  │\n",
       "│ ---  ┆ 数         ┆ ---        ┆ 胞数       ┆   ┆ 比值       ┆ 凝血活酶  ┆ 原        ┆ 压        │\n",
       "│ i64  ┆ ---        ┆ f64        ┆ ---        ┆   ┆ ---        ┆ 时间      ┆ ---       ┆ ---       │\n",
       "│      ┆ f64        ┆            ┆ f64        ┆   ┆ f64        ┆ ---       ┆ f64       ┆ i64       │\n",
       "│      ┆            ┆            ┆            ┆   ┆            ┆ f64       ┆           ┆           │\n",
       "╞══════╪════════════╪════════════╪════════════╪═══╪════════════╪═══════════╪═══════════╪═══════════╡\n",
       "│ 79   ┆ 9.26       ┆ 2.14       ┆ 0.18       ┆ … ┆ 1.06193    ┆ 33.946848 ┆ 3.590508  ┆ 0         │\n",
       "│ 73   ┆ 2.89       ┆ 1.33       ┆ 0.13       ┆ … ┆ 0.87       ┆ 26.0      ┆ 2.03      ┆ 0         │\n",
       "│ 65   ┆ 4.68       ┆ 2.13       ┆ 0.2        ┆ … ┆ 0.85       ┆ 27.1      ┆ 2.57      ┆ 0         │\n",
       "│ 44   ┆ 4.603406   ┆ 2.157543   ┆ 0.172844   ┆ … ┆ 1.000874   ┆ 32.554017 ┆ 3.452106  ┆ 0         │\n",
       "│ 53   ┆ 4.8477278  ┆ 1.971421   ┆ 0.163157   ┆ … ┆ 0.96654    ┆ 33.047475 ┆ 3.903806  ┆ 0         │\n",
       "│ …    ┆ …          ┆ …          ┆ …          ┆ … ┆ …          ┆ …         ┆ …         ┆ …         │\n",
       "│ 68   ┆ 4.857917   ┆ 2.11756    ┆ 0.194136   ┆ … ┆ 1.009225   ┆ 33.649698 ┆ 3.702692  ┆ 0         │\n",
       "│ 53   ┆ 3.770986   ┆ 2.197268   ┆ 0.180861   ┆ … ┆ 1.013534   ┆ 33.556394 ┆ 3.551554  ┆ 0         │\n",
       "│ 51   ┆ 4.71       ┆ 2.97       ┆ 0.78       ┆ … ┆ 0.92       ┆ 35.8      ┆ 3.47      ┆ 1         │\n",
       "│ 69   ┆ 5.99       ┆ 2.31       ┆ 0.32       ┆ … ┆ 1.0        ┆ 41.5      ┆ 6.08      ┆ 0         │\n",
       "│ 61   ┆ 4.68       ┆ 1.65       ┆ 0.24       ┆ … ┆ 1.05       ┆ 49.2      ┆ 4.38      ┆ 0         │\n",
       "└──────┴────────────┴────────────┴────────────┴───┴────────────┴───────────┴───────────┴───────────┘"
      ]
     },
     "execution_count": 3,
     "metadata": {},
     "output_type": "execute_result"
    }
   ],
   "source": [
    "raw_data"
   ]
  },
  {
   "cell_type": "code",
   "execution_count": 9,
   "metadata": {},
   "outputs": [
    {
     "data": {
      "text/plain": [
       "(33287, 24)"
      ]
     },
     "execution_count": 9,
     "metadata": {},
     "output_type": "execute_result"
    }
   ],
   "source": [
    "raw_data.shape"
   ]
  },
  {
   "cell_type": "code",
   "execution_count": 10,
   "metadata": {},
   "outputs": [],
   "source": [
    "for c in raw_data.columns:\n",
    "        raw_data = raw_data.filter(pl.col(c) >= 0)"
   ]
  },
  {
   "cell_type": "code",
   "execution_count": 11,
   "metadata": {},
   "outputs": [
    {
     "data": {
      "text/plain": [
       "(33260, 24)"
      ]
     },
     "execution_count": 11,
     "metadata": {},
     "output_type": "execute_result"
    }
   ],
   "source": [
    "raw_data.shape"
   ]
  },
  {
   "cell_type": "code",
   "execution_count": 15,
   "metadata": {},
   "outputs": [
    {
     "data": {
      "text/html": [
       "<div><style>\n",
       ".dataframe > thead > tr,\n",
       ".dataframe > tbody > tr {\n",
       "  text-align: right;\n",
       "  white-space: pre-wrap;\n",
       "}\n",
       "</style>\n",
       "<small>shape: (0, 24)</small><table border=\"1\" class=\"dataframe\"><thead><tr><th>年龄</th><th>中性粒细胞数</th><th>淋巴细胞数</th><th>嗜酸性粒细胞数</th><th>嗜碱性粒细胞数</th><th>总蛋白</th><th>白蛋白</th><th>球蛋白</th><th>总胆红素</th><th>直接胆红素</th><th>钾</th><th>钠</th><th>钙</th><th>尿素氮</th><th>谷草谷丙</th><th>甘油三酯</th><th>高密度脂蛋白</th><th>低密度脂蛋白</th><th>红细胞平均体积</th><th>凝血酶原时间</th><th>国际标准化比值</th><th>活化部分凝血活酶时间</th><th>纤维蛋白原</th><th>是否高血压</th></tr><tr><td>i64</td><td>f64</td><td>f64</td><td>f64</td><td>f64</td><td>f64</td><td>f64</td><td>f64</td><td>f64</td><td>f64</td><td>f64</td><td>f64</td><td>f64</td><td>f64</td><td>f64</td><td>f64</td><td>f64</td><td>f64</td><td>f64</td><td>f64</td><td>f64</td><td>f64</td><td>f64</td><td>i64</td></tr></thead><tbody></tbody></table></div>"
      ],
      "text/plain": [
       "shape: (0, 24)\n",
       "┌──────┬────────────┬────────────┬────────────┬───┬────────────┬───────────┬───────────┬───────────┐\n",
       "│ 年龄 ┆ 中性粒细胞 ┆ 淋巴细胞数 ┆ 嗜酸性粒细 ┆ … ┆ 国际标准化 ┆ 活化部分  ┆ 纤维蛋白  ┆ 是否高血  │\n",
       "│ ---  ┆ 数         ┆ ---        ┆ 胞数       ┆   ┆ 比值       ┆ 凝血活酶  ┆ 原        ┆ 压        │\n",
       "│ i64  ┆ ---        ┆ f64        ┆ ---        ┆   ┆ ---        ┆ 时间      ┆ ---       ┆ ---       │\n",
       "│      ┆ f64        ┆            ┆ f64        ┆   ┆ f64        ┆ ---       ┆ f64       ┆ i64       │\n",
       "│      ┆            ┆            ┆            ┆   ┆            ┆ f64       ┆           ┆           │\n",
       "╞══════╪════════════╪════════════╪════════════╪═══╪════════════╪═══════════╪═══════════╪═══════════╡\n",
       "└──────┴────────────┴────────────┴────────────┴───┴────────────┴───────────┴───────────┴───────────┘"
      ]
     },
     "execution_count": 15,
     "metadata": {},
     "output_type": "execute_result"
    }
   ],
   "source": [
    "# 年龄有些奇怪的值\n",
    "raw_data.with_columns(pl.col('年龄').cast(pl.Int64)).filter(pl.col('年龄') < 0)"
   ]
  },
  {
   "cell_type": "code",
   "execution_count": 4,
   "metadata": {},
   "outputs": [
    {
     "data": {
      "text/html": [
       "<div><style>\n",
       ".dataframe > thead > tr,\n",
       ".dataframe > tbody > tr {\n",
       "  text-align: right;\n",
       "  white-space: pre-wrap;\n",
       "}\n",
       "</style>\n",
       "<small>shape: (1, 24)</small><table border=\"1\" class=\"dataframe\"><thead><tr><th>年龄</th><th>中性粒细胞数</th><th>淋巴细胞数</th><th>嗜酸性粒细胞数</th><th>嗜碱性粒细胞数</th><th>总蛋白</th><th>白蛋白</th><th>球蛋白</th><th>总胆红素</th><th>直接胆红素</th><th>钾</th><th>钠</th><th>钙</th><th>尿素氮</th><th>谷草谷丙</th><th>甘油三酯</th><th>高密度脂蛋白</th><th>低密度脂蛋白</th><th>红细胞平均体积</th><th>凝血酶原时间</th><th>国际标准化比值</th><th>活化部分凝血活酶时间</th><th>纤维蛋白原</th><th>是否高血压</th></tr><tr><td>u32</td><td>u32</td><td>u32</td><td>u32</td><td>u32</td><td>u32</td><td>u32</td><td>u32</td><td>u32</td><td>u32</td><td>u32</td><td>u32</td><td>u32</td><td>u32</td><td>u32</td><td>u32</td><td>u32</td><td>u32</td><td>u32</td><td>u32</td><td>u32</td><td>u32</td><td>u32</td><td>u32</td></tr></thead><tbody><tr><td>0</td><td>0</td><td>0</td><td>0</td><td>0</td><td>0</td><td>0</td><td>0</td><td>0</td><td>0</td><td>0</td><td>0</td><td>0</td><td>0</td><td>0</td><td>0</td><td>0</td><td>0</td><td>0</td><td>0</td><td>0</td><td>0</td><td>0</td><td>0</td></tr></tbody></table></div>"
      ],
      "text/plain": [
       "shape: (1, 24)\n",
       "┌──────┬────────────┬────────────┬────────────┬───┬────────────┬───────────┬───────────┬───────────┐\n",
       "│ 年龄 ┆ 中性粒细胞 ┆ 淋巴细胞数 ┆ 嗜酸性粒细 ┆ … ┆ 国际标准化 ┆ 活化部分  ┆ 纤维蛋白  ┆ 是否高血  │\n",
       "│ ---  ┆ 数         ┆ ---        ┆ 胞数       ┆   ┆ 比值       ┆ 凝血活酶  ┆ 原        ┆ 压        │\n",
       "│ u32  ┆ ---        ┆ u32        ┆ ---        ┆   ┆ ---        ┆ 时间      ┆ ---       ┆ ---       │\n",
       "│      ┆ u32        ┆            ┆ u32        ┆   ┆ u32        ┆ ---       ┆ u32       ┆ u32       │\n",
       "│      ┆            ┆            ┆            ┆   ┆            ┆ u32       ┆           ┆           │\n",
       "╞══════╪════════════╪════════════╪════════════╪═══╪════════════╪═══════════╪═══════════╪═══════════╡\n",
       "│ 0    ┆ 0          ┆ 0          ┆ 0          ┆ … ┆ 0          ┆ 0         ┆ 0         ┆ 0         │\n",
       "└──────┴────────────┴────────────┴────────────┴───┴────────────┴───────────┴───────────┴───────────┘"
      ]
     },
     "execution_count": 4,
     "metadata": {},
     "output_type": "execute_result"
    }
   ],
   "source": [
    "# 筛下奇怪的值\n",
    "data = raw_data.filter(pl.col('年龄') >= 1)\n",
    "data.null_count()"
   ]
  },
  {
   "cell_type": "code",
   "execution_count": 5,
   "metadata": {},
   "outputs": [
    {
     "data": {
      "text/html": [
       "<div><style>\n",
       ".dataframe > thead > tr,\n",
       ".dataframe > tbody > tr {\n",
       "  text-align: right;\n",
       "  white-space: pre-wrap;\n",
       "}\n",
       "</style>\n",
       "<small>shape: (1, 23)</small><table border=\"1\" class=\"dataframe\"><thead><tr><th>年龄</th><th>中性粒细胞数</th><th>淋巴细胞数</th><th>嗜酸性粒细胞数</th><th>嗜碱性粒细胞数</th><th>总蛋白</th><th>白蛋白</th><th>球蛋白</th><th>总胆红素</th><th>直接胆红素</th><th>钾</th><th>钠</th><th>钙</th><th>尿素氮</th><th>谷草谷丙</th><th>甘油三酯</th><th>高密度脂蛋白</th><th>低密度脂蛋白</th><th>红细胞平均体积</th><th>凝血酶原时间</th><th>国际标准化比值</th><th>活化部分凝血活酶时间</th><th>纤维蛋白原</th></tr><tr><td>f64</td><td>f64</td><td>f64</td><td>f64</td><td>f64</td><td>f64</td><td>f64</td><td>f64</td><td>f64</td><td>f64</td><td>f64</td><td>f64</td><td>f64</td><td>f64</td><td>f64</td><td>f64</td><td>f64</td><td>f64</td><td>f64</td><td>f64</td><td>f64</td><td>f64</td><td>f64</td></tr></thead><tbody><tr><td>0.173126</td><td>-0.23544</td><td>0.155703</td><td>0.104577</td><td>-0.029597</td><td>0.389186</td><td>0.435219</td><td>0.036935</td><td>0.074015</td><td>-0.000422</td><td>0.144729</td><td>0.226332</td><td>0.333133</td><td>0.050992</td><td>-0.205804</td><td>0.045469</td><td>-0.025464</td><td>0.077063</td><td>-0.000579</td><td>0.067236</td><td>0.032862</td><td>0.107435</td><td>-0.043088</td></tr></tbody></table></div>"
      ],
      "text/plain": [
       "shape: (1, 23)\n",
       "┌──────────┬───────────┬───────────┬───────────┬───┬───────────┬───────────┬───────────┬───────────┐\n",
       "│ 年龄     ┆ 中性粒细  ┆ 淋巴细胞  ┆ 嗜酸性粒  ┆ … ┆ 凝血酶原  ┆ 国际标准  ┆ 活化部分  ┆ 纤维蛋白  │\n",
       "│ ---      ┆ 胞数      ┆ 数        ┆ 细胞数    ┆   ┆ 时间      ┆ 化比值    ┆ 凝血活酶  ┆ 原        │\n",
       "│ f64      ┆ ---       ┆ ---       ┆ ---       ┆   ┆ ---       ┆ ---       ┆ 时间      ┆ ---       │\n",
       "│          ┆ f64       ┆ f64       ┆ f64       ┆   ┆ f64       ┆ f64       ┆ ---       ┆ f64       │\n",
       "│          ┆           ┆           ┆           ┆   ┆           ┆           ┆ f64       ┆           │\n",
       "╞══════════╪═══════════╪═══════════╪═══════════╪═══╪═══════════╪═══════════╪═══════════╪═══════════╡\n",
       "│ 0.173126 ┆ -0.23544  ┆ 0.155703  ┆ 0.104577  ┆ … ┆ 0.067236  ┆ 0.032862  ┆ 0.107435  ┆ -0.043088 │\n",
       "└──────────┴───────────┴───────────┴───────────┴───┴───────────┴───────────┴───────────┴───────────┘"
      ]
     },
     "execution_count": 5,
     "metadata": {},
     "output_type": "execute_result"
    }
   ],
   "source": [
    "# 算下每个特征和是否高血压的相关度\n",
    "cols = data.columns[:-1]\n",
    "corr = pl.DataFrame()\n",
    "for col in cols:\n",
    "    corr = corr.with_columns(pl.corr(data[col], data['是否高血压']))\n",
    "corr"
   ]
  },
  {
   "cell_type": "code",
   "execution_count": 6,
   "metadata": {},
   "outputs": [
    {
     "name": "stdout",
     "output_type": "stream",
     "text": [
      "['年龄', '中性粒细胞数', '淋巴细胞数', '嗜酸性粒细胞数', '总蛋白', '白蛋白', '钾', '钠', '钙', '谷草谷丙', '活化部分凝血活酶时间']\n",
      "['嗜碱性粒细胞数', '球蛋白', '总胆红素', '直接胆红素', '尿素氮', '甘油三酯', '高密度脂蛋白', '低密度脂蛋白', '红细胞平均体积', '凝血酶原时间', '国际标准化比值', '纤维蛋白原']\n"
     ]
    }
   ],
   "source": [
    "# 选一下相关度值在0.1以上的\n",
    "rel_cols = []\n",
    "discard_cols = []\n",
    "for col in cols:\n",
    "    if abs(corr[col][0]) >= 0.1:\n",
    "        rel_cols.append(col)\n",
    "    else:\n",
    "        discard_cols.append(col)\n",
    "print(rel_cols)\n",
    "print(discard_cols)"
   ]
  },
  {
   "cell_type": "code",
   "execution_count": 7,
   "metadata": {},
   "outputs": [],
   "source": [
    "# 获取x,y\n",
    "raw_x = raw_data.select(rel_cols).to_pandas()\n",
    "raw_y = raw_data.select('是否高血压').to_pandas()"
   ]
  },
  {
   "cell_type": "code",
   "execution_count": 8,
   "metadata": {},
   "outputs": [
    {
     "data": {
      "text/html": [
       "<div>\n",
       "<style scoped>\n",
       "    .dataframe tbody tr th:only-of-type {\n",
       "        vertical-align: middle;\n",
       "    }\n",
       "\n",
       "    .dataframe tbody tr th {\n",
       "        vertical-align: top;\n",
       "    }\n",
       "\n",
       "    .dataframe thead th {\n",
       "        text-align: right;\n",
       "    }\n",
       "</style>\n",
       "<table border=\"1\" class=\"dataframe\">\n",
       "  <thead>\n",
       "    <tr style=\"text-align: right;\">\n",
       "      <th></th>\n",
       "      <th>年龄</th>\n",
       "      <th>中性粒细胞数</th>\n",
       "      <th>淋巴细胞数</th>\n",
       "      <th>嗜酸性粒细胞数</th>\n",
       "      <th>总蛋白</th>\n",
       "      <th>白蛋白</th>\n",
       "      <th>钾</th>\n",
       "      <th>钠</th>\n",
       "      <th>钙</th>\n",
       "      <th>谷草谷丙</th>\n",
       "      <th>活化部分凝血活酶时间</th>\n",
       "    </tr>\n",
       "  </thead>\n",
       "  <tbody>\n",
       "    <tr>\n",
       "      <th>0</th>\n",
       "      <td>79.0</td>\n",
       "      <td>9.260000</td>\n",
       "      <td>2.140000</td>\n",
       "      <td>0.180000</td>\n",
       "      <td>67.948927</td>\n",
       "      <td>39.546489</td>\n",
       "      <td>4.100000</td>\n",
       "      <td>137.200000</td>\n",
       "      <td>2.340000</td>\n",
       "      <td>1.20000</td>\n",
       "      <td>33.946848</td>\n",
       "    </tr>\n",
       "    <tr>\n",
       "      <th>1</th>\n",
       "      <td>73.0</td>\n",
       "      <td>2.890000</td>\n",
       "      <td>1.330000</td>\n",
       "      <td>0.130000</td>\n",
       "      <td>61.000000</td>\n",
       "      <td>40.100000</td>\n",
       "      <td>3.900000</td>\n",
       "      <td>135.800000</td>\n",
       "      <td>2.340000</td>\n",
       "      <td>1.40000</td>\n",
       "      <td>26.000000</td>\n",
       "    </tr>\n",
       "    <tr>\n",
       "      <th>2</th>\n",
       "      <td>65.0</td>\n",
       "      <td>4.680000</td>\n",
       "      <td>2.130000</td>\n",
       "      <td>0.200000</td>\n",
       "      <td>61.500000</td>\n",
       "      <td>39.100000</td>\n",
       "      <td>3.700000</td>\n",
       "      <td>139.400000</td>\n",
       "      <td>2.330000</td>\n",
       "      <td>0.60000</td>\n",
       "      <td>27.100000</td>\n",
       "    </tr>\n",
       "    <tr>\n",
       "      <th>3</th>\n",
       "      <td>44.0</td>\n",
       "      <td>4.603406</td>\n",
       "      <td>2.157543</td>\n",
       "      <td>0.172844</td>\n",
       "      <td>73.600000</td>\n",
       "      <td>40.500000</td>\n",
       "      <td>4.000000</td>\n",
       "      <td>146.300000</td>\n",
       "      <td>2.350000</td>\n",
       "      <td>1.00000</td>\n",
       "      <td>32.554017</td>\n",
       "    </tr>\n",
       "    <tr>\n",
       "      <th>4</th>\n",
       "      <td>53.0</td>\n",
       "      <td>4.847728</td>\n",
       "      <td>1.971421</td>\n",
       "      <td>0.163157</td>\n",
       "      <td>70.900000</td>\n",
       "      <td>41.200000</td>\n",
       "      <td>4.400000</td>\n",
       "      <td>140.200000</td>\n",
       "      <td>2.400000</td>\n",
       "      <td>1.00000</td>\n",
       "      <td>33.047475</td>\n",
       "    </tr>\n",
       "    <tr>\n",
       "      <th>...</th>\n",
       "      <td>...</td>\n",
       "      <td>...</td>\n",
       "      <td>...</td>\n",
       "      <td>...</td>\n",
       "      <td>...</td>\n",
       "      <td>...</td>\n",
       "      <td>...</td>\n",
       "      <td>...</td>\n",
       "      <td>...</td>\n",
       "      <td>...</td>\n",
       "      <td>...</td>\n",
       "    </tr>\n",
       "    <tr>\n",
       "      <th>33282</th>\n",
       "      <td>68.0</td>\n",
       "      <td>4.857917</td>\n",
       "      <td>2.117560</td>\n",
       "      <td>0.194136</td>\n",
       "      <td>70.353715</td>\n",
       "      <td>43.506534</td>\n",
       "      <td>4.100000</td>\n",
       "      <td>143.000000</td>\n",
       "      <td>2.360000</td>\n",
       "      <td>1.09598</td>\n",
       "      <td>33.649698</td>\n",
       "    </tr>\n",
       "    <tr>\n",
       "      <th>33283</th>\n",
       "      <td>53.0</td>\n",
       "      <td>3.770986</td>\n",
       "      <td>2.197268</td>\n",
       "      <td>0.180861</td>\n",
       "      <td>76.000000</td>\n",
       "      <td>48.300000</td>\n",
       "      <td>4.127902</td>\n",
       "      <td>141.998793</td>\n",
       "      <td>2.419122</td>\n",
       "      <td>0.50000</td>\n",
       "      <td>33.556394</td>\n",
       "    </tr>\n",
       "    <tr>\n",
       "      <th>33284</th>\n",
       "      <td>51.0</td>\n",
       "      <td>4.710000</td>\n",
       "      <td>2.970000</td>\n",
       "      <td>0.780000</td>\n",
       "      <td>85.100000</td>\n",
       "      <td>46.200000</td>\n",
       "      <td>4.600000</td>\n",
       "      <td>140.000000</td>\n",
       "      <td>2.300000</td>\n",
       "      <td>0.80000</td>\n",
       "      <td>35.800000</td>\n",
       "    </tr>\n",
       "    <tr>\n",
       "      <th>33285</th>\n",
       "      <td>69.0</td>\n",
       "      <td>5.990000</td>\n",
       "      <td>2.310000</td>\n",
       "      <td>0.320000</td>\n",
       "      <td>63.700000</td>\n",
       "      <td>36.100000</td>\n",
       "      <td>4.200000</td>\n",
       "      <td>142.000000</td>\n",
       "      <td>2.050000</td>\n",
       "      <td>0.90000</td>\n",
       "      <td>41.500000</td>\n",
       "    </tr>\n",
       "    <tr>\n",
       "      <th>33286</th>\n",
       "      <td>61.0</td>\n",
       "      <td>4.680000</td>\n",
       "      <td>1.650000</td>\n",
       "      <td>0.240000</td>\n",
       "      <td>57.800000</td>\n",
       "      <td>39.200000</td>\n",
       "      <td>3.300000</td>\n",
       "      <td>143.000000</td>\n",
       "      <td>2.290000</td>\n",
       "      <td>0.80000</td>\n",
       "      <td>49.200000</td>\n",
       "    </tr>\n",
       "  </tbody>\n",
       "</table>\n",
       "<p>33287 rows × 11 columns</p>\n",
       "</div>"
      ],
      "text/plain": [
       "         年龄    中性粒细胞数     淋巴细胞数   嗜酸性粒细胞数        总蛋白        白蛋白         钾  \\\n",
       "0      79.0  9.260000  2.140000  0.180000  67.948927  39.546489  4.100000   \n",
       "1      73.0  2.890000  1.330000  0.130000  61.000000  40.100000  3.900000   \n",
       "2      65.0  4.680000  2.130000  0.200000  61.500000  39.100000  3.700000   \n",
       "3      44.0  4.603406  2.157543  0.172844  73.600000  40.500000  4.000000   \n",
       "4      53.0  4.847728  1.971421  0.163157  70.900000  41.200000  4.400000   \n",
       "...     ...       ...       ...       ...        ...        ...       ...   \n",
       "33282  68.0  4.857917  2.117560  0.194136  70.353715  43.506534  4.100000   \n",
       "33283  53.0  3.770986  2.197268  0.180861  76.000000  48.300000  4.127902   \n",
       "33284  51.0  4.710000  2.970000  0.780000  85.100000  46.200000  4.600000   \n",
       "33285  69.0  5.990000  2.310000  0.320000  63.700000  36.100000  4.200000   \n",
       "33286  61.0  4.680000  1.650000  0.240000  57.800000  39.200000  3.300000   \n",
       "\n",
       "                钠         钙     谷草谷丙  活化部分凝血活酶时间  \n",
       "0      137.200000  2.340000  1.20000   33.946848  \n",
       "1      135.800000  2.340000  1.40000   26.000000  \n",
       "2      139.400000  2.330000  0.60000   27.100000  \n",
       "3      146.300000  2.350000  1.00000   32.554017  \n",
       "4      140.200000  2.400000  1.00000   33.047475  \n",
       "...           ...       ...      ...         ...  \n",
       "33282  143.000000  2.360000  1.09598   33.649698  \n",
       "33283  141.998793  2.419122  0.50000   33.556394  \n",
       "33284  140.000000  2.300000  0.80000   35.800000  \n",
       "33285  142.000000  2.050000  0.90000   41.500000  \n",
       "33286  143.000000  2.290000  0.80000   49.200000  \n",
       "\n",
       "[33287 rows x 11 columns]"
      ]
     },
     "execution_count": 8,
     "metadata": {},
     "output_type": "execute_result"
    }
   ],
   "source": [
    "raw_x"
   ]
  },
  {
   "cell_type": "code",
   "execution_count": 9,
   "metadata": {},
   "outputs": [
    {
     "data": {
      "text/html": [
       "<div>\n",
       "<style scoped>\n",
       "    .dataframe tbody tr th:only-of-type {\n",
       "        vertical-align: middle;\n",
       "    }\n",
       "\n",
       "    .dataframe tbody tr th {\n",
       "        vertical-align: top;\n",
       "    }\n",
       "\n",
       "    .dataframe thead th {\n",
       "        text-align: right;\n",
       "    }\n",
       "</style>\n",
       "<table border=\"1\" class=\"dataframe\">\n",
       "  <thead>\n",
       "    <tr style=\"text-align: right;\">\n",
       "      <th></th>\n",
       "      <th>是否高血压</th>\n",
       "    </tr>\n",
       "  </thead>\n",
       "  <tbody>\n",
       "    <tr>\n",
       "      <th>0</th>\n",
       "      <td>0</td>\n",
       "    </tr>\n",
       "    <tr>\n",
       "      <th>1</th>\n",
       "      <td>0</td>\n",
       "    </tr>\n",
       "    <tr>\n",
       "      <th>2</th>\n",
       "      <td>0</td>\n",
       "    </tr>\n",
       "    <tr>\n",
       "      <th>3</th>\n",
       "      <td>0</td>\n",
       "    </tr>\n",
       "    <tr>\n",
       "      <th>4</th>\n",
       "      <td>0</td>\n",
       "    </tr>\n",
       "    <tr>\n",
       "      <th>...</th>\n",
       "      <td>...</td>\n",
       "    </tr>\n",
       "    <tr>\n",
       "      <th>33282</th>\n",
       "      <td>0</td>\n",
       "    </tr>\n",
       "    <tr>\n",
       "      <th>33283</th>\n",
       "      <td>0</td>\n",
       "    </tr>\n",
       "    <tr>\n",
       "      <th>33284</th>\n",
       "      <td>1</td>\n",
       "    </tr>\n",
       "    <tr>\n",
       "      <th>33285</th>\n",
       "      <td>0</td>\n",
       "    </tr>\n",
       "    <tr>\n",
       "      <th>33286</th>\n",
       "      <td>0</td>\n",
       "    </tr>\n",
       "  </tbody>\n",
       "</table>\n",
       "<p>33287 rows × 1 columns</p>\n",
       "</div>"
      ],
      "text/plain": [
       "       是否高血压\n",
       "0          0\n",
       "1          0\n",
       "2          0\n",
       "3          0\n",
       "4          0\n",
       "...      ...\n",
       "33282      0\n",
       "33283      0\n",
       "33284      1\n",
       "33285      0\n",
       "33286      0\n",
       "\n",
       "[33287 rows x 1 columns]"
      ]
     },
     "execution_count": 9,
     "metadata": {},
     "output_type": "execute_result"
    }
   ],
   "source": [
    "raw_y"
   ]
  },
  {
   "cell_type": "code",
   "execution_count": 12,
   "metadata": {},
   "outputs": [],
   "source": [
    "lm = linear_model.LinearRegression()\n",
    "# x_train, x_test, y_train, y_test = tra\n",
    "model = lm.fit(raw_x, raw_y)\n",
    "# cross_val_score(lm, raw_x, raw_y, cv=5)\n",
    "# model.score()"
   ]
  },
  {
   "cell_type": "code",
   "execution_count": 14,
   "metadata": {},
   "outputs": [
    {
     "data": {
      "text/plain": [
       "pandas.core.frame.DataFrame"
      ]
     },
     "execution_count": 14,
     "metadata": {},
     "output_type": "execute_result"
    }
   ],
   "source": [
    "type(raw_x)"
   ]
  },
  {
   "cell_type": "code",
   "execution_count": 27,
   "metadata": {},
   "outputs": [],
   "source": [
    "x_pl = pl.from_pandas(raw_x)\n",
    "y_pl = pl.from_pandas(raw_y)\n",
    "for xcol in x_pl.columns:\n",
    "    x_pl = x_pl.with_columns((pl.col(xcol) - pl.col(xcol).mean())/pl.col(xcol).std())"
   ]
  },
  {
   "cell_type": "code",
   "execution_count": 31,
   "metadata": {},
   "outputs": [
    {
     "name": "stderr",
     "output_type": "stream",
     "text": [
      "/tmp/ipykernel_2140/3336041413.py:1: DeprecationWarning: `is_not` is deprecated. It has been renamed to `not_`.\n",
      "  y_pl.filter(pl.col('是否高血压').is_in([1,0]).is_not())\n"
     ]
    },
    {
     "data": {
      "text/html": [
       "<div><style>\n",
       ".dataframe > thead > tr,\n",
       ".dataframe > tbody > tr {\n",
       "  text-align: right;\n",
       "  white-space: pre-wrap;\n",
       "}\n",
       "</style>\n",
       "<small>shape: (0, 1)</small><table border=\"1\" class=\"dataframe\"><thead><tr><th>是否高血压</th></tr><tr><td>i64</td></tr></thead><tbody></tbody></table></div>"
      ],
      "text/plain": [
       "shape: (0, 1)\n",
       "┌────────────┐\n",
       "│ 是否高血压 │\n",
       "│ ---        │\n",
       "│ i64        │\n",
       "╞════════════╡\n",
       "└────────────┘"
      ]
     },
     "execution_count": 31,
     "metadata": {},
     "output_type": "execute_result"
    }
   ],
   "source": [
    "y_pl.filter(pl.col('是否高血压').is_in([1,0]).is_not())"
   ]
  },
  {
   "cell_type": "code",
   "execution_count": 51,
   "metadata": {},
   "outputs": [
    {
     "name": "stdout",
     "output_type": "stream",
     "text": [
      "33287 11095\n",
      "0 0 11095\n",
      "1 11095 22190\n",
      "2 22190 33287\n"
     ]
    }
   ],
   "source": [
    "folds = 3\n",
    "data_partitions = []\n",
    "data_cnts = x_pl.shape[0]\n",
    "part_size = data_cnts // folds\n",
    "for f in range(folds):\n",
    "    # data_partitions.append(x_pl[:part_size * f], y_pl[])\n",
    "    l = f * part_size\n",
    "    if f == folds-1:\n",
    "        r = data_cnts\n",
    "    else:\n",
    "        r = (f+1) * part_size\n",
    "    train_x = pl.concat([x_pl[:l], x_pl[r:]])\n",
    "    train_y = pl.concat([y_pl[:l], y_pl[r:]])\n",
    "    test_x = x_pl[l:r]\n",
    "    test_y = y_pl[l:r]\n",
    "    data_partitions.append((train_x, train_y, test_x, test_y))"
   ]
  },
  {
   "cell_type": "code",
   "execution_count": 78,
   "metadata": {},
   "outputs": [],
   "source": [
    "xc = pl.concat([data_partitions[2][0], data_partitions[2][2]]).sort(by=xc.columns)"
   ]
  },
  {
   "cell_type": "code",
   "execution_count": 79,
   "metadata": {},
   "outputs": [
    {
     "data": {
      "text/plain": [
       "True"
      ]
     },
     "execution_count": 79,
     "metadata": {},
     "output_type": "execute_result"
    }
   ],
   "source": [
    "xc.equals(x_pl.sort(by=xc.columns))"
   ]
  },
  {
   "cell_type": "code",
   "execution_count": 74,
   "metadata": {},
   "outputs": [
    {
     "data": {
      "text/html": [
       "<div><style>\n",
       ".dataframe > thead > tr,\n",
       ".dataframe > tbody > tr {\n",
       "  text-align: right;\n",
       "  white-space: pre-wrap;\n",
       "}\n",
       "</style>\n",
       "<small>shape: (33_287, 11)</small><table border=\"1\" class=\"dataframe\"><thead><tr><th>年龄</th><th>中性粒细胞数</th><th>淋巴细胞数</th><th>嗜酸性粒细胞数</th><th>总蛋白</th><th>白蛋白</th><th>钾</th><th>钠</th><th>钙</th><th>谷草谷丙</th><th>活化部分凝血活酶时间</th></tr><tr><td>f64</td><td>f64</td><td>f64</td><td>f64</td><td>f64</td><td>f64</td><td>f64</td><td>f64</td><td>f64</td><td>f64</td><td>f64</td></tr></thead><tbody><tr><td>-3.208425</td><td>0.14092</td><td>0.702322</td><td>-0.716653</td><td>-0.936846</td><td>-0.747874</td><td>-0.244303</td><td>-0.191422</td><td>-0.567105</td><td>0.571598</td><td>1.204399</td></tr><tr><td>-3.208425</td><td>0.106886</td><td>0.318584</td><td>0.11869</td><td>0.89601</td><td>0.363986</td><td>-0.662101</td><td>0.281304</td><td>1.244152</td><td>0.097707</td><td>0.11942</td></tr><tr><td>-3.208425</td><td>-0.559455</td><td>1.009042</td><td>-0.287172</td><td>-2.351918</td><td>-0.747874</td><td>-2.212155</td><td>1.548552</td><td>-0.611816</td><td>-0.534148</td><td>0.110006</td></tr><tr><td>-3.208425</td><td>1.36429</td><td>-0.907638</td><td>-0.223642</td><td>-3.430069</td><td>-4.385245</td><td>1.662981</td><td>1.126136</td><td>-2.948959</td><td>1.361417</td><td>-0.399338</td></tr><tr><td>-3.208425</td><td>0.168386</td><td>0.57087</td><td>-0.072432</td><td>-3.308777</td><td>-3.845198</td><td>-0.662101</td><td>-0.563529</td><td>3.718775</td><td>0.571598</td><td>-0.156505</td></tr><tr><td>-3.208425</td><td>0.516284</td><td>0.439419</td><td>-0.788233</td><td>-3.699606</td><td>-4.782338</td><td>-1.178785</td><td>-0.141113</td><td>-1.986606</td><td>1.203453</td><td>-0.312905</td></tr><tr><td>-3.208362</td><td>0.223317</td><td>8.939959</td><td>0.571789</td><td>0.983211</td><td>1.329678</td><td>-0.109613</td><td>1.070831</td><td>0.969102</td><td>-0.332405</td><td>7.81243</td></tr><tr><td>-3.208362</td><td>1.147995</td><td>4.704295</td><td>-0.645073</td><td>0.384036</td><td>0.3327</td><td>0.371269</td><td>-0.985945</td><td>0.900454</td><td>-0.045807</td><td>-0.342884</td></tr><tr><td>-3.208362</td><td>-0.408393</td><td>-0.042571</td><td>0.285468</td><td>-2.850563</td><td>-2.606269</td><td>1.146296</td><td>-0.985945</td><td>0.281798</td><td>7.364041</td><td>0.235742</td></tr><tr><td>-3.208362</td><td>-0.005564</td><td>0.045064</td><td>0.786529</td><td>-2.675363</td><td>-2.447432</td><td>0.887954</td><td>-1.873019</td><td>0.419277</td><td>5.784403</td><td>0.182097</td></tr><tr><td>-3.208362</td><td>2.319864</td><td>2.747125</td><td>3.434992</td><td>-3.227915</td><td>-2.272711</td><td>0.629611</td><td>-1.239395</td><td>0.00684</td><td>5.468475</td><td>0.281727</td></tr><tr><td>-3.208362</td><td>1.088486</td><td>1.593272</td><td>0.929689</td><td>-3.039239</td><td>-2.368013</td><td>0.371269</td><td>-2.295435</td><td>1.244152</td><td>5.152548</td><td>0.014269</td></tr><tr><td>&hellip;</td><td>&hellip;</td><td>&hellip;</td><td>&hellip;</td><td>&hellip;</td><td>&hellip;</td><td>&hellip;</td><td>&hellip;</td><td>&hellip;</td><td>&hellip;</td><td>&hellip;</td></tr><tr><td>2.72123</td><td>0.644458</td><td>-1.882894</td><td>-0.931393</td><td>-1.408537</td><td>-1.208502</td><td>-0.662101</td><td>-0.985945</td><td>-1.43669</td><td>-0.060257</td><td>4.711738</td></tr><tr><td>2.783648</td><td>-0.138314</td><td>0.132698</td><td>-0.716653</td><td>-0.519063</td><td>-0.700223</td><td>0.112926</td><td>-2.464401</td><td>-0.336857</td><td>1.993272</td><td>-0.49844</td></tr><tr><td>2.783648</td><td>-0.463325</td><td>-0.174022</td><td>-0.573493</td><td>1.003825</td><td>0.046312</td><td>-0.481261</td><td>-0.352321</td><td>0.144319</td><td>0.729562</td><td>-1.00675</td></tr><tr><td>2.783648</td><td>0.841295</td><td>-2.160403</td><td>1.50233</td><td>-0.496422</td><td>-0.515869</td><td>-0.01271</td><td>-0.280254</td><td>-0.51941</td><td>-0.008354</td><td>-0.49844</td></tr><tr><td>2.783648</td><td>0.282826</td><td>-1.99974</td><td>-1.074553</td><td>0.329981</td><td>-0.573153</td><td>0.371269</td><td>-1.408361</td><td>-0.130639</td><td>-0.692112</td><td>4.203428</td></tr><tr><td>2.846065</td><td>-0.673895</td><td>-1.094184</td><td>-0.287172</td><td>-0.532539</td><td>-0.398432</td><td>0.887954</td><td>-3.098026</td><td>-0.268118</td><td>1.203453</td><td>-0.126714</td></tr><tr><td>2.846065</td><td>0.108877</td><td>0.074275</td><td>-1.074553</td><td>-1.705028</td><td>-3.178082</td><td>-4.795579</td><td>-2.253193</td><td>-2.192825</td><td>0.887526</td><td>-1.769215</td></tr><tr><td>2.846065</td><td>0.232472</td><td>1.082071</td><td>0.213888</td><td>1.017302</td><td>-0.191944</td><td>3.72972</td><td>-2.67561</td><td>0.900454</td><td>0.729562</td><td>0.721232</td></tr><tr><td>2.846065</td><td>2.026897</td><td>-1.824471</td><td>-1.146133</td><td>0.599518</td><td>-1.319688</td><td>1.921323</td><td>-2.67561</td><td>-1.711648</td><td>2.625127</td><td>5.474203</td></tr><tr><td>2.846065</td><td>0.095144</td><td>1.418003</td><td>1.287589</td><td>-1.273768</td><td>-0.668455</td><td>-1.178785</td><td>-0.985945</td><td>0.213059</td><td>1.993272</td><td>-0.193673</td></tr><tr><td>2.846065</td><td>-0.129159</td><td>-0.349291</td><td>-0.000852</td><td>-1.43549</td><td>-0.98613</td><td>-1.178785</td><td>-1.408361</td><td>-0.061899</td><td>1.045489</td><td>-0.341887</td></tr><tr><td>2.9709</td><td>3.464267</td><td>-1.357087</td><td>-1.074553</td><td>-0.89006</td><td>-1.257097</td><td>-0.208988</td><td>-1.149628</td><td>-0.771928</td><td>-0.081395</td><td>-0.600102</td></tr></tbody></table></div>"
      ],
      "text/plain": [
       "shape: (33_287, 11)\n",
       "┌───────────┬───────────┬───────────┬───────────┬───┬───────────┬───────────┬───────────┬──────────┐\n",
       "│ 年龄      ┆ 中性粒细  ┆ 淋巴细胞  ┆ 嗜酸性粒  ┆ … ┆ 钠        ┆ 钙        ┆ 谷草谷丙  ┆ 活化部分 │\n",
       "│ ---       ┆ 胞数      ┆ 数        ┆ 细胞数    ┆   ┆ ---       ┆ ---       ┆ ---       ┆ 凝血活酶 │\n",
       "│ f64       ┆ ---       ┆ ---       ┆ ---       ┆   ┆ f64       ┆ f64       ┆ f64       ┆ 时间     │\n",
       "│           ┆ f64       ┆ f64       ┆ f64       ┆   ┆           ┆           ┆           ┆ ---      │\n",
       "│           ┆           ┆           ┆           ┆   ┆           ┆           ┆           ┆ f64      │\n",
       "╞═══════════╪═══════════╪═══════════╪═══════════╪═══╪═══════════╪═══════════╪═══════════╪══════════╡\n",
       "│ -3.208425 ┆ 0.14092   ┆ 0.702322  ┆ -0.716653 ┆ … ┆ -0.191422 ┆ -0.567105 ┆ 0.571598  ┆ 1.204399 │\n",
       "│ -3.208425 ┆ 0.106886  ┆ 0.318584  ┆ 0.11869   ┆ … ┆ 0.281304  ┆ 1.244152  ┆ 0.097707  ┆ 0.11942  │\n",
       "│ -3.208425 ┆ -0.559455 ┆ 1.009042  ┆ -0.287172 ┆ … ┆ 1.548552  ┆ -0.611816 ┆ -0.534148 ┆ 0.110006 │\n",
       "│ -3.208425 ┆ 1.36429   ┆ -0.907638 ┆ -0.223642 ┆ … ┆ 1.126136  ┆ -2.948959 ┆ 1.361417  ┆ -0.39933 │\n",
       "│           ┆           ┆           ┆           ┆   ┆           ┆           ┆           ┆ 8        │\n",
       "│ -3.208425 ┆ 0.168386  ┆ 0.57087   ┆ -0.072432 ┆ … ┆ -0.563529 ┆ 3.718775  ┆ 0.571598  ┆ -0.15650 │\n",
       "│           ┆           ┆           ┆           ┆   ┆           ┆           ┆           ┆ 5        │\n",
       "│ …         ┆ …         ┆ …         ┆ …         ┆ … ┆ …         ┆ …         ┆ …         ┆ …        │\n",
       "│ 2.846065  ┆ 0.232472  ┆ 1.082071  ┆ 0.213888  ┆ … ┆ -2.67561  ┆ 0.900454  ┆ 0.729562  ┆ 0.721232 │\n",
       "│ 2.846065  ┆ 2.026897  ┆ -1.824471 ┆ -1.146133 ┆ … ┆ -2.67561  ┆ -1.711648 ┆ 2.625127  ┆ 5.474203 │\n",
       "│ 2.846065  ┆ 0.095144  ┆ 1.418003  ┆ 1.287589  ┆ … ┆ -0.985945 ┆ 0.213059  ┆ 1.993272  ┆ -0.19367 │\n",
       "│           ┆           ┆           ┆           ┆   ┆           ┆           ┆           ┆ 3        │\n",
       "│ 2.846065  ┆ -0.129159 ┆ -0.349291 ┆ -0.000852 ┆ … ┆ -1.408361 ┆ -0.061899 ┆ 1.045489  ┆ -0.34188 │\n",
       "│           ┆           ┆           ┆           ┆   ┆           ┆           ┆           ┆ 7        │\n",
       "│ 2.9709    ┆ 3.464267  ┆ -1.357087 ┆ -1.074553 ┆ … ┆ -1.149628 ┆ -0.771928 ┆ -0.081395 ┆ -0.60010 │\n",
       "│           ┆           ┆           ┆           ┆   ┆           ┆           ┆           ┆ 2        │\n",
       "└───────────┴───────────┴───────────┴───────────┴───┴───────────┴───────────┴───────────┴──────────┘"
      ]
     },
     "execution_count": 74,
     "metadata": {},
     "output_type": "execute_result"
    }
   ],
   "source": [
    "xc"
   ]
  },
  {
   "cell_type": "code",
   "execution_count": 73,
   "metadata": {},
   "outputs": [
    {
     "data": {
      "text/html": [
       "<div><style>\n",
       ".dataframe > thead > tr,\n",
       ".dataframe > tbody > tr {\n",
       "  text-align: right;\n",
       "  white-space: pre-wrap;\n",
       "}\n",
       "</style>\n",
       "<small>shape: (33_287, 11)</small><table border=\"1\" class=\"dataframe\"><thead><tr><th>年龄</th><th>中性粒细胞数</th><th>淋巴细胞数</th><th>嗜酸性粒细胞数</th><th>总蛋白</th><th>白蛋白</th><th>钾</th><th>钠</th><th>钙</th><th>谷草谷丙</th><th>活化部分凝血活酶时间</th></tr><tr><td>f64</td><td>f64</td><td>f64</td><td>f64</td><td>f64</td><td>f64</td><td>f64</td><td>f64</td><td>f64</td><td>f64</td><td>f64</td></tr></thead><tbody><tr><td>-3.208425</td><td>0.14092</td><td>0.702322</td><td>-0.716653</td><td>-0.936846</td><td>-0.747874</td><td>-0.244303</td><td>-0.191422</td><td>-0.567105</td><td>0.571598</td><td>1.204399</td></tr><tr><td>-3.208425</td><td>0.106886</td><td>0.318584</td><td>0.11869</td><td>0.89601</td><td>0.363986</td><td>-0.662101</td><td>0.281304</td><td>1.244152</td><td>0.097707</td><td>0.11942</td></tr><tr><td>-3.208425</td><td>0.168386</td><td>0.57087</td><td>-0.072432</td><td>-3.308777</td><td>-3.845198</td><td>-0.662101</td><td>-0.563529</td><td>3.718775</td><td>0.571598</td><td>-0.156505</td></tr><tr><td>-3.208425</td><td>0.516284</td><td>0.439419</td><td>-0.788233</td><td>-3.699606</td><td>-4.782338</td><td>-1.178785</td><td>-0.141113</td><td>-1.986606</td><td>1.203453</td><td>-0.312905</td></tr><tr><td>-3.208425</td><td>-0.559455</td><td>1.009042</td><td>-0.287172</td><td>-2.351918</td><td>-0.747874</td><td>-2.212155</td><td>1.548552</td><td>-0.611816</td><td>-0.534148</td><td>0.110006</td></tr><tr><td>-3.208425</td><td>1.36429</td><td>-0.907638</td><td>-0.223642</td><td>-3.430069</td><td>-4.385245</td><td>1.662981</td><td>1.126136</td><td>-2.948959</td><td>1.361417</td><td>-0.399338</td></tr><tr><td>-3.208362</td><td>6.371052</td><td>3.360566</td><td>0.285468</td><td>-2.540595</td><td>-1.732664</td><td>2.69635</td><td>0.154579</td><td>-2.399043</td><td>8.311823</td><td>0.438247</td></tr><tr><td>-3.208362</td><td>0.223317</td><td>8.939959</td><td>0.571789</td><td>0.983211</td><td>1.329678</td><td>-0.109613</td><td>1.070831</td><td>0.969102</td><td>-0.332405</td><td>7.81243</td></tr><tr><td>-3.208362</td><td>1.147995</td><td>4.704295</td><td>-0.645073</td><td>0.384036</td><td>0.3327</td><td>0.371269</td><td>-0.985945</td><td>0.900454</td><td>-0.045807</td><td>-0.342884</td></tr><tr><td>-3.208362</td><td>-0.408393</td><td>-0.042571</td><td>0.285468</td><td>-2.850563</td><td>-2.606269</td><td>1.146296</td><td>-0.985945</td><td>0.281798</td><td>7.364041</td><td>0.235742</td></tr><tr><td>-3.208362</td><td>-0.005564</td><td>0.045064</td><td>0.786529</td><td>-2.675363</td><td>-2.447432</td><td>0.887954</td><td>-1.873019</td><td>0.419277</td><td>5.784403</td><td>0.182097</td></tr><tr><td>-3.208362</td><td>2.319864</td><td>2.747125</td><td>3.434992</td><td>-3.227915</td><td>-2.272711</td><td>0.629611</td><td>-1.239395</td><td>0.00684</td><td>5.468475</td><td>0.281727</td></tr><tr><td>&hellip;</td><td>&hellip;</td><td>&hellip;</td><td>&hellip;</td><td>&hellip;</td><td>&hellip;</td><td>&hellip;</td><td>&hellip;</td><td>&hellip;</td><td>&hellip;</td><td>&hellip;</td></tr><tr><td>2.72123</td><td>0.644458</td><td>-1.882894</td><td>-0.931393</td><td>-1.408537</td><td>-1.208502</td><td>-0.662101</td><td>-0.985945</td><td>-1.43669</td><td>-0.060257</td><td>4.711738</td></tr><tr><td>2.783648</td><td>-0.138314</td><td>0.132698</td><td>-0.716653</td><td>-0.519063</td><td>-0.700223</td><td>0.112926</td><td>-2.464401</td><td>-0.336857</td><td>1.993272</td><td>-0.49844</td></tr><tr><td>2.783648</td><td>-0.463325</td><td>-0.174022</td><td>-0.573493</td><td>1.003825</td><td>0.046312</td><td>-0.481261</td><td>-0.352321</td><td>0.144319</td><td>0.729562</td><td>-1.00675</td></tr><tr><td>2.783648</td><td>0.841295</td><td>-2.160403</td><td>1.50233</td><td>-0.496422</td><td>-0.515869</td><td>-0.01271</td><td>-0.280254</td><td>-0.51941</td><td>-0.008354</td><td>-0.49844</td></tr><tr><td>2.783648</td><td>0.282826</td><td>-1.99974</td><td>-1.074553</td><td>0.329981</td><td>-0.573153</td><td>0.371269</td><td>-1.408361</td><td>-0.130639</td><td>-0.692112</td><td>4.203428</td></tr><tr><td>2.846065</td><td>-0.673895</td><td>-1.094184</td><td>-0.287172</td><td>-0.532539</td><td>-0.398432</td><td>0.887954</td><td>-3.098026</td><td>-0.268118</td><td>1.203453</td><td>-0.126714</td></tr><tr><td>2.846065</td><td>0.108877</td><td>0.074275</td><td>-1.074553</td><td>-1.705028</td><td>-3.178082</td><td>-4.795579</td><td>-2.253193</td><td>-2.192825</td><td>0.887526</td><td>-1.769215</td></tr><tr><td>2.846065</td><td>0.232472</td><td>1.082071</td><td>0.213888</td><td>1.017302</td><td>-0.191944</td><td>3.72972</td><td>-2.67561</td><td>0.900454</td><td>0.729562</td><td>0.721232</td></tr><tr><td>2.846065</td><td>2.026897</td><td>-1.824471</td><td>-1.146133</td><td>0.599518</td><td>-1.319688</td><td>1.921323</td><td>-2.67561</td><td>-1.711648</td><td>2.625127</td><td>5.474203</td></tr><tr><td>2.846065</td><td>0.095144</td><td>1.418003</td><td>1.287589</td><td>-1.273768</td><td>-0.668455</td><td>-1.178785</td><td>-0.985945</td><td>0.213059</td><td>1.993272</td><td>-0.193673</td></tr><tr><td>2.846065</td><td>-0.129159</td><td>-0.349291</td><td>-0.000852</td><td>-1.43549</td><td>-0.98613</td><td>-1.178785</td><td>-1.408361</td><td>-0.061899</td><td>1.045489</td><td>-0.341887</td></tr><tr><td>2.9709</td><td>3.464267</td><td>-1.357087</td><td>-1.074553</td><td>-0.89006</td><td>-1.257097</td><td>-0.208988</td><td>-1.149628</td><td>-0.771928</td><td>-0.081395</td><td>-0.600102</td></tr></tbody></table></div>"
      ],
      "text/plain": [
       "shape: (33_287, 11)\n",
       "┌───────────┬───────────┬───────────┬───────────┬───┬───────────┬───────────┬───────────┬──────────┐\n",
       "│ 年龄      ┆ 中性粒细  ┆ 淋巴细胞  ┆ 嗜酸性粒  ┆ … ┆ 钠        ┆ 钙        ┆ 谷草谷丙  ┆ 活化部分 │\n",
       "│ ---       ┆ 胞数      ┆ 数        ┆ 细胞数    ┆   ┆ ---       ┆ ---       ┆ ---       ┆ 凝血活酶 │\n",
       "│ f64       ┆ ---       ┆ ---       ┆ ---       ┆   ┆ f64       ┆ f64       ┆ f64       ┆ 时间     │\n",
       "│           ┆ f64       ┆ f64       ┆ f64       ┆   ┆           ┆           ┆           ┆ ---      │\n",
       "│           ┆           ┆           ┆           ┆   ┆           ┆           ┆           ┆ f64      │\n",
       "╞═══════════╪═══════════╪═══════════╪═══════════╪═══╪═══════════╪═══════════╪═══════════╪══════════╡\n",
       "│ -3.208425 ┆ 0.14092   ┆ 0.702322  ┆ -0.716653 ┆ … ┆ -0.191422 ┆ -0.567105 ┆ 0.571598  ┆ 1.204399 │\n",
       "│ -3.208425 ┆ 0.106886  ┆ 0.318584  ┆ 0.11869   ┆ … ┆ 0.281304  ┆ 1.244152  ┆ 0.097707  ┆ 0.11942  │\n",
       "│ -3.208425 ┆ 0.168386  ┆ 0.57087   ┆ -0.072432 ┆ … ┆ -0.563529 ┆ 3.718775  ┆ 0.571598  ┆ -0.15650 │\n",
       "│           ┆           ┆           ┆           ┆   ┆           ┆           ┆           ┆ 5        │\n",
       "│ -3.208425 ┆ 0.516284  ┆ 0.439419  ┆ -0.788233 ┆ … ┆ -0.141113 ┆ -1.986606 ┆ 1.203453  ┆ -0.31290 │\n",
       "│           ┆           ┆           ┆           ┆   ┆           ┆           ┆           ┆ 5        │\n",
       "│ -3.208425 ┆ -0.559455 ┆ 1.009042  ┆ -0.287172 ┆ … ┆ 1.548552  ┆ -0.611816 ┆ -0.534148 ┆ 0.110006 │\n",
       "│ …         ┆ …         ┆ …         ┆ …         ┆ … ┆ …         ┆ …         ┆ …         ┆ …        │\n",
       "│ 2.846065  ┆ 0.232472  ┆ 1.082071  ┆ 0.213888  ┆ … ┆ -2.67561  ┆ 0.900454  ┆ 0.729562  ┆ 0.721232 │\n",
       "│ 2.846065  ┆ 2.026897  ┆ -1.824471 ┆ -1.146133 ┆ … ┆ -2.67561  ┆ -1.711648 ┆ 2.625127  ┆ 5.474203 │\n",
       "│ 2.846065  ┆ 0.095144  ┆ 1.418003  ┆ 1.287589  ┆ … ┆ -0.985945 ┆ 0.213059  ┆ 1.993272  ┆ -0.19367 │\n",
       "│           ┆           ┆           ┆           ┆   ┆           ┆           ┆           ┆ 3        │\n",
       "│ 2.846065  ┆ -0.129159 ┆ -0.349291 ┆ -0.000852 ┆ … ┆ -1.408361 ┆ -0.061899 ┆ 1.045489  ┆ -0.34188 │\n",
       "│           ┆           ┆           ┆           ┆   ┆           ┆           ┆           ┆ 7        │\n",
       "│ 2.9709    ┆ 3.464267  ┆ -1.357087 ┆ -1.074553 ┆ … ┆ -1.149628 ┆ -0.771928 ┆ -0.081395 ┆ -0.60010 │\n",
       "│           ┆           ┆           ┆           ┆   ┆           ┆           ┆           ┆ 2        │\n",
       "└───────────┴───────────┴───────────┴───────────┴───┴───────────┴───────────┴───────────┴──────────┘"
      ]
     },
     "execution_count": 73,
     "metadata": {},
     "output_type": "execute_result"
    }
   ],
   "source": [
    "x_pl.sort(by='年龄')"
   ]
  }
 ],
 "metadata": {
  "kernelspec": {
   "display_name": "Python 3",
   "language": "python",
   "name": "python3"
  },
  "language_info": {
   "codemirror_mode": {
    "name": "ipython",
    "version": 3
   },
   "file_extension": ".py",
   "mimetype": "text/x-python",
   "name": "python",
   "nbconvert_exporter": "python",
   "pygments_lexer": "ipython3",
   "version": "3.10.12"
  }
 },
 "nbformat": 4,
 "nbformat_minor": 2
}
