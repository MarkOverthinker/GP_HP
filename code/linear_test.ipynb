{
 "cells": [
  {
   "cell_type": "code",
   "execution_count": 5,
   "metadata": {},
   "outputs": [],
   "source": [
    "import numpy as np\n",
    "import pandas as pd\n",
    "import polars as pl\n",
    "import pytomlpp as toml\n",
    "from data_preprocessing import getXY, data_normalizeation\n",
    "from sklearn.model_selection import cross_val_score\n",
    "from sklearn.svm import SVC\n",
    "from tqdm import tqdm"
   ]
  },
  {
   "cell_type": "code",
   "execution_count": 6,
   "metadata": {},
   "outputs": [],
   "source": [
    "cfg = toml.load('/home/gyli/GP_HP/cfg/feature_selection.toml')\n",
    "data_path = cfg['data_path']\n",
    "variance_filter_thres = cfg['variance_filter_thres']\n",
    "raw_x, raw_y = getXY(data_path)\n",
    "# raw_x = data_normalizeation(raw_x)\n",
    "future_names = raw_x.columns\n",
    "pd_x, pd_y = raw_x.to_pandas(), raw_y.to_pandas()\n",
    "svm_clf = SVC()\n",
    "X, Y = raw_x.to_pandas(), np.ravel(raw_y.to_pandas())"
   ]
  },
  {
   "cell_type": "code",
   "execution_count": 7,
   "metadata": {},
   "outputs": [],
   "source": [
    "mb = ['白蛋白', '活化部分凝血活酶时间', '低密度脂蛋白', '钠', '中性粒细胞数', '甘油三酯', '凝血酶原时间']\n",
    "t_x = X[mb]"
   ]
  },
  {
   "cell_type": "code",
   "execution_count": 11,
   "metadata": {},
   "outputs": [
    {
     "name": "stderr",
     "output_type": "stream",
     "text": [
      "                                                  \n",
      "Outer Loop:   0%|          | 0/10 [01:09<?, ?it/s]"
     ]
    },
    {
     "name": "stdout",
     "output_type": "stream",
     "text": [
      "finish one param part, c = 1, gamma = 1.0, score = 0.7258172408060409\n"
     ]
    },
    {
     "name": "stderr",
     "output_type": "stream",
     "text": [
      "                                                  \n",
      "Outer Loop:   0%|          | 0/10 [02:49<?, ?it/s]        "
     ]
    },
    {
     "name": "stdout",
     "output_type": "stream",
     "text": [
      "finish one param part, c = 2, gamma = 1.0, score = 0.726099044348714\n"
     ]
    }
   ],
   "source": [
    "gamma = cfg['gamma']\n",
    "C = cfg['C']\n",
    "best_score = 0.0\n",
    "best_params = {'C' : -1.0, 'gamma' : -1.0}\n",
    "for g in tqdm(gamma, desc='Outer Loop'):\n",
    "    for c in tqdm(C, desc='Inner Loop'):\n",
    "        svm = SVC(kernel='linear',gamma=g, C=c)\n",
    "        # svm.fit(X_SFS1, Y)\n",
    "        scores = cross_val_score(svm, t_x, Y, cv=5, scoring='accuracy')\n",
    "        score = np.mean(scores)\n",
    "        if score > best_score:\n",
    "            best_score = score\n",
    "            best_params['C'] = c\n",
    "            best_params['gamma'] = g\n",
    "        tqdm.write(f'finish one param part, c = {c}, gamma = {g}, score = {score}')\n",
    "tqdm.write(f'best param: C = {best_params[\"C\"]}, gamma = {best_params[\"gamma\"]}, score = {best_score}')"
   ]
  }
 ],
 "metadata": {
  "kernelspec": {
   "display_name": "Python 3 (ipykernel)",
   "language": "python",
   "name": "python3"
  }
 },
 "nbformat": 4,
 "nbformat_minor": 2
}
