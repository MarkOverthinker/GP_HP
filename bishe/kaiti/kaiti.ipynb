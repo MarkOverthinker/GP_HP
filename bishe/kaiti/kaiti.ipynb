{
 "cells": [
  {
   "cell_type": "code",
   "execution_count": 1,
   "metadata": {},
   "outputs": [],
   "source": [
    "import matplotlib.pyplot as plt\n",
    "import pandas as pd\n",
    "\n",
    "tbl = pd.read_excel('hypertension.xlsx')\n"
   ]
  },
  {
   "cell_type": "code",
   "execution_count": 2,
   "metadata": {},
   "outputs": [
    {
     "data": {
      "text/plain": [
       "Index(['年龄', '中性粒细胞数', '淋巴细胞数', '嗜酸性粒细胞数', '嗜碱性粒细胞数', '总蛋白', '白蛋白', '球蛋白',\n",
       "       '总胆红素', '直接胆红素', '钾', '钠', '钙', '尿素氮', '谷草谷丙', '甘油三酯', '高密度脂蛋白',\n",
       "       '低密度脂蛋白', '红细胞平均体积', '凝血酶原时间', '国际标准化比值', '活化部分凝血活酶时间', '纤维蛋白原',\n",
       "       '是否高血压'],\n",
       "      dtype='object')"
      ]
     },
     "execution_count": 2,
     "metadata": {},
     "output_type": "execute_result"
    }
   ],
   "source": [
    "tbl.columns"
   ]
  },
  {
   "cell_type": "code",
   "execution_count": 8,
   "metadata": {},
   "outputs": [
    {
     "data": {
      "text/plain": [
       "年龄            16215\n",
       "中性粒细胞数        16215\n",
       "淋巴细胞数         16215\n",
       "嗜酸性粒细胞数       16215\n",
       "嗜碱性粒细胞数       16215\n",
       "总蛋白           16215\n",
       "白蛋白           16215\n",
       "球蛋白           16215\n",
       "总胆红素          16215\n",
       "直接胆红素         16215\n",
       "钾             16215\n",
       "钠             16215\n",
       "钙             16215\n",
       "尿素氮           16215\n",
       "谷草谷丙          16215\n",
       "甘油三酯          16215\n",
       "高密度脂蛋白        16215\n",
       "低密度脂蛋白        16215\n",
       "红细胞平均体积       16215\n",
       "凝血酶原时间        16215\n",
       "国际标准化比值       16215\n",
       "活化部分凝血活酶时间    16215\n",
       "纤维蛋白原         16215\n",
       "是否高血压         16215\n",
       "dtype: int64"
      ]
     },
     "execution_count": 8,
     "metadata": {},
     "output_type": "execute_result"
    }
   ],
   "source": [
    "tbl[tbl['是否高血压'] == 1].count()"
   ]
  },
  {
   "cell_type": "code",
   "execution_count": 13,
   "metadata": {},
   "outputs": [
    {
     "data": {
      "text/plain": [
       "Text(0.5, 1.0, '五年内是否患上高血压')"
      ]
     },
     "execution_count": 13,
     "metadata": {},
     "output_type": "execute_result"
    },
    {
     "name": "stderr",
     "output_type": "stream",
     "text": [
      "/home/gyli/.local/lib/python3.10/site-packages/IPython/core/events.py:93: UserWarning: Glyph 20116 (\\N{CJK UNIFIED IDEOGRAPH-4E94}) missing from current font.\n",
      "  func(*args, **kwargs)\n",
      "/home/gyli/.local/lib/python3.10/site-packages/IPython/core/events.py:93: UserWarning: Glyph 24180 (\\N{CJK UNIFIED IDEOGRAPH-5E74}) missing from current font.\n",
      "  func(*args, **kwargs)\n",
      "/home/gyli/.local/lib/python3.10/site-packages/IPython/core/events.py:93: UserWarning: Glyph 20869 (\\N{CJK UNIFIED IDEOGRAPH-5185}) missing from current font.\n",
      "  func(*args, **kwargs)\n",
      "/home/gyli/.local/lib/python3.10/site-packages/IPython/core/events.py:93: UserWarning: Glyph 26159 (\\N{CJK UNIFIED IDEOGRAPH-662F}) missing from current font.\n",
      "  func(*args, **kwargs)\n",
      "/home/gyli/.local/lib/python3.10/site-packages/IPython/core/events.py:93: UserWarning: Glyph 21542 (\\N{CJK UNIFIED IDEOGRAPH-5426}) missing from current font.\n",
      "  func(*args, **kwargs)\n",
      "/home/gyli/.local/lib/python3.10/site-packages/IPython/core/events.py:93: UserWarning: Glyph 24739 (\\N{CJK UNIFIED IDEOGRAPH-60A3}) missing from current font.\n",
      "  func(*args, **kwargs)\n",
      "/home/gyli/.local/lib/python3.10/site-packages/IPython/core/events.py:93: UserWarning: Glyph 19978 (\\N{CJK UNIFIED IDEOGRAPH-4E0A}) missing from current font.\n",
      "  func(*args, **kwargs)\n",
      "/home/gyli/.local/lib/python3.10/site-packages/IPython/core/events.py:93: UserWarning: Glyph 39640 (\\N{CJK UNIFIED IDEOGRAPH-9AD8}) missing from current font.\n",
      "  func(*args, **kwargs)\n",
      "/home/gyli/.local/lib/python3.10/site-packages/IPython/core/events.py:93: UserWarning: Glyph 34880 (\\N{CJK UNIFIED IDEOGRAPH-8840}) missing from current font.\n",
      "  func(*args, **kwargs)\n",
      "/home/gyli/.local/lib/python3.10/site-packages/IPython/core/events.py:93: UserWarning: Glyph 21387 (\\N{CJK UNIFIED IDEOGRAPH-538B}) missing from current font.\n",
      "  func(*args, **kwargs)\n",
      "/home/gyli/.local/lib/python3.10/site-packages/IPython/core/pylabtools.py:152: UserWarning: Glyph 20116 (\\N{CJK UNIFIED IDEOGRAPH-4E94}) missing from current font.\n",
      "  fig.canvas.print_figure(bytes_io, **kw)\n",
      "/home/gyli/.local/lib/python3.10/site-packages/IPython/core/pylabtools.py:152: UserWarning: Glyph 24180 (\\N{CJK UNIFIED IDEOGRAPH-5E74}) missing from current font.\n",
      "  fig.canvas.print_figure(bytes_io, **kw)\n",
      "/home/gyli/.local/lib/python3.10/site-packages/IPython/core/pylabtools.py:152: UserWarning: Glyph 20869 (\\N{CJK UNIFIED IDEOGRAPH-5185}) missing from current font.\n",
      "  fig.canvas.print_figure(bytes_io, **kw)\n",
      "/home/gyli/.local/lib/python3.10/site-packages/IPython/core/pylabtools.py:152: UserWarning: Glyph 26159 (\\N{CJK UNIFIED IDEOGRAPH-662F}) missing from current font.\n",
      "  fig.canvas.print_figure(bytes_io, **kw)\n",
      "/home/gyli/.local/lib/python3.10/site-packages/IPython/core/pylabtools.py:152: UserWarning: Glyph 21542 (\\N{CJK UNIFIED IDEOGRAPH-5426}) missing from current font.\n",
      "  fig.canvas.print_figure(bytes_io, **kw)\n",
      "/home/gyli/.local/lib/python3.10/site-packages/IPython/core/pylabtools.py:152: UserWarning: Glyph 24739 (\\N{CJK UNIFIED IDEOGRAPH-60A3}) missing from current font.\n",
      "  fig.canvas.print_figure(bytes_io, **kw)\n",
      "/home/gyli/.local/lib/python3.10/site-packages/IPython/core/pylabtools.py:152: UserWarning: Glyph 19978 (\\N{CJK UNIFIED IDEOGRAPH-4E0A}) missing from current font.\n",
      "  fig.canvas.print_figure(bytes_io, **kw)\n",
      "/home/gyli/.local/lib/python3.10/site-packages/IPython/core/pylabtools.py:152: UserWarning: Glyph 39640 (\\N{CJK UNIFIED IDEOGRAPH-9AD8}) missing from current font.\n",
      "  fig.canvas.print_figure(bytes_io, **kw)\n",
      "/home/gyli/.local/lib/python3.10/site-packages/IPython/core/pylabtools.py:152: UserWarning: Glyph 34880 (\\N{CJK UNIFIED IDEOGRAPH-8840}) missing from current font.\n",
      "  fig.canvas.print_figure(bytes_io, **kw)\n",
      "/home/gyli/.local/lib/python3.10/site-packages/IPython/core/pylabtools.py:152: UserWarning: Glyph 21387 (\\N{CJK UNIFIED IDEOGRAPH-538B}) missing from current font.\n",
      "  fig.canvas.print_figure(bytes_io, **kw)\n"
     ]
    },
    {
     "data": {
      "image/png": "[encoded data removed]",
      "text/plain": [
       "<Figure size 640x480 with 1 Axes>"
      ]
     },
     "metadata": {},
     "output_type": "display_data"
    }
   ],
   "source": [
    "y = [17014, 16215]\n",
    "x = ['No', 'Yes']\n",
    "plt.pie(y, labels=x, autopct='%1.1f%%')\n",
    "plt.title('五年内是否患上高血压')"
   ]
  }
 ],
 "metadata": {
  "kernelspec": {
   "display_name": "Python 3",
   "language": "python",
   "name": "python3"
  },
  "language_info": {
   "codemirror_mode": {
    "name": "ipython",
    "version": 3
   },
   "file_extension": ".py",
   "mimetype": "text/x-python",
   "name": "python",
   "nbconvert_exporter": "python",
   "pygments_lexer": "ipython3",
   "version": "3.10.6"
  }
 },
 "nbformat": 4,
 "nbformat_minor": 2
}
