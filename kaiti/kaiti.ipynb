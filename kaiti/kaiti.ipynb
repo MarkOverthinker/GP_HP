{
 "cells": [
  {
   "cell_type": "code",
   "execution_count": 2,
   "metadata": {},
   "outputs": [],
   "source": [
    "import matplotlib.pyplot as plt\n",
    "import pandas as pd\n",
    "import polars as pl\n"
   ]
  },
  {
   "cell_type": "code",
   "execution_count": 43,
   "metadata": {},
   "outputs": [],
   "source": [
    "raw_data = pl.read_csv('/home/gyli/GP_HP/data/hypertension.csv', dtypes={'年龄' : pl.Float64}).with_columns(pl.col('年龄').cast(pl.Int64))"
   ]
  },
  {
   "cell_type": "code",
   "execution_count": 44,
   "metadata": {},
   "outputs": [
    {
     "data": {
      "text/html": [
       "<div><style>\n",
       ".dataframe > thead > tr,\n",
       ".dataframe > tbody > tr {\n",
       "  text-align: right;\n",
       "  white-space: pre-wrap;\n",
       "}\n",
       "</style>\n",
       "<small>shape: (2, 2)</small><table border=\"1\" class=\"dataframe\"><thead><tr><th>是否高血压</th><th>count</th></tr><tr><td>i64</td><td>u32</td></tr></thead><tbody><tr><td>1</td><td>16215</td></tr><tr><td>0</td><td>17072</td></tr></tbody></table></div>"
      ],
      "text/plain": [
       "shape: (2, 2)\n",
       "┌────────────┬───────┐\n",
       "│ 是否高血压 ┆ count │\n",
       "│ ---        ┆ ---   │\n",
       "│ i64        ┆ u32   │\n",
       "╞════════════╪═══════╡\n",
       "│ 1          ┆ 16215 │\n",
       "│ 0          ┆ 17072 │\n",
       "└────────────┴───────┘"
      ]
     },
     "execution_count": 44,
     "metadata": {},
     "output_type": "execute_result"
    }
   ],
   "source": [
    "raw_data['是否高血压'].value_counts()"
   ]
  },
  {
   "cell_type": "code",
   "execution_count": 34,
   "metadata": {},
   "outputs": [
    {
     "data": {
      "text/plain": [
       "(26, 24)"
      ]
     },
     "execution_count": 34,
     "metadata": {},
     "output_type": "execute_result"
    }
   ],
   "source": [
    "data = raw_data.filter(pl.col('年龄') < 1)\n",
    "data.shape"
   ]
  },
  {
   "cell_type": "code",
   "execution_count": 35,
   "metadata": {},
   "outputs": [],
   "source": [
    "raw_data = raw_data.filter(pl.col('年龄') >= 1)"
   ]
  },
  {
   "cell_type": "code",
   "execution_count": 40,
   "metadata": {},
   "outputs": [
    {
     "data": {
      "text/plain": [
       "(33261, 24)"
      ]
     },
     "execution_count": 40,
     "metadata": {},
     "output_type": "execute_result"
    }
   ],
   "source": [
    "raw_data.shape"
   ]
  },
  {
   "cell_type": "code",
   "execution_count": 36,
   "metadata": {},
   "outputs": [],
   "source": [
    "raw_pd = raw_data.to_pandas()"
   ]
  },
  {
   "cell_type": "code",
   "execution_count": 38,
   "metadata": {},
   "outputs": [],
   "source": [
    "negative_rows = raw_pd[(raw_pd >= 0).all(axis=1)]"
   ]
  },
  {
   "cell_type": "code",
   "execution_count": 39,
   "metadata": {},
   "outputs": [
    {
     "data": {
      "text/html": [
       "<div>\n",
       "<style scoped>\n",
       "    .dataframe tbody tr th:only-of-type {\n",
       "        vertical-align: middle;\n",
       "    }\n",
       "\n",
       "    .dataframe tbody tr th {\n",
       "        vertical-align: top;\n",
       "    }\n",
       "\n",
       "    .dataframe thead th {\n",
       "        text-align: right;\n",
       "    }\n",
       "</style>\n",
       "<table border=\"1\" class=\"dataframe\">\n",
       "  <thead>\n",
       "    <tr style=\"text-align: right;\">\n",
       "      <th></th>\n",
       "      <th>年龄</th>\n",
       "      <th>中性粒细胞数</th>\n",
       "      <th>淋巴细胞数</th>\n",
       "      <th>嗜酸性粒细胞数</th>\n",
       "      <th>嗜碱性粒细胞数</th>\n",
       "      <th>总蛋白</th>\n",
       "      <th>白蛋白</th>\n",
       "      <th>球蛋白</th>\n",
       "      <th>总胆红素</th>\n",
       "      <th>直接胆红素</th>\n",
       "      <th>...</th>\n",
       "      <th>谷草谷丙</th>\n",
       "      <th>甘油三酯</th>\n",
       "      <th>高密度脂蛋白</th>\n",
       "      <th>低密度脂蛋白</th>\n",
       "      <th>红细胞平均体积</th>\n",
       "      <th>凝血酶原时间</th>\n",
       "      <th>国际标准化比值</th>\n",
       "      <th>活化部分凝血活酶时间</th>\n",
       "      <th>纤维蛋白原</th>\n",
       "      <th>是否高血压</th>\n",
       "    </tr>\n",
       "  </thead>\n",
       "  <tbody>\n",
       "    <tr>\n",
       "      <th>0</th>\n",
       "      <td>79</td>\n",
       "      <td>9.260000</td>\n",
       "      <td>2.140000</td>\n",
       "      <td>0.180000</td>\n",
       "      <td>0.030000</td>\n",
       "      <td>67.948927</td>\n",
       "      <td>39.546489</td>\n",
       "      <td>28.401192</td>\n",
       "      <td>10.637813</td>\n",
       "      <td>3.191754</td>\n",
       "      <td>...</td>\n",
       "      <td>1.20000</td>\n",
       "      <td>0.570000</td>\n",
       "      <td>1.100000</td>\n",
       "      <td>1.670000</td>\n",
       "      <td>95.000000</td>\n",
       "      <td>13.323282</td>\n",
       "      <td>1.061930</td>\n",
       "      <td>33.946848</td>\n",
       "      <td>3.590508</td>\n",
       "      <td>0</td>\n",
       "    </tr>\n",
       "    <tr>\n",
       "      <th>1</th>\n",
       "      <td>73</td>\n",
       "      <td>2.890000</td>\n",
       "      <td>1.330000</td>\n",
       "      <td>0.130000</td>\n",
       "      <td>0.020000</td>\n",
       "      <td>61.000000</td>\n",
       "      <td>40.100000</td>\n",
       "      <td>20.900000</td>\n",
       "      <td>12.600000</td>\n",
       "      <td>4.900000</td>\n",
       "      <td>...</td>\n",
       "      <td>1.40000</td>\n",
       "      <td>1.460000</td>\n",
       "      <td>0.850000</td>\n",
       "      <td>0.860000</td>\n",
       "      <td>90.900000</td>\n",
       "      <td>10.400000</td>\n",
       "      <td>0.870000</td>\n",
       "      <td>26.000000</td>\n",
       "      <td>2.030000</td>\n",
       "      <td>0</td>\n",
       "    </tr>\n",
       "    <tr>\n",
       "      <th>2</th>\n",
       "      <td>65</td>\n",
       "      <td>4.680000</td>\n",
       "      <td>2.130000</td>\n",
       "      <td>0.200000</td>\n",
       "      <td>0.060000</td>\n",
       "      <td>61.500000</td>\n",
       "      <td>39.100000</td>\n",
       "      <td>22.400000</td>\n",
       "      <td>13.200000</td>\n",
       "      <td>4.600000</td>\n",
       "      <td>...</td>\n",
       "      <td>0.60000</td>\n",
       "      <td>1.030000</td>\n",
       "      <td>1.200000</td>\n",
       "      <td>3.220000</td>\n",
       "      <td>89.500000</td>\n",
       "      <td>10.200000</td>\n",
       "      <td>0.850000</td>\n",
       "      <td>27.100000</td>\n",
       "      <td>2.570000</td>\n",
       "      <td>0</td>\n",
       "    </tr>\n",
       "    <tr>\n",
       "      <th>3</th>\n",
       "      <td>44</td>\n",
       "      <td>4.603406</td>\n",
       "      <td>2.157543</td>\n",
       "      <td>0.172844</td>\n",
       "      <td>0.009425</td>\n",
       "      <td>73.600000</td>\n",
       "      <td>40.500000</td>\n",
       "      <td>33.100000</td>\n",
       "      <td>14.500000</td>\n",
       "      <td>5.100000</td>\n",
       "      <td>...</td>\n",
       "      <td>1.00000</td>\n",
       "      <td>1.160000</td>\n",
       "      <td>1.250000</td>\n",
       "      <td>3.620000</td>\n",
       "      <td>91.860633</td>\n",
       "      <td>12.714961</td>\n",
       "      <td>1.000874</td>\n",
       "      <td>32.554017</td>\n",
       "      <td>3.452106</td>\n",
       "      <td>0</td>\n",
       "    </tr>\n",
       "    <tr>\n",
       "      <th>4</th>\n",
       "      <td>53</td>\n",
       "      <td>4.847728</td>\n",
       "      <td>1.971421</td>\n",
       "      <td>0.163157</td>\n",
       "      <td>0.017470</td>\n",
       "      <td>70.900000</td>\n",
       "      <td>41.200000</td>\n",
       "      <td>29.700000</td>\n",
       "      <td>17.300000</td>\n",
       "      <td>5.800000</td>\n",
       "      <td>...</td>\n",
       "      <td>1.00000</td>\n",
       "      <td>1.730000</td>\n",
       "      <td>1.770000</td>\n",
       "      <td>3.350000</td>\n",
       "      <td>93.074734</td>\n",
       "      <td>12.533349</td>\n",
       "      <td>0.966540</td>\n",
       "      <td>33.047475</td>\n",
       "      <td>3.903806</td>\n",
       "      <td>0</td>\n",
       "    </tr>\n",
       "    <tr>\n",
       "      <th>...</th>\n",
       "      <td>...</td>\n",
       "      <td>...</td>\n",
       "      <td>...</td>\n",
       "      <td>...</td>\n",
       "      <td>...</td>\n",
       "      <td>...</td>\n",
       "      <td>...</td>\n",
       "      <td>...</td>\n",
       "      <td>...</td>\n",
       "      <td>...</td>\n",
       "      <td>...</td>\n",
       "      <td>...</td>\n",
       "      <td>...</td>\n",
       "      <td>...</td>\n",
       "      <td>...</td>\n",
       "      <td>...</td>\n",
       "      <td>...</td>\n",
       "      <td>...</td>\n",
       "      <td>...</td>\n",
       "      <td>...</td>\n",
       "      <td>...</td>\n",
       "    </tr>\n",
       "    <tr>\n",
       "      <th>33256</th>\n",
       "      <td>68</td>\n",
       "      <td>4.857917</td>\n",
       "      <td>2.117560</td>\n",
       "      <td>0.194136</td>\n",
       "      <td>0.015260</td>\n",
       "      <td>70.353715</td>\n",
       "      <td>43.506534</td>\n",
       "      <td>26.846101</td>\n",
       "      <td>11.069368</td>\n",
       "      <td>3.143379</td>\n",
       "      <td>...</td>\n",
       "      <td>1.09598</td>\n",
       "      <td>1.670000</td>\n",
       "      <td>1.311960</td>\n",
       "      <td>3.133671</td>\n",
       "      <td>92.155536</td>\n",
       "      <td>12.898219</td>\n",
       "      <td>1.009225</td>\n",
       "      <td>33.649698</td>\n",
       "      <td>3.702692</td>\n",
       "      <td>0</td>\n",
       "    </tr>\n",
       "    <tr>\n",
       "      <th>33257</th>\n",
       "      <td>53</td>\n",
       "      <td>3.770986</td>\n",
       "      <td>2.197268</td>\n",
       "      <td>0.180861</td>\n",
       "      <td>0.015753</td>\n",
       "      <td>76.000000</td>\n",
       "      <td>48.300000</td>\n",
       "      <td>27.700000</td>\n",
       "      <td>18.500000</td>\n",
       "      <td>4.000000</td>\n",
       "      <td>...</td>\n",
       "      <td>0.50000</td>\n",
       "      <td>0.590000</td>\n",
       "      <td>1.510000</td>\n",
       "      <td>2.960000</td>\n",
       "      <td>92.603595</td>\n",
       "      <td>12.946776</td>\n",
       "      <td>1.013534</td>\n",
       "      <td>33.556394</td>\n",
       "      <td>3.551554</td>\n",
       "      <td>0</td>\n",
       "    </tr>\n",
       "    <tr>\n",
       "      <th>33258</th>\n",
       "      <td>51</td>\n",
       "      <td>4.710000</td>\n",
       "      <td>2.970000</td>\n",
       "      <td>0.780000</td>\n",
       "      <td>0.010000</td>\n",
       "      <td>85.100000</td>\n",
       "      <td>46.200000</td>\n",
       "      <td>38.900000</td>\n",
       "      <td>7.500000</td>\n",
       "      <td>2.100000</td>\n",
       "      <td>...</td>\n",
       "      <td>0.80000</td>\n",
       "      <td>2.627766</td>\n",
       "      <td>1.027138</td>\n",
       "      <td>3.087092</td>\n",
       "      <td>65.300000</td>\n",
       "      <td>12.400000</td>\n",
       "      <td>0.920000</td>\n",
       "      <td>35.800000</td>\n",
       "      <td>3.470000</td>\n",
       "      <td>1</td>\n",
       "    </tr>\n",
       "    <tr>\n",
       "      <th>33259</th>\n",
       "      <td>69</td>\n",
       "      <td>5.990000</td>\n",
       "      <td>2.310000</td>\n",
       "      <td>0.320000</td>\n",
       "      <td>0.000000</td>\n",
       "      <td>63.700000</td>\n",
       "      <td>36.100000</td>\n",
       "      <td>27.600000</td>\n",
       "      <td>9.600000</td>\n",
       "      <td>2.800000</td>\n",
       "      <td>...</td>\n",
       "      <td>0.90000</td>\n",
       "      <td>0.840000</td>\n",
       "      <td>0.890000</td>\n",
       "      <td>1.950000</td>\n",
       "      <td>65.100000</td>\n",
       "      <td>13.200000</td>\n",
       "      <td>1.000000</td>\n",
       "      <td>41.500000</td>\n",
       "      <td>6.080000</td>\n",
       "      <td>0</td>\n",
       "    </tr>\n",
       "    <tr>\n",
       "      <th>33260</th>\n",
       "      <td>61</td>\n",
       "      <td>4.680000</td>\n",
       "      <td>1.650000</td>\n",
       "      <td>0.240000</td>\n",
       "      <td>0.000000</td>\n",
       "      <td>57.800000</td>\n",
       "      <td>39.200000</td>\n",
       "      <td>18.600000</td>\n",
       "      <td>6.700000</td>\n",
       "      <td>2.400000</td>\n",
       "      <td>...</td>\n",
       "      <td>0.80000</td>\n",
       "      <td>1.788789</td>\n",
       "      <td>1.399497</td>\n",
       "      <td>2.922000</td>\n",
       "      <td>96.900000</td>\n",
       "      <td>13.800000</td>\n",
       "      <td>1.050000</td>\n",
       "      <td>49.200000</td>\n",
       "      <td>4.380000</td>\n",
       "      <td>0</td>\n",
       "    </tr>\n",
       "  </tbody>\n",
       "</table>\n",
       "<p>33235 rows × 24 columns</p>\n",
       "</div>"
      ],
      "text/plain": [
       "       年龄    中性粒细胞数     淋巴细胞数   嗜酸性粒细胞数   嗜碱性粒细胞数        总蛋白        白蛋白  \\\n",
       "0      79  9.260000  2.140000  0.180000  0.030000  67.948927  39.546489   \n",
       "1      73  2.890000  1.330000  0.130000  0.020000  61.000000  40.100000   \n",
       "2      65  4.680000  2.130000  0.200000  0.060000  61.500000  39.100000   \n",
       "3      44  4.603406  2.157543  0.172844  0.009425  73.600000  40.500000   \n",
       "4      53  4.847728  1.971421  0.163157  0.017470  70.900000  41.200000   \n",
       "...    ..       ...       ...       ...       ...        ...        ...   \n",
       "33256  68  4.857917  2.117560  0.194136  0.015260  70.353715  43.506534   \n",
       "33257  53  3.770986  2.197268  0.180861  0.015753  76.000000  48.300000   \n",
       "33258  51  4.710000  2.970000  0.780000  0.010000  85.100000  46.200000   \n",
       "33259  69  5.990000  2.310000  0.320000  0.000000  63.700000  36.100000   \n",
       "33260  61  4.680000  1.650000  0.240000  0.000000  57.800000  39.200000   \n",
       "\n",
       "             球蛋白       总胆红素     直接胆红素  ...     谷草谷丙      甘油三酯    高密度脂蛋白  \\\n",
       "0      28.401192  10.637813  3.191754  ...  1.20000  0.570000  1.100000   \n",
       "1      20.900000  12.600000  4.900000  ...  1.40000  1.460000  0.850000   \n",
       "2      22.400000  13.200000  4.600000  ...  0.60000  1.030000  1.200000   \n",
       "3      33.100000  14.500000  5.100000  ...  1.00000  1.160000  1.250000   \n",
       "4      29.700000  17.300000  5.800000  ...  1.00000  1.730000  1.770000   \n",
       "...          ...        ...       ...  ...      ...       ...       ...   \n",
       "33256  26.846101  11.069368  3.143379  ...  1.09598  1.670000  1.311960   \n",
       "33257  27.700000  18.500000  4.000000  ...  0.50000  0.590000  1.510000   \n",
       "33258  38.900000   7.500000  2.100000  ...  0.80000  2.627766  1.027138   \n",
       "33259  27.600000   9.600000  2.800000  ...  0.90000  0.840000  0.890000   \n",
       "33260  18.600000   6.700000  2.400000  ...  0.80000  1.788789  1.399497   \n",
       "\n",
       "         低密度脂蛋白    红细胞平均体积     凝血酶原时间   国际标准化比值  活化部分凝血活酶时间     纤维蛋白原  是否高血压  \n",
       "0      1.670000  95.000000  13.323282  1.061930   33.946848  3.590508      0  \n",
       "1      0.860000  90.900000  10.400000  0.870000   26.000000  2.030000      0  \n",
       "2      3.220000  89.500000  10.200000  0.850000   27.100000  2.570000      0  \n",
       "3      3.620000  91.860633  12.714961  1.000874   32.554017  3.452106      0  \n",
       "4      3.350000  93.074734  12.533349  0.966540   33.047475  3.903806      0  \n",
       "...         ...        ...        ...       ...         ...       ...    ...  \n",
       "33256  3.133671  92.155536  12.898219  1.009225   33.649698  3.702692      0  \n",
       "33257  2.960000  92.603595  12.946776  1.013534   33.556394  3.551554      0  \n",
       "33258  3.087092  65.300000  12.400000  0.920000   35.800000  3.470000      1  \n",
       "33259  1.950000  65.100000  13.200000  1.000000   41.500000  6.080000      0  \n",
       "33260  2.922000  96.900000  13.800000  1.050000   49.200000  4.380000      0  \n",
       "\n",
       "[33235 rows x 24 columns]"
      ]
     },
     "execution_count": 39,
     "metadata": {},
     "output_type": "execute_result"
    }
   ],
   "source": [
    "negative_rows"
   ]
  },
  {
   "cell_type": "code",
   "execution_count": 42,
   "metadata": {},
   "outputs": [
    {
     "data": {
      "text/html": [
       "<div><style>\n",
       ".dataframe > thead > tr,\n",
       ".dataframe > tbody > tr {\n",
       "  text-align: right;\n",
       "  white-space: pre-wrap;\n",
       "}\n",
       "</style>\n",
       "<small>shape: (2, 2)</small><table border=\"1\" class=\"dataframe\"><thead><tr><th>是否高血压</th><th>count</th></tr><tr><td>i64</td><td>u32</td></tr></thead><tbody><tr><td>1</td><td>16205</td></tr><tr><td>0</td><td>17030</td></tr></tbody></table></div>"
      ],
      "text/plain": [
       "shape: (2, 2)\n",
       "┌────────────┬───────┐\n",
       "│ 是否高血压 ┆ count │\n",
       "│ ---        ┆ ---   │\n",
       "│ i64        ┆ u32   │\n",
       "╞════════════╪═══════╡\n",
       "│ 1          ┆ 16205 │\n",
       "│ 0          ┆ 17030 │\n",
       "└────────────┴───────┘"
      ]
     },
     "execution_count": 42,
     "metadata": {},
     "output_type": "execute_result"
    }
   ],
   "source": [
    "final = pl.from_pandas(negative_rows)\n",
    "final['是否高血压'].value_counts()"
   ]
  },
  {
   "cell_type": "code",
   "execution_count": 11,
   "metadata": {},
   "outputs": [
    {
     "data": {
      "text/html": [
       "<div>\n",
       "<style scoped>\n",
       "    .dataframe tbody tr th:only-of-type {\n",
       "        vertical-align: middle;\n",
       "    }\n",
       "\n",
       "    .dataframe tbody tr th {\n",
       "        vertical-align: top;\n",
       "    }\n",
       "\n",
       "    .dataframe thead th {\n",
       "        text-align: right;\n",
       "    }\n",
       "</style>\n",
       "<table border=\"1\" class=\"dataframe\">\n",
       "  <thead>\n",
       "    <tr style=\"text-align: right;\">\n",
       "      <th></th>\n",
       "      <th>年龄</th>\n",
       "      <th>中性粒细胞数</th>\n",
       "      <th>淋巴细胞数</th>\n",
       "      <th>嗜酸性粒细胞数</th>\n",
       "      <th>嗜碱性粒细胞数</th>\n",
       "      <th>总蛋白</th>\n",
       "      <th>白蛋白</th>\n",
       "      <th>球蛋白</th>\n",
       "      <th>总胆红素</th>\n",
       "      <th>直接胆红素</th>\n",
       "      <th>...</th>\n",
       "      <th>谷草谷丙</th>\n",
       "      <th>甘油三酯</th>\n",
       "      <th>高密度脂蛋白</th>\n",
       "      <th>低密度脂蛋白</th>\n",
       "      <th>红细胞平均体积</th>\n",
       "      <th>凝血酶原时间</th>\n",
       "      <th>国际标准化比值</th>\n",
       "      <th>活化部分凝血活酶时间</th>\n",
       "      <th>纤维蛋白原</th>\n",
       "      <th>是否高血压</th>\n",
       "    </tr>\n",
       "  </thead>\n",
       "  <tbody>\n",
       "  </tbody>\n",
       "</table>\n",
       "<p>0 rows × 24 columns</p>\n",
       "</div>"
      ],
      "text/plain": [
       "Empty DataFrame\n",
       "Columns: [年龄, 中性粒细胞数, 淋巴细胞数, 嗜酸性粒细胞数, 嗜碱性粒细胞数, 总蛋白, 白蛋白, 球蛋白, 总胆红素, 直接胆红素, 钾, 钠, 钙, 尿素氮, 谷草谷丙, 甘油三酯, 高密度脂蛋白, 低密度脂蛋白, 红细胞平均体积, 凝血酶原时间, 国际标准化比值, 活化部分凝血活酶时间, 纤维蛋白原, 是否高血压]\n",
       "Index: []\n",
       "\n",
       "[0 rows x 24 columns]"
      ]
     },
     "execution_count": 11,
     "metadata": {},
     "output_type": "execute_result"
    }
   ],
   "source": [
    "raw_pd[raw_pd.isnull().any(axis=1)]"
   ]
  },
  {
   "cell_type": "code",
   "execution_count": 2,
   "metadata": {},
   "outputs": [
    {
     "data": {
      "text/plain": [
       "Index(['年龄', '中性粒细胞数', '淋巴细胞数', '嗜酸性粒细胞数', '嗜碱性粒细胞数', '总蛋白', '白蛋白', '球蛋白',\n",
       "       '总胆红素', '直接胆红素', '钾', '钠', '钙', '尿素氮', '谷草谷丙', '甘油三酯', '高密度脂蛋白',\n",
       "       '低密度脂蛋白', '红细胞平均体积', '凝血酶原时间', '国际标准化比值', '活化部分凝血活酶时间', '纤维蛋白原',\n",
       "       '是否高血压'],\n",
       "      dtype='object')"
      ]
     },
     "execution_count": 2,
     "metadata": {},
     "output_type": "execute_result"
    }
   ],
   "source": [
    "tbl.columns"
   ]
  },
  {
   "cell_type": "code",
   "execution_count": 8,
   "metadata": {},
   "outputs": [
    {
     "data": {
      "text/plain": [
       "年龄            16215\n",
       "中性粒细胞数        16215\n",
       "淋巴细胞数         16215\n",
       "嗜酸性粒细胞数       16215\n",
       "嗜碱性粒细胞数       16215\n",
       "总蛋白           16215\n",
       "白蛋白           16215\n",
       "球蛋白           16215\n",
       "总胆红素          16215\n",
       "直接胆红素         16215\n",
       "钾             16215\n",
       "钠             16215\n",
       "钙             16215\n",
       "尿素氮           16215\n",
       "谷草谷丙          16215\n",
       "甘油三酯          16215\n",
       "高密度脂蛋白        16215\n",
       "低密度脂蛋白        16215\n",
       "红细胞平均体积       16215\n",
       "凝血酶原时间        16215\n",
       "国际标准化比值       16215\n",
       "活化部分凝血活酶时间    16215\n",
       "纤维蛋白原         16215\n",
       "是否高血压         16215\n",
       "dtype: int64"
      ]
     },
     "execution_count": 8,
     "metadata": {},
     "output_type": "execute_result"
    }
   ],
   "source": [
    "tbl[tbl['是否高血压'] == 1].count()"
   ]
  },
  {
   "cell_type": "code",
   "execution_count": 13,
   "metadata": {},
   "outputs": [
    {
     "data": {
      "text/plain": [
       "Text(0.5, 1.0, '五年内是否患上高血压')"
      ]
     },
     "execution_count": 13,
     "metadata": {},
     "output_type": "execute_result"
    },
    {
     "name": "stderr",
     "output_type": "stream",
     "text": [
      "/home/gyli/.local/lib/python3.10/site-packages/IPython/core/events.py:93: UserWarning: Glyph 20116 (\\N{CJK UNIFIED IDEOGRAPH-4E94}) missing from current font.\n",
      "  func(*args, **kwargs)\n",
      "/home/gyli/.local/lib/python3.10/site-packages/IPython/core/events.py:93: UserWarning: Glyph 24180 (\\N{CJK UNIFIED IDEOGRAPH-5E74}) missing from current font.\n",
      "  func(*args, **kwargs)\n",
      "/home/gyli/.local/lib/python3.10/site-packages/IPython/core/events.py:93: UserWarning: Glyph 20869 (\\N{CJK UNIFIED IDEOGRAPH-5185}) missing from current font.\n",
      "  func(*args, **kwargs)\n",
      "/home/gyli/.local/lib/python3.10/site-packages/IPython/core/events.py:93: UserWarning: Glyph 26159 (\\N{CJK UNIFIED IDEOGRAPH-662F}) missing from current font.\n",
      "  func(*args, **kwargs)\n",
      "/home/gyli/.local/lib/python3.10/site-packages/IPython/core/events.py:93: UserWarning: Glyph 21542 (\\N{CJK UNIFIED IDEOGRAPH-5426}) missing from current font.\n",
      "  func(*args, **kwargs)\n",
      "/home/gyli/.local/lib/python3.10/site-packages/IPython/core/events.py:93: UserWarning: Glyph 24739 (\\N{CJK UNIFIED IDEOGRAPH-60A3}) missing from current font.\n",
      "  func(*args, **kwargs)\n",
      "/home/gyli/.local/lib/python3.10/site-packages/IPython/core/events.py:93: UserWarning: Glyph 19978 (\\N{CJK UNIFIED IDEOGRAPH-4E0A}) missing from current font.\n",
      "  func(*args, **kwargs)\n",
      "/home/gyli/.local/lib/python3.10/site-packages/IPython/core/events.py:93: UserWarning: Glyph 39640 (\\N{CJK UNIFIED IDEOGRAPH-9AD8}) missing from current font.\n",
      "  func(*args, **kwargs)\n",
      "/home/gyli/.local/lib/python3.10/site-packages/IPython/core/events.py:93: UserWarning: Glyph 34880 (\\N{CJK UNIFIED IDEOGRAPH-8840}) missing from current font.\n",
      "  func(*args, **kwargs)\n",
      "/home/gyli/.local/lib/python3.10/site-packages/IPython/core/events.py:93: UserWarning: Glyph 21387 (\\N{CJK UNIFIED IDEOGRAPH-538B}) missing from current font.\n",
      "  func(*args, **kwargs)\n",
      "/home/gyli/.local/lib/python3.10/site-packages/IPython/core/pylabtools.py:152: UserWarning: Glyph 20116 (\\N{CJK UNIFIED IDEOGRAPH-4E94}) missing from current font.\n",
      "  fig.canvas.print_figure(bytes_io, **kw)\n",
      "/home/gyli/.local/lib/python3.10/site-packages/IPython/core/pylabtools.py:152: UserWarning: Glyph 24180 (\\N{CJK UNIFIED IDEOGRAPH-5E74}) missing from current font.\n",
      "  fig.canvas.print_figure(bytes_io, **kw)\n",
      "/home/gyli/.local/lib/python3.10/site-packages/IPython/core/pylabtools.py:152: UserWarning: Glyph 20869 (\\N{CJK UNIFIED IDEOGRAPH-5185}) missing from current font.\n",
      "  fig.canvas.print_figure(bytes_io, **kw)\n",
      "/home/gyli/.local/lib/python3.10/site-packages/IPython/core/pylabtools.py:152: UserWarning: Glyph 26159 (\\N{CJK UNIFIED IDEOGRAPH-662F}) missing from current font.\n",
      "  fig.canvas.print_figure(bytes_io, **kw)\n",
      "/home/gyli/.local/lib/python3.10/site-packages/IPython/core/pylabtools.py:152: UserWarning: Glyph 21542 (\\N{CJK UNIFIED IDEOGRAPH-5426}) missing from current font.\n",
      "  fig.canvas.print_figure(bytes_io, **kw)\n",
      "/home/gyli/.local/lib/python3.10/site-packages/IPython/core/pylabtools.py:152: UserWarning: Glyph 24739 (\\N{CJK UNIFIED IDEOGRAPH-60A3}) missing from current font.\n",
      "  fig.canvas.print_figure(bytes_io, **kw)\n",
      "/home/gyli/.local/lib/python3.10/site-packages/IPython/core/pylabtools.py:152: UserWarning: Glyph 19978 (\\N{CJK UNIFIED IDEOGRAPH-4E0A}) missing from current font.\n",
      "  fig.canvas.print_figure(bytes_io, **kw)\n",
      "/home/gyli/.local/lib/python3.10/site-packages/IPython/core/pylabtools.py:152: UserWarning: Glyph 39640 (\\N{CJK UNIFIED IDEOGRAPH-9AD8}) missing from current font.\n",
      "  fig.canvas.print_figure(bytes_io, **kw)\n",
      "/home/gyli/.local/lib/python3.10/site-packages/IPython/core/pylabtools.py:152: UserWarning: Glyph 34880 (\\N{CJK UNIFIED IDEOGRAPH-8840}) missing from current font.\n",
      "  fig.canvas.print_figure(bytes_io, **kw)\n",
      "/home/gyli/.local/lib/python3.10/site-packages/IPython/core/pylabtools.py:152: UserWarning: Glyph 21387 (\\N{CJK UNIFIED IDEOGRAPH-538B}) missing from current font.\n",
      "  fig.canvas.print_figure(bytes_io, **kw)\n"
     ]
    },
    {
     "data": {
      "image/png": "[encoded data removed]",
      "text/plain": [
       "<Figure size 640x480 with 1 Axes>"
      ]
     },
     "metadata": {},
     "output_type": "display_data"
    }
   ],
   "source": [
    "y = [17014, 16215]\n",
    "x = ['No', 'Yes']\n",
    "plt.pie(y, labels=x, autopct='%1.1f%%')\n",
    "plt.title('五年内是否患上高血压')"
   ]
  }
 ],
 "metadata": {
  "kernelspec": {
   "display_name": "Python 3 (ipykernel)",
   "language": "python",
   "name": "python3"
  }
 },
 "nbformat": 4,
 "nbformat_minor": 2
}
